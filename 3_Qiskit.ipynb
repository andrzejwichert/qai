{
 "cells": [
  {
   "attachments": {},
   "cell_type": "markdown",
   "metadata": {},
   "source": [
    "# Chapter 3: Qiskit\n",
    "\n",
    "$Qiskit$ is an open-source software development kit (SDK) for working with quantum computers at the level of circuits and algorithms , IBM Quantum, https:$//quantum-computing.ibm.com/$"
   ]
  },
  {
   "attachments": {},
   "cell_type": "markdown",
   "metadata": {},
   "source": [
    "##  $Qiskit$ version"
   ]
  },
  {
   "cell_type": "code",
   "execution_count": 71,
   "metadata": {},
   "outputs": [
    {
     "data": {
      "text/html": [
       "<h3>Version Information</h3><table><tr><th>Qiskit Software</th><th>Version</th></tr><tr><td><code>qiskit-terra</code></td><td>0.24.1</td></tr><tr><td><code>qiskit-aer</code></td><td>0.12.1</td></tr><tr><td><code>qiskit-ignis</code></td><td>0.7.1</td></tr><tr><td><code>qiskit-ibmq-provider</code></td><td>0.20.2</td></tr><tr><td><code>qiskit</code></td><td>0.43.2</td></tr><tr><td><code>qiskit-machine-learning</code></td><td>0.5.0</td></tr><tr><th>System information</th></tr><tr><td>Python version</td><td>3.9.12</td></tr><tr><td>Python compiler</td><td>Clang 12.0.1 </td></tr><tr><td>Python build</td><td>main, Mar 24 2022 23:24:38</td></tr><tr><td>OS</td><td>Darwin</td></tr><tr><td>CPUs</td><td>10</td></tr><tr><td>Memory (Gb)</td><td>16.0</td></tr><tr><td colspan='2'>Wed Jul 05 15:34:30 2023 WEST</td></tr></table>"
      ],
      "text/plain": [
       "<IPython.core.display.HTML object>"
      ]
     },
     "metadata": {},
     "output_type": "display_data"
    },
    {
     "data": {
      "text/html": [
       "<div style='width: 100%; background-color:#d5d9e0;padding-left: 10px; padding-bottom: 10px; padding-right: 10px; padding-top: 5px'><h3>This code is a part of Qiskit</h3><p>&copy; Copyright IBM 2017, 2023.</p><p>This code is licensed under the Apache License, Version 2.0. You may<br>obtain a copy of this license in the LICENSE.txt file in the root directory<br> of this source tree or at http://www.apache.org/licenses/LICENSE-2.0.<p>Any modifications or derivative works of this code must retain this<br>copyright notice, and modified files need to carry a notice indicating<br>that they have been altered from the originals.</p></div>"
      ],
      "text/plain": [
       "<IPython.core.display.HTML object>"
      ]
     },
     "metadata": {},
     "output_type": "display_data"
    }
   ],
   "source": [
    "import qiskit.tools.jupyter\n",
    "%qiskit_version_table\n",
    "%qiskit_copyright"
   ]
  },
  {
   "attachments": {},
   "cell_type": "markdown",
   "metadata": {},
   "source": [
    "# Example: Quantum Coin\n",
    "\n",
    "We start with a very simple example, the quantum coin. The quantum coin is defined with the basis stat as $| 0  \\rangle$\n",
    "\n",
    " \\begin{equation}\n",
    "H \\cdot | 0  \\rangle = \\frac{1}{\\sqrt{2}} \\cdot  | 0 \\rangle+ \\frac{1}{\\sqrt{2}} \\cdot  |1 \\rangle\n",
    "\\end{equation}\n"
   ]
  },
  {
   "attachments": {},
   "cell_type": "markdown",
   "metadata": {},
   "source": [
    "first we load the necessary libraries "
   ]
  },
  {
   "cell_type": "code",
   "execution_count": 72,
   "metadata": {},
   "outputs": [],
   "source": [
    "from qiskit import QuantumCircuit, Aer,execute\n",
    "from qiskit.visualization import plot_histogram"
   ]
  },
  {
   "attachments": {},
   "cell_type": "markdown",
   "metadata": {},
   "source": [
    "Hadamard  matrix $H$ is represented in  $qiskit$  by the Hadamard gate $qc.h(qubit)$ where $qc$ is a quantum circuit with the name $qc$.\n",
    "First we define a quantum circuit and draw it"
   ]
  },
  {
   "cell_type": "code",
   "execution_count": 73,
   "metadata": {},
   "outputs": [
    {
     "data": {
      "text/html": [
       "<pre style=\"word-wrap: normal;white-space: pre;background: #fff0;line-height: 1.1;font-family: &quot;Courier New&quot;,Courier,monospace\">   ┌───┐\n",
       "q: ┤ H ├\n",
       "   └───┘</pre>"
      ],
      "text/plain": [
       "   ┌───┐\n",
       "q: ┤ H ├\n",
       "   └───┘"
      ]
     },
     "execution_count": 73,
     "metadata": {},
     "output_type": "execute_result"
    }
   ],
   "source": [
    "qc = QuantumCircuit(1)\n",
    "\n",
    "qc.h(0)\n",
    "\n",
    "qc.draw()"
   ]
  },
  {
   "attachments": {},
   "cell_type": "markdown",
   "metadata": {},
   "source": [
    "In the next step we will perform a  $statevector$  simulation and plot the result in a histogram. Two generated new states represented by one qubit. The state vector of the circuit can represent the probability values that correspond to the multiplication of the state vector by the unitary matrix $H$. Total count are: $\\{'0': 0.5, '1': 0.5\\}$ indicating the probability values."
   ]
  },
  {
   "cell_type": "code",
   "execution_count": 74,
   "metadata": {},
   "outputs": [
    {
     "name": "stdout",
     "output_type": "stream",
     "text": [
      "\n",
      "Total count are: {'0': 0.5, '1': 0.5}\n"
     ]
    },
    {
     "data": {
      "image/png": "[encoded data removed]",
      "text/plain": [
       "<Figure size 504x360 with 1 Axes>"
      ]
     },
     "execution_count": 74,
     "metadata": {},
     "output_type": "execute_result"
    }
   ],
   "source": [
    "\n",
    "simulator = Aer.get_backend('statevector_simulator')\n",
    "result=execute(qc,simulator).result()\n",
    "counts = result.get_counts()\n",
    "print(\"\\nTotal count are:\",counts)\n",
    "plot_histogram(counts)"
   ]
  },
  {
   "attachments": {},
   "cell_type": "markdown",
   "metadata": {},
   "source": [
    "We can represent the state vector before the measurement indicating its amplitude values using the build in LaTeX command "
   ]
  },
  {
   "cell_type": "code",
   "execution_count": 75,
   "metadata": {},
   "outputs": [
    {
     "data": {
      "text/latex": [
       "$$\n",
       "\\text{Statevector} = \n",
       "\\begin{bmatrix}\n",
       "\\frac{\\sqrt{2}}{2} & \\frac{\\sqrt{2}}{2}  \\\\\n",
       " \\end{bmatrix}\n",
       "$$"
      ],
      "text/plain": [
       "<IPython.core.display.Latex object>"
      ]
     },
     "execution_count": 75,
     "metadata": {},
     "output_type": "execute_result"
    }
   ],
   "source": [
    "final_state = execute(qc,simulator).result().get_statevector()\n",
    "\n",
    "from qiskit.visualization import array_to_latex\n",
    "array_to_latex(final_state, prefix=\"\\\\text{Statevector} = \")"
   ]
  },
  {
   "attachments": {},
   "cell_type": "markdown",
   "metadata": {},
   "source": [
    "If we change out quantum circuit to represent the mapping using a NOT gate $X$, we get different amplitudes"
   ]
  },
  {
   "cell_type": "code",
   "execution_count": 76,
   "metadata": {},
   "outputs": [
    {
     "data": {
      "text/html": [
       "<pre style=\"word-wrap: normal;white-space: pre;background: #fff0;line-height: 1.1;font-family: &quot;Courier New&quot;,Courier,monospace\">   ┌───┐┌───┐\n",
       "q: ┤ X ├┤ H ├\n",
       "   └───┘└───┘</pre>"
      ],
      "text/plain": [
       "   ┌───┐┌───┐\n",
       "q: ┤ X ├┤ H ├\n",
       "   └───┘└───┘"
      ]
     },
     "execution_count": 76,
     "metadata": {},
     "output_type": "execute_result"
    }
   ],
   "source": [
    "qc = QuantumCircuit(1)\n",
    "\n",
    "qc.x(0)\n",
    "qc.h(0)\n",
    "\n",
    "qc.draw()"
   ]
  },
  {
   "cell_type": "code",
   "execution_count": 77,
   "metadata": {},
   "outputs": [
    {
     "name": "stdout",
     "output_type": "stream",
     "text": [
      "\n",
      "Total count are: {'0': 0.5, '1': 0.5}\n"
     ]
    },
    {
     "data": {
      "image/png": "[encoded data removed]",
      "text/plain": [
       "<Figure size 504x360 with 1 Axes>"
      ]
     },
     "execution_count": 77,
     "metadata": {},
     "output_type": "execute_result"
    }
   ],
   "source": [
    "\n",
    "simulator = Aer.get_backend('statevector_simulator')\n",
    "result=execute(qc,simulator).result()\n",
    "counts = result.get_counts()\n",
    "print(\"\\nTotal count are:\",counts)\n",
    "plot_histogram(counts)"
   ]
  },
  {
   "cell_type": "code",
   "execution_count": 78,
   "metadata": {},
   "outputs": [
    {
     "data": {
      "text/latex": [
       "$$\n",
       "\\text{Statevector} = \n",
       "\\begin{bmatrix}\n",
       "\\frac{\\sqrt{2}}{2} & - \\frac{\\sqrt{2}}{2}  \\\\\n",
       " \\end{bmatrix}\n",
       "$$"
      ],
      "text/plain": [
       "<IPython.core.display.Latex object>"
      ]
     },
     "execution_count": 78,
     "metadata": {},
     "output_type": "execute_result"
    }
   ],
   "source": [
    "final_state = execute(qc,simulator).result().get_statevector()\n",
    "\n",
    "from qiskit.visualization import array_to_latex\n",
    "array_to_latex(final_state, prefix=\"\\\\text{Statevector} = \")"
   ]
  },
  {
   "cell_type": "code",
   "execution_count": 79,
   "metadata": {},
   "outputs": [
    {
     "name": "stdout",
     "output_type": "stream",
     "text": [
      "Statevector([ 0.70710678+0.00000000e+00j, -0.70710678-8.65956056e-17j],\n",
      "            dims=(2,))\n"
     ]
    }
   ],
   "source": [
    "\n",
    "print(final_state)"
   ]
  },
  {
   "attachments": {},
   "cell_type": "markdown",
   "metadata": {},
   "source": [
    "## Qasm Simulator Evaluation\n",
    "\n",
    "The $qasm simulator$ promises to behave like an actual device of today, which is prone to noise resulting from decoherence. \n",
    "It returns couns, which is a sampling of the measured qubits that have to be defined in the circuit, the measured values are stored in conventional bits.\n",
    "In our example of quantum coin we define by the command $qc = QuantumCircuit(1,1)$ a quantum circuit, the first number indicates the number of quantum qubits, the second of conventional bits.\n",
    "The command $qc.measure(0,0)$ indicated that we measure the qubit (the counting begins with zero and not one) and \n",
    "store the result of the measurement in the conventional bit $c$"
   ]
  },
  {
   "cell_type": "code",
   "execution_count": 80,
   "metadata": {},
   "outputs": [
    {
     "data": {
      "text/html": [
       "<pre style=\"word-wrap: normal;white-space: pre;background: #fff0;line-height: 1.1;font-family: &quot;Courier New&quot;,Courier,monospace\">     ┌───┐┌─┐\n",
       "  q: ┤ H ├┤M├\n",
       "     └───┘└╥┘\n",
       "c: 1/══════╩═\n",
       "           0 </pre>"
      ],
      "text/plain": [
       "     ┌───┐┌─┐\n",
       "  q: ┤ H ├┤M├\n",
       "     └───┘└╥┘\n",
       "c: 1/══════╩═\n",
       "           0 "
      ]
     },
     "execution_count": 80,
     "metadata": {},
     "output_type": "execute_result"
    }
   ],
   "source": [
    "qc = QuantumCircuit(1,1)\n",
    "\n",
    "qc.h(0)\n",
    "\n",
    "qc.measure(0,0)\n",
    "\n",
    "qc.draw()"
   ]
  },
  {
   "attachments": {},
   "cell_type": "markdown",
   "metadata": {},
   "source": [
    "The command $result=execute(qc,simulator,shots=10).result()$ executes the simulator $10$ times, the number of samples (shots) is  indicated by the command $qc,simulator,shots=10$.  A  histogram represents the frequency of the two states $0$ and $1$   as measured by one bit"
   ]
  },
  {
   "cell_type": "code",
   "execution_count": 81,
   "metadata": {},
   "outputs": [
    {
     "name": "stdout",
     "output_type": "stream",
     "text": [
      "\n",
      "Total count are: {'1': 5, '0': 5}\n"
     ]
    },
    {
     "data": {
      "image/png": "[encoded data removed]",
      "text/plain": [
       "<Figure size 504x360 with 1 Axes>"
      ]
     },
     "execution_count": 81,
     "metadata": {},
     "output_type": "execute_result"
    }
   ],
   "source": [
    "simulator = Aer.get_backend('qasm_simulator')\n",
    "result=execute(qc,simulator,shots=10).result()\n",
    "counts = result.get_counts()\n",
    "print(\"\\nTotal count are:\",counts)\n",
    "plot_histogram(counts)"
   ]
  },
  {
   "attachments": {},
   "cell_type": "markdown",
   "metadata": {},
   "source": [
    "The number of samples is $100$"
   ]
  },
  {
   "cell_type": "code",
   "execution_count": 82,
   "metadata": {},
   "outputs": [
    {
     "name": "stdout",
     "output_type": "stream",
     "text": [
      "\n",
      "Total count are: {'0': 55, '1': 45}\n"
     ]
    },
    {
     "data": {
      "image/png": "[encoded data removed]",
      "text/plain": [
       "<Figure size 504x360 with 1 Axes>"
      ]
     },
     "execution_count": 82,
     "metadata": {},
     "output_type": "execute_result"
    }
   ],
   "source": [
    "simulator = Aer.get_backend('qasm_simulator')\n",
    "result=execute(qc,simulator,shots=100).result()\n",
    "counts = result.get_counts()\n",
    "print(\"\\nTotal count are:\",counts)\n",
    "plot_histogram(counts)"
   ]
  },
  {
   "attachments": {},
   "cell_type": "markdown",
   "metadata": {},
   "source": [
    "The number of samples is $1000$"
   ]
  },
  {
   "cell_type": "code",
   "execution_count": 83,
   "metadata": {},
   "outputs": [
    {
     "name": "stdout",
     "output_type": "stream",
     "text": [
      "\n",
      "Total count are: {'1': 497, '0': 503}\n"
     ]
    },
    {
     "data": {
      "image/png": "[encoded data removed]",
      "text/plain": [
       "<Figure size 504x360 with 1 Axes>"
      ]
     },
     "execution_count": 83,
     "metadata": {},
     "output_type": "execute_result"
    }
   ],
   "source": [
    "simulator = Aer.get_backend('qasm_simulator')\n",
    "result=execute(qc,simulator,shots=1000).result()\n",
    "counts = result.get_counts()\n",
    "print(\"\\nTotal count are:\",counts)\n",
    "plot_histogram(counts)"
   ]
  },
  {
   "attachments": {},
   "cell_type": "markdown",
   "metadata": {},
   "source": [
    "The number of samples is $10000$"
   ]
  },
  {
   "cell_type": "code",
   "execution_count": 84,
   "metadata": {},
   "outputs": [
    {
     "name": "stdout",
     "output_type": "stream",
     "text": [
      "\n",
      "Total count are: {'1': 5041, '0': 4959}\n"
     ]
    },
    {
     "data": {
      "image/png": "[encoded data removed]",
      "text/plain": [
       "<Figure size 504x360 with 1 Axes>"
      ]
     },
     "execution_count": 84,
     "metadata": {},
     "output_type": "execute_result"
    }
   ],
   "source": [
    "simulator = Aer.get_backend('qasm_simulator')\n",
    "result=execute(qc,simulator,shots=10000).result()\n",
    "counts = result.get_counts()\n",
    "print(\"\\nTotal count are:\",counts)\n",
    "plot_histogram(counts)"
   ]
  },
  {
   "attachments": {},
   "cell_type": "markdown",
   "metadata": {},
   "source": [
    "Applying the quantum coin twice\n",
    "$ H  \\cdot \\left(\\frac{1}{\\sqrt{2}} \\cdot  | 0 \\rangle+ \\frac{1}{\\sqrt{2}} \\cdot  |1 \\rangle \\right) =   H  \\cdot \\frac{1}{\\sqrt{2}} \\cdot  | 0 \\rangle+H \\cdot \\frac{1}{\\sqrt{2}} \\cdot  |1 \\rangle=  | 0 \\rangle $\n"
   ]
  },
  {
   "cell_type": "code",
   "execution_count": 85,
   "metadata": {},
   "outputs": [
    {
     "data": {
      "text/html": [
       "<pre style=\"word-wrap: normal;white-space: pre;background: #fff0;line-height: 1.1;font-family: &quot;Courier New&quot;,Courier,monospace\">     ┌───┐┌───┐┌─┐\n",
       "  q: ┤ H ├┤ H ├┤M├\n",
       "     └───┘└───┘└╥┘\n",
       "c: 1/═══════════╩═\n",
       "                0 </pre>"
      ],
      "text/plain": [
       "     ┌───┐┌───┐┌─┐\n",
       "  q: ┤ H ├┤ H ├┤M├\n",
       "     └───┘└───┘└╥┘\n",
       "c: 1/═══════════╩═\n",
       "                0 "
      ]
     },
     "execution_count": 85,
     "metadata": {},
     "output_type": "execute_result"
    }
   ],
   "source": [
    "qc = QuantumCircuit(1,1)\n",
    "\n",
    "qc.h(0)\n",
    "qc.h(0)\n",
    "\n",
    "qc.measure(0,0)\n",
    "\n",
    "qc.draw()"
   ]
  },
  {
   "cell_type": "code",
   "execution_count": 86,
   "metadata": {},
   "outputs": [
    {
     "name": "stdout",
     "output_type": "stream",
     "text": [
      "\n",
      "Total count are: {'0': 1024}\n"
     ]
    },
    {
     "data": {
      "image/png": "[encoded data removed]",
      "text/plain": [
       "<Figure size 504x360 with 1 Axes>"
      ]
     },
     "execution_count": 86,
     "metadata": {},
     "output_type": "execute_result"
    }
   ],
   "source": [
    "simulator = Aer.get_backend('qasm_simulator')\n",
    "result=execute(qc,simulator).result()\n",
    "counts = result.get_counts()\n",
    "print(\"\\nTotal count are:\",counts)\n",
    "plot_histogram(counts)"
   ]
  },
  {
   "attachments": {},
   "cell_type": "markdown",
   "metadata": {},
   "source": [
    "## Matrix Representation\n",
    "The Hadamard operator $H_3$ maps $3$ qubits  $|000 \\rangle$ representing a basis state in a Hilbert space $\\mathcal{H}_{2^3}$ "
   ]
  },
  {
   "cell_type": "code",
   "execution_count": 87,
   "metadata": {},
   "outputs": [
    {
     "data": {
      "text/html": [
       "<pre style=\"word-wrap: normal;white-space: pre;background: #fff0;line-height: 1.1;font-family: &quot;Courier New&quot;,Courier,monospace\">     ┌───┐\n",
       "q_0: ┤ H ├\n",
       "     ├───┤\n",
       "q_1: ┤ H ├\n",
       "     ├───┤\n",
       "q_2: ┤ H ├\n",
       "     └───┘</pre>"
      ],
      "text/plain": [
       "     ┌───┐\n",
       "q_0: ┤ H ├\n",
       "     ├───┤\n",
       "q_1: ┤ H ├\n",
       "     ├───┤\n",
       "q_2: ┤ H ├\n",
       "     └───┘"
      ]
     },
     "execution_count": 87,
     "metadata": {},
     "output_type": "execute_result"
    }
   ],
   "source": [
    "qc = QuantumCircuit(3)\n",
    "\n",
    "qc.h(0)\n",
    "qc.h(1)\n",
    "qc.h(2)\n",
    "\n",
    "qc.draw()"
   ]
  },
  {
   "cell_type": "code",
   "execution_count": 88,
   "metadata": {},
   "outputs": [
    {
     "name": "stdout",
     "output_type": "stream",
     "text": [
      "\n",
      "Total count are: {'000': 0.125, '001': 0.125, '010': 0.125, '011': 0.125, '100': 0.125, '101': 0.125, '110': 0.125, '111': 0.125}\n"
     ]
    },
    {
     "data": {
      "image/png": "[encoded data removed]",
      "text/plain": [
       "<Figure size 504x360 with 1 Axes>"
      ]
     },
     "execution_count": 88,
     "metadata": {},
     "output_type": "execute_result"
    }
   ],
   "source": [
    "simulator = Aer.get_backend('statevector_simulator')\n",
    "result=execute(qc,simulator).result()\n",
    "counts = result.get_counts()\n",
    "print(\"\\nTotal count are:\",counts)\n",
    "plot_histogram(counts)"
   ]
  },
  {
   "cell_type": "code",
   "execution_count": 89,
   "metadata": {},
   "outputs": [
    {
     "data": {
      "text/latex": [
       "$$\n",
       "\\text{Statevector} = \n",
       "\\begin{bmatrix}\n",
       "\\frac{\\sqrt{2}}{4} & \\frac{\\sqrt{2}}{4} & \\frac{\\sqrt{2}}{4} & \\frac{\\sqrt{2}}{4} & \\frac{\\sqrt{2}}{4} & \\frac{\\sqrt{2}}{4} & \\frac{\\sqrt{2}}{4} & \\frac{\\sqrt{2}}{4}  \\\\\n",
       " \\end{bmatrix}\n",
       "$$"
      ],
      "text/plain": [
       "<IPython.core.display.Latex object>"
      ]
     },
     "execution_count": 89,
     "metadata": {},
     "output_type": "execute_result"
    }
   ],
   "source": [
    "final_state =execute(qc,simulator).result().get_statevector()\n",
    "from qiskit.visualization import array_to_latex\n",
    "array_to_latex(final_state, prefix=\"\\\\text{Statevector} = \")"
   ]
  },
  {
   "attachments": {},
   "cell_type": "markdown",
   "metadata": {},
   "source": [
    "We can represent  the quantum circuit by a matrix with the following commands. You have to run the qasm simulator and we will use NumPy that is included in the qiskit installation. NumPy  is a library for the Python programming language, adding support for large, multi-dimensional arrays and matrices that is highly related to MATLAB"
   ]
  },
  {
   "cell_type": "code",
   "execution_count": 90,
   "metadata": {},
   "outputs": [
    {
     "name": "stdout",
     "output_type": "stream",
     "text": [
      "\n",
      "Size of the unitary matrix: (8, 8)\n"
     ]
    },
    {
     "data": {
      "text/latex": [
       "$$\n",
       "\\text{Circuit = }\n",
       "\n",
       "\\begin{bmatrix}\n",
       "\\frac{\\sqrt{2}}{4} & \\frac{\\sqrt{2}}{4} & \\frac{\\sqrt{2}}{4} & \\frac{\\sqrt{2}}{4} & \\frac{\\sqrt{2}}{4} & \\frac{\\sqrt{2}}{4} & \\frac{\\sqrt{2}}{4} & \\frac{\\sqrt{2}}{4}  \\\\\n",
       " \\frac{\\sqrt{2}}{4} & - \\frac{\\sqrt{2}}{4} & \\frac{\\sqrt{2}}{4} & - \\frac{\\sqrt{2}}{4} & \\frac{\\sqrt{2}}{4} & - \\frac{\\sqrt{2}}{4} & \\frac{\\sqrt{2}}{4} & - \\frac{\\sqrt{2}}{4}  \\\\\n",
       " \\frac{\\sqrt{2}}{4} & \\frac{\\sqrt{2}}{4} & - \\frac{\\sqrt{2}}{4} & - \\frac{\\sqrt{2}}{4} & \\frac{\\sqrt{2}}{4} & \\frac{\\sqrt{2}}{4} & - \\frac{\\sqrt{2}}{4} & - \\frac{\\sqrt{2}}{4}  \\\\\n",
       " \\frac{\\sqrt{2}}{4} & - \\frac{\\sqrt{2}}{4} & - \\frac{\\sqrt{2}}{4} & \\frac{\\sqrt{2}}{4} & \\frac{\\sqrt{2}}{4} & - \\frac{\\sqrt{2}}{4} & - \\frac{\\sqrt{2}}{4} & \\frac{\\sqrt{2}}{4}  \\\\\n",
       " \\frac{\\sqrt{2}}{4} & \\frac{\\sqrt{2}}{4} & \\frac{\\sqrt{2}}{4} & \\frac{\\sqrt{2}}{4} & - \\frac{\\sqrt{2}}{4} & - \\frac{\\sqrt{2}}{4} & - \\frac{\\sqrt{2}}{4} & - \\frac{\\sqrt{2}}{4}  \\\\\n",
       " \\frac{\\sqrt{2}}{4} & - \\frac{\\sqrt{2}}{4} & \\frac{\\sqrt{2}}{4} & - \\frac{\\sqrt{2}}{4} & - \\frac{\\sqrt{2}}{4} & \\frac{\\sqrt{2}}{4} & - \\frac{\\sqrt{2}}{4} & \\frac{\\sqrt{2}}{4}  \\\\\n",
       " \\frac{\\sqrt{2}}{4} & \\frac{\\sqrt{2}}{4} & - \\frac{\\sqrt{2}}{4} & - \\frac{\\sqrt{2}}{4} & - \\frac{\\sqrt{2}}{4} & - \\frac{\\sqrt{2}}{4} & \\frac{\\sqrt{2}}{4} & \\frac{\\sqrt{2}}{4}  \\\\\n",
       " \\frac{\\sqrt{2}}{4} & - \\frac{\\sqrt{2}}{4} & - \\frac{\\sqrt{2}}{4} & \\frac{\\sqrt{2}}{4} & - \\frac{\\sqrt{2}}{4} & \\frac{\\sqrt{2}}{4} & \\frac{\\sqrt{2}}{4} & - \\frac{\\sqrt{2}}{4}  \\\\\n",
       " \\end{bmatrix}\n",
       "$$"
      ],
      "text/plain": [
       "<IPython.core.display.Latex object>"
      ]
     },
     "execution_count": 90,
     "metadata": {},
     "output_type": "execute_result"
    }
   ],
   "source": [
    "import numpy as np\n",
    "from qiskit.visualization import array_to_latex\n",
    "from qiskit import assemble\n",
    "\n",
    "simulator = Aer.get_backend('qasm_simulator')\n",
    "qc.save_unitary()\n",
    "result = simulator.run(qc).result()\n",
    "unitary = result.get_unitary(qc)\n",
    "print(\"\\nSize of the unitary matrix:\",np.asarray(unitary).shape)\n",
    "array_to_latex(unitary, prefix=\"\\\\text{Circuit = }\\n\")"
   ]
  },
  {
   "attachments": {},
   "cell_type": "markdown",
   "metadata": {},
   "source": [
    "# Quantum Circuits\n",
    "\n",
    "The four bit conjunction $x  \\wedge y  \\wedge z  \\wedge v$ requires three quantum Toffoli gates $ccX$ and three additional qubits that are  zero.\n",
    "The input:\n",
    "$ | x \\rangle |y \\rangle | 0 \\rangle |z \\rangle  |0  \\rangle |v\\rangle  |0  \\rangle. $\n",
    "First quantum Toffoli gate\n",
    "$ \\left ( CCX \\cdot   | x \\rangle |y \\rangle | 0\\rangle \\right) \\otimes \\left( I_4 |\\cdot |z \\rangle  |0  \\rangle |v\\rangle  |0  \\rangle \\right) =| x \\rangle |y \\rangle |   x \\wedge y \\rangle |z \\rangle  |0  \\rangle |v\\rangle  |0  \\rangle.  $\n",
    " Second quantum Toffoli gate\n",
    "$ \\left ( I_2 \\cdot   | x \\rangle |y \\rangle \\right) \\otimes \\left( CCX \\cdot | x \\wedge y \\rangle  |z \\rangle  |0 \\right) \\otimes  \\left( I_2 \\cdot  |v\\rangle  |0  \\rangle \\right)  $\n",
    " $  =| x \\rangle |y \\rangle |   x \\wedge y \\rangle |z \\rangle  | x \\wedge y \\wedge z  \\rangle |v\\rangle  |0  \\rangle.  $\n",
    "Third quantum Toffoli gate\n",
    "$ \\left( I_4 \\cdot|  x \\rangle |y \\rangle |   x \\wedge y \\rangle |z \\rangle \\right) \\otimes \\left( CCX \\cdot   | x \\wedge y \\wedge z  \\rangle   |v\\rangle  |0  \\rangle \\right)  $\n",
    " $ = | x \\rangle |y \\rangle |   x \\wedge y \\rangle |z \\rangle  | x \\wedge y \\wedge z  \\rangle |v\\rangle  |x \\wedge y \\wedge z  \\wedge v  \\rangle. $\n",
    "The circuit corresponds to the following unitary mapping\n",
    "$  \\left( \\left(I_4 \\otimes CCX \\right)  \\left(I_2 \\otimes CCX \\otimes I_2\\right)  \\cdot \\left(CCX \\otimes I_4 \\right) \\right) \\cdot |xy0z0v0  \\rangle $\n",
    "with the result\n",
    "$  | x \\rangle |y \\rangle |   x \\wedge y \\rangle |z \\rangle  | x \\wedge y \\wedge z  \\rangle |v\\rangle  |x \\wedge y \\wedge z  \\wedge v  \\rangle. $\n",
    "\n"
   ]
  },
  {
   "attachments": {},
   "cell_type": "markdown",
   "metadata": {},
   "source": [
    "We define a quantum circuit with seven qubits and name them using the command $QuantumRegister(size,name)$, with $size$ is number of qubits to include in the register and the name of the register as it appears ti the drawing of the quantum circuit. We create the register $x$, $y$, $z$ $v$, two auxiliary register and a register $r$ with the name $result$ and generate the quantum circuit with the command $QuantumCircuit(x,y,z,v,aux,r)$. We initialize the qubits $x$, $y$, $z$ $v$ to one with the not gate $X$. Note, we change the order of the $aux$ qubits to make it cleared to read. After the initialization we use the command $qc.barrier()$ will separate the representation in the circuit. It is not a gate and prevents the merging of the gate operations during the computation. Then we use three  three quantum Toffoli gates, also called the ccX gate (CCNOT gate - controlled controlled not gate) and the final result or the operation is represented in the quantum qubit $r$."
   ]
  },
  {
   "cell_type": "code",
   "execution_count": 91,
   "metadata": {},
   "outputs": [],
   "source": [
    "from qiskit import QuantumCircuit,QuantumRegister, Aer,execute\n",
    "from qiskit.visualization import plot_histogram\n",
    "from qiskit.quantum_info import Statevector"
   ]
  },
  {
   "cell_type": "code",
   "execution_count": 92,
   "metadata": {},
   "outputs": [
    {
     "data": {
      "text/html": [
       "<pre style=\"word-wrap: normal;white-space: pre;background: #fff0;line-height: 1.1;font-family: &quot;Courier New&quot;,Courier,monospace\">        ┌───┐ ░                \n",
       "     x: ┤ X ├─░───■────────────\n",
       "        ├───┤ ░   │            \n",
       "     y: ┤ X ├─░───■────────────\n",
       "        ├───┤ ░   │            \n",
       "     z: ┤ X ├─░───┼────■────■──\n",
       "        ├───┤ ░   │    │    │  \n",
       "     v: ┤ X ├─░───┼────┼────┼──\n",
       "        └───┘ ░ ┌─┴─┐  │    │  \n",
       " aux_0: ──────░─┤ X ├──■────┼──\n",
       "              ░ └───┘┌─┴─┐  │  \n",
       " aux_1: ──────░──────┤ X ├──■──\n",
       "              ░      └───┘┌─┴─┐\n",
       "result: ──────░───────────┤ X ├\n",
       "              ░           └───┘</pre>"
      ],
      "text/plain": [
       "        ┌───┐ ░                \n",
       "     x: ┤ X ├─░───■────────────\n",
       "        ├───┤ ░   │            \n",
       "     y: ┤ X ├─░───■────────────\n",
       "        ├───┤ ░   │            \n",
       "     z: ┤ X ├─░───┼────■────■──\n",
       "        ├───┤ ░   │    │    │  \n",
       "     v: ┤ X ├─░───┼────┼────┼──\n",
       "        └───┘ ░ ┌─┴─┐  │    │  \n",
       " aux_0: ──────░─┤ X ├──■────┼──\n",
       "              ░ └───┘┌─┴─┐  │  \n",
       " aux_1: ──────░──────┤ X ├──■──\n",
       "              ░      └───┘┌─┴─┐\n",
       "result: ──────░───────────┤ X ├\n",
       "              ░           └───┘"
      ]
     },
     "execution_count": 92,
     "metadata": {},
     "output_type": "execute_result"
    }
   ],
   "source": [
    "x = QuantumRegister(1, 'x')\n",
    "y = QuantumRegister(1, 'y')\n",
    "z = QuantumRegister(1, 'z')\n",
    "v = QuantumRegister(1, 'v')\n",
    "\n",
    "aux =  QuantumRegister(2,'aux')\n",
    "\n",
    "r = QuantumRegister(1, 'result')\n",
    "\n",
    "qc = QuantumCircuit(x,y,z,v,aux,r)\n",
    "\n",
    "qc.x(x)\n",
    "qc.x(y)\n",
    "qc.x(z)\n",
    "qc.x(v)\n",
    "\n",
    "qc.barrier()\n",
    "\n",
    "qc.ccx(x,y,aux[0])\n",
    "qc.ccx(aux[0],z,aux[1])\n",
    "qc.ccx(aux[1],z,r)\n",
    "\n",
    "qc.draw()"
   ]
  },
  {
   "attachments": {},
   "cell_type": "markdown",
   "metadata": {},
   "source": [
    "After the statevector ``measurement'' the values of the qubits  the qubits are  $x=1$, $y=1$, $z=1$,  $v=1$, $aux_0=1$, $aux_1=1$ and $result=1$. The total count are: $\\{'1111111': 1.0\\}$, 1.0 indicates the probability one."
   ]
  },
  {
   "cell_type": "code",
   "execution_count": 93,
   "metadata": {},
   "outputs": [
    {
     "name": "stdout",
     "output_type": "stream",
     "text": [
      "\n",
      "Total count are: {'1111111': 1.0}\n"
     ]
    },
    {
     "data": {
      "image/png": "[encoded data removed]",
      "text/plain": [
       "<Figure size 504x360 with 1 Axes>"
      ]
     },
     "execution_count": 93,
     "metadata": {},
     "output_type": "execute_result"
    }
   ],
   "source": [
    "simulator = Aer.get_backend('statevector_simulator')\n",
    "result=execute(qc,simulator).result()\n",
    "counts = result.get_counts()\n",
    "print(\"\\nTotal count are:\",counts)\n",
    "plot_histogram(counts)"
   ]
  },
  {
   "attachments": {},
   "cell_type": "markdown",
   "metadata": {},
   "source": [
    "## Un-computing\n",
    " \n",
    " The qubits  $aux_0$=1, $aux_1=1$ are usually not required for further computation because the result is represented in the  output qubit $result$. \n",
    " However they are entangled with the output qubit. It is not possible to reset them to zero. \n",
    " Instead  they are un-computed. Because for the matrix  $CCX^{-1}=CCX$, we recompute the first and the second quantum Toffoli gate after determining the result. The steps are reversed as indicated in the listing after the command $qc.barrier()$"
   ]
  },
  {
   "cell_type": "code",
   "execution_count": 94,
   "metadata": {},
   "outputs": [
    {
     "data": {
      "text/html": [
       "<pre style=\"word-wrap: normal;white-space: pre;background: #fff0;line-height: 1.1;font-family: &quot;Courier New&quot;,Courier,monospace\">        ┌───┐ ░                          \n",
       "     x: ┤ X ├─░───■───────────────────■──\n",
       "        ├───┤ ░   │                   │  \n",
       "     y: ┤ X ├─░───■───────────────────■──\n",
       "        ├───┤ ░   │                   │  \n",
       "     z: ┤ X ├─░───┼────■────■────■────┼──\n",
       "        ├───┤ ░   │    │    │    │    │  \n",
       "     v: ┤ X ├─░───┼────┼────┼────┼────┼──\n",
       "        └───┘ ░ ┌─┴─┐  │    │    │  ┌─┴─┐\n",
       " aux_0: ──────░─┤ X ├──■────┼────■──┤ X ├\n",
       "              ░ └───┘┌─┴─┐  │  ┌─┴─┐└───┘\n",
       " aux_1: ──────░──────┤ X ├──■──┤ X ├─────\n",
       "              ░      └───┘┌─┴─┐└───┘     \n",
       "result: ──────░───────────┤ X ├──────────\n",
       "              ░           └───┘          </pre>"
      ],
      "text/plain": [
       "        ┌───┐ ░                          \n",
       "     x: ┤ X ├─░───■───────────────────■──\n",
       "        ├───┤ ░   │                   │  \n",
       "     y: ┤ X ├─░───■───────────────────■──\n",
       "        ├───┤ ░   │                   │  \n",
       "     z: ┤ X ├─░───┼────■────■────■────┼──\n",
       "        ├───┤ ░   │    │    │    │    │  \n",
       "     v: ┤ X ├─░───┼────┼────┼────┼────┼──\n",
       "        └───┘ ░ ┌─┴─┐  │    │    │  ┌─┴─┐\n",
       " aux_0: ──────░─┤ X ├──■────┼────■──┤ X ├\n",
       "              ░ └───┘┌─┴─┐  │  ┌─┴─┐└───┘\n",
       " aux_1: ──────░──────┤ X ├──■──┤ X ├─────\n",
       "              ░      └───┘┌─┴─┐└───┘     \n",
       "result: ──────░───────────┤ X ├──────────\n",
       "              ░           └───┘          "
      ]
     },
     "execution_count": 94,
     "metadata": {},
     "output_type": "execute_result"
    }
   ],
   "source": [
    "qc = QuantumCircuit(7)\n",
    "\n",
    "x = QuantumRegister(1, 'x')\n",
    "y = QuantumRegister(1, 'y')\n",
    "z = QuantumRegister(1, 'z')\n",
    "v = QuantumRegister(1, 'v')\n",
    "\n",
    "aux =  QuantumRegister(2,'aux')\n",
    "\n",
    "r = QuantumRegister(1, 'result')\n",
    "\n",
    "qc = QuantumCircuit(x,y,z,v,aux,r)\n",
    "\n",
    "qc.x(x)\n",
    "qc.x(y)\n",
    "qc.x(z)\n",
    "qc.x(v)\n",
    "\n",
    "qc.barrier()\n",
    "\n",
    "qc.ccx(x,y,aux[0])\n",
    "qc.ccx(aux[0],z,aux[1])\n",
    "qc.ccx(aux[1],z,r)\n",
    "\n",
    "qc.ccx(aux[0],z,aux[1])\n",
    "qc.ccx(x,y,aux[0])\n",
    "\n",
    "qc.draw()\n"
   ]
  },
  {
   "attachments": {},
   "cell_type": "markdown",
   "metadata": {},
   "source": [
    "\n",
    "After the statevector ``measurement'' the values of the qubits  the qubits are  $x=1$, $y=1$, $z=1$,  $v=1$, $aux_0=0$, $aux_1=0$ and $result=1$"
   ]
  },
  {
   "cell_type": "code",
   "execution_count": 95,
   "metadata": {},
   "outputs": [
    {
     "name": "stdout",
     "output_type": "stream",
     "text": [
      "\n",
      "Total count are: {'1001111': 1.0}\n"
     ]
    },
    {
     "data": {
      "image/png": "[encoded data removed]",
      "text/plain": [
       "<Figure size 504x360 with 1 Axes>"
      ]
     },
     "execution_count": 95,
     "metadata": {},
     "output_type": "execute_result"
    }
   ],
   "source": [
    "simulator = Aer.get_backend('statevector_simulator')\n",
    "result=execute(qc,simulator).result()\n",
    "counts = result.get_counts()\n",
    "print(\"\\nTotal count are:\",counts)\n",
    "plot_histogram(counts)"
   ]
  },
  {
   "cell_type": "code",
   "execution_count": 96,
   "metadata": {},
   "outputs": [
    {
     "name": "stdout",
     "output_type": "stream",
     "text": [
      "\n",
      "Size of the unitary matrix: (128, 128)\n"
     ]
    }
   ],
   "source": [
    "simulator = Aer.get_backend('qasm_simulator')\n",
    "qc.save_unitary()\n",
    "result = simulator.run(qc).result()\n",
    "unitary = result.get_unitary(qc)\n",
    "print(\"\\nSize of the unitary matrix:\",np.asarray(unitary).shape)"
   ]
  },
  {
   "attachments": {},
   "cell_type": "markdown",
   "metadata": {},
   "source": [
    "## General multi-controlled X gate\n",
    "\n",
    "Instead one can used as well the command $MCXGate(4)$ without the need of defining auxiliary registers. The $MCXGate(n)$ general, multi-controlled X gate that is controled by $n$ qubits, in our case by the qubits $x,y,z,v,r$"
   ]
  },
  {
   "cell_type": "code",
   "execution_count": 97,
   "metadata": {},
   "outputs": [
    {
     "data": {
      "text/html": [
       "<pre style=\"word-wrap: normal;white-space: pre;background: #fff0;line-height: 1.1;font-family: &quot;Courier New&quot;,Courier,monospace\">        ┌───┐ ░      \n",
       "     x: ┤ X ├─░───■──\n",
       "        ├───┤ ░   │  \n",
       "     y: ┤ X ├─░───■──\n",
       "        ├───┤ ░   │  \n",
       "     z: ┤ X ├─░───■──\n",
       "        ├───┤ ░   │  \n",
       "     v: ┤ X ├─░───■──\n",
       "        └───┘ ░ ┌─┴─┐\n",
       "result: ──────░─┤ X ├\n",
       "              ░ └───┘</pre>"
      ],
      "text/plain": [
       "        ┌───┐ ░      \n",
       "     x: ┤ X ├─░───■──\n",
       "        ├───┤ ░   │  \n",
       "     y: ┤ X ├─░───■──\n",
       "        ├───┤ ░   │  \n",
       "     z: ┤ X ├─░───■──\n",
       "        ├───┤ ░   │  \n",
       "     v: ┤ X ├─░───■──\n",
       "        └───┘ ░ ┌─┴─┐\n",
       "result: ──────░─┤ X ├\n",
       "              ░ └───┘"
      ]
     },
     "execution_count": 97,
     "metadata": {},
     "output_type": "execute_result"
    }
   ],
   "source": [
    "from qiskit.circuit.library import MCXGate\n",
    "\n",
    "\n",
    "x = QuantumRegister(1, 'x')\n",
    "y = QuantumRegister(1, 'y')\n",
    "z = QuantumRegister(1, 'z')\n",
    "v = QuantumRegister(1, 'v')\n",
    "r = QuantumRegister(1, 'result')\n",
    "\n",
    "qc = QuantumCircuit(x,y,z,v,r)\n",
    "\n",
    "\n",
    "qc.x(x)\n",
    "qc.x(y)\n",
    "qc.x(z)\n",
    "qc.x(v)\n",
    "\n",
    "qc.barrier()\n",
    "\n",
    "gate = MCXGate(4)\n",
    "\n",
    "qc.append(gate,[x,y,z,v,r])\n",
    "\n",
    "qc.draw()"
   ]
  },
  {
   "cell_type": "code",
   "execution_count": 98,
   "metadata": {},
   "outputs": [
    {
     "name": "stdout",
     "output_type": "stream",
     "text": [
      "\n",
      "Total count are: {'11111': 1.0}\n"
     ]
    },
    {
     "data": {
      "image/png": "[encoded data removed]",
      "text/plain": [
       "<Figure size 504x360 with 1 Axes>"
      ]
     },
     "execution_count": 98,
     "metadata": {},
     "output_type": "execute_result"
    }
   ],
   "source": [
    "simulator = Aer.get_backend('statevector_simulator')\n",
    "result=execute(qc,simulator).result()\n",
    "counts = result.get_counts()\n",
    "print(\"\\nTotal count are:\",counts)\n",
    "plot_histogram(counts)"
   ]
  },
  {
   "cell_type": "code",
   "execution_count": 99,
   "metadata": {},
   "outputs": [
    {
     "name": "stdout",
     "output_type": "stream",
     "text": [
      "\n",
      "Size of the unitary matrix: (32, 32)\n"
     ]
    }
   ],
   "source": [
    "simulator = Aer.get_backend('qasm_simulator')\n",
    "qc.save_unitary()\n",
    "result = simulator.run(qc).result()\n",
    "unitary = result.get_unitary(qc)\n",
    "print(\"\\nSize of the unitary matrix:\",np.asarray(unitary).shape)"
   ]
  },
  {
   "attachments": {},
   "cell_type": "markdown",
   "metadata": {},
   "source": [
    " ## $OR$ operation\n",
    "\n",
    " The $OR$ operation is represented by the unitary mapping according to the  De Morgan's laws \n",
    " $ x_1 \\vee x_2=\\neg(\\neg x_1 \\wedge,\\neg x_2)$\n",
    " $    \\left( \\left( I_2 \\otimes     X \\right)     \\cdot  CCX \\cdot \\left(X \\otimes  X \\otimes  I_1  \\right)  \\right) \\cdot   |xy0  \\rangle = \n",
    " xy(x \\vee y)  \\rangle. $"
   ]
  },
  {
   "cell_type": "code",
   "execution_count": 100,
   "metadata": {},
   "outputs": [
    {
     "data": {
      "text/html": [
       "<pre style=\"word-wrap: normal;white-space: pre;background: #fff0;line-height: 1.1;font-family: &quot;Courier New&quot;,Courier,monospace\">        ┌───┐ ░ ┌───┐     ┌───┐\n",
       "     x: ┤ X ├─░─┤ X ├──■──┤ X ├\n",
       "        └───┘ ░ ├───┤  │  ├───┤\n",
       "     y: ──────░─┤ X ├──■──┤ X ├\n",
       "              ░ ├───┤┌─┴─┐└───┘\n",
       "result: ──────░─┤ X ├┤ X ├─────\n",
       "              ░ └───┘└───┘     </pre>"
      ],
      "text/plain": [
       "        ┌───┐ ░ ┌───┐     ┌───┐\n",
       "     x: ┤ X ├─░─┤ X ├──■──┤ X ├\n",
       "        └───┘ ░ ├───┤  │  ├───┤\n",
       "     y: ──────░─┤ X ├──■──┤ X ├\n",
       "              ░ ├───┤┌─┴─┐└───┘\n",
       "result: ──────░─┤ X ├┤ X ├─────\n",
       "              ░ └───┘└───┘     "
      ]
     },
     "execution_count": 100,
     "metadata": {},
     "output_type": "execute_result"
    }
   ],
   "source": [
    "x = QuantumRegister(1, 'x')\n",
    "y = QuantumRegister(1, 'y')\n",
    "\n",
    "r = QuantumRegister(1, 'result')\n",
    "\n",
    "qc = QuantumCircuit(x,y,r)\n",
    "\n",
    "#Preparation\n",
    "\n",
    "qc.x(x)\n",
    "#qc.x(y)\n",
    "\n",
    "qc.barrier()\n",
    "\n",
    "#Or Operation according to De Morgan's law\n",
    "\n",
    "qc.x(x)\n",
    "qc.x(y)\n",
    "qc.x(r)\n",
    "\n",
    "qc.ccx(x,y,r)\n",
    "\n",
    "qc.x(x)\n",
    "qc.x(y)\n",
    "\n",
    "qc.draw()"
   ]
  },
  {
   "cell_type": "code",
   "execution_count": 101,
   "metadata": {},
   "outputs": [
    {
     "name": "stdout",
     "output_type": "stream",
     "text": [
      "\n",
      "Total count are: {'101': 1.0}\n"
     ]
    },
    {
     "data": {
      "image/png": "[encoded data removed]",
      "text/plain": [
       "<Figure size 504x360 with 1 Axes>"
      ]
     },
     "execution_count": 101,
     "metadata": {},
     "output_type": "execute_result"
    }
   ],
   "source": [
    "simulator = Aer.get_backend('statevector_simulator')\n",
    "result=execute(qc,simulator).result()\n",
    "counts = result.get_counts()\n",
    "print(\"\\nTotal count are:\",counts)\n",
    "plot_histogram(counts)"
   ]
  },
  {
   "attachments": {},
   "cell_type": "markdown",
   "metadata": {},
   "source": [
    "# Deutsch Algorithm\n",
    "\n",
    "The Deutsch algorithm  exploits the superposition of qubits generated by Hadamard gates and is more powerful than any classical algorithm. It determines if an unknown function $f: \\textbf{B}^1 \\rightarrow \\textbf{B}^1:f(x)=y$ of one bit is constant or not by calling the function one time. A classical algorithm requires two calls. \n",
    "A constant function on one bit is either $f(x)=1$ or $f(x)=0$. A non constant function is either the identity function $f(0)=0$ and $f(1)=1$ or the flip function $f(0)=1$ and $f(1)=0$. "
   ]
  },
  {
   "attachments": {},
   "cell_type": "markdown",
   "metadata": {},
   "source": [
    "In the first step of the algorithm we build a superposition of two qubits\n",
    "$ H_2 \\cdot |0 1\\rangle =    H_1 \\cdot |0  \\rangle  \\otimes H_1 \\cdot |1  \\rangle=  \\left(\\frac{|0  \\rangle + |1  \\rangle}{\\sqrt{2}} \\right) \\otimes    \n",
    "\\left(\\frac{|0  \\rangle - |1  \\rangle}{\\sqrt{2}} \\right) =  $\n",
    "$  H2 \\cdot |0 1\\rangle =   \\frac{1}{2}  \\cdot \\left( |00 \\rangle -  |01 \\rangle +  |10 \\rangle -  |11 \\rangle  \\right). $\n"
   ]
  },
  {
   "cell_type": "code",
   "execution_count": 102,
   "metadata": {},
   "outputs": [
    {
     "data": {
      "text/plain": [
       "<qiskit.circuit.instructionset.InstructionSet at 0x1691e2be0>"
      ]
     },
     "execution_count": 102,
     "metadata": {},
     "output_type": "execute_result"
    }
   ],
   "source": [
    "qc = QuantumCircuit(2)\n",
    "\n",
    "qc.x(0)\n",
    "\n",
    "qc.h(0)\n",
    "qc.h(1)\n"
   ]
  },
  {
   "cell_type": "code",
   "execution_count": 103,
   "metadata": {},
   "outputs": [
    {
     "data": {
      "text/latex": [
       "$$\n",
       "\\text{Statevector} = \n",
       "\\begin{bmatrix}\n",
       "\\frac{1}{2} & - \\frac{1}{2} & \\frac{1}{2} & - \\frac{1}{2}  \\\\\n",
       " \\end{bmatrix}\n",
       "$$"
      ],
      "text/plain": [
       "<IPython.core.display.Latex object>"
      ]
     },
     "execution_count": 103,
     "metadata": {},
     "output_type": "execute_result"
    }
   ],
   "source": [
    "simulator = Aer.get_backend('statevector_simulator')\n",
    "final_state = execute(qc,simulator).result().get_statevector()\n",
    "\n",
    "from qiskit.visualization import array_to_latex\n",
    "array_to_latex(final_state, prefix=\"\\\\text{Statevector} = \")"
   ]
  },
  {
   "attachments": {},
   "cell_type": "markdown",
   "metadata": {},
   "source": [
    "In the second step we apply the $U_f,$ gate.\n",
    "\\begin{equation}\n",
    "  U_f \\cdot H_2 \\cdot |0 1\\rangle =  U_f \\left(  \\frac{1}{2}  \\cdot \\left( |00 \\rangle -  |01 \\rangle +  |10 \\rangle -  |11 \\rangle  \\right)  \\right)\n",
    "\\end{equation}  \n"
   ]
  },
  {
   "attachments": {},
   "cell_type": "markdown",
   "metadata": {},
   "source": [
    "In the third step a Hadamard gate is applied to the first qubit\n",
    "\\begin{equation}\n",
    "\\left(H_1 \\otimes I_1 \\right) \\cdot U_f \\cdot H_2 \\cdot |0 1\\rangle. \n",
    "\\end{equation}"
   ]
  },
  {
   "attachments": {},
   "cell_type": "markdown",
   "metadata": {},
   "source": [
    "In the fourth step the first qubit (that is in the basis state) is measured. It is $ |0  \\rangle$ if the function is  constant, otherwise $|1  \\rangle$.\n",
    "\n",
    "In our simulation for simplicity we assume the unknown function is the  the identity mapping  $f(x)=0$  \n"
   ]
  },
  {
   "cell_type": "code",
   "execution_count": 104,
   "metadata": {},
   "outputs": [
    {
     "data": {
      "text/html": [
       "<pre style=\"word-wrap: normal;white-space: pre;background: #fff0;line-height: 1.1;font-family: &quot;Courier New&quot;,Courier,monospace\">     ┌───┐ ░ ┌───┐ ░         \n",
       "q_0: ┤ X ├─░─┤ H ├─░─────────\n",
       "     └───┘ ░ ├───┤ ░ ┌───┐┌─┐\n",
       "q_1: ──────░─┤ H ├─░─┤ H ├┤M├\n",
       "           ░ └───┘ ░ └───┘└╥┘\n",
       "c: 1/══════════════════════╩═\n",
       "                           0 </pre>"
      ],
      "text/plain": [
       "     ┌───┐ ░ ┌───┐ ░         \n",
       "q_0: ┤ X ├─░─┤ H ├─░─────────\n",
       "     └───┘ ░ ├───┤ ░ ┌───┐┌─┐\n",
       "q_1: ──────░─┤ H ├─░─┤ H ├┤M├\n",
       "           ░ └───┘ ░ └───┘└╥┘\n",
       "c: 1/══════════════════════╩═\n",
       "                           0 "
      ]
     },
     "execution_count": 104,
     "metadata": {},
     "output_type": "execute_result"
    }
   ],
   "source": [
    "qc = QuantumCircuit(2,1)\n",
    "\n",
    "qc.x(0)\n",
    "\n",
    "qc.barrier()\n",
    "\n",
    "qc.h(0)\n",
    "qc.h(1)\n",
    "\n",
    "#constant function f(x)=0\n",
    "qc.barrier()\n",
    "qc.h(1) \n",
    "qc.measure(1,0)\n",
    "\n",
    "qc.draw()"
   ]
  },
  {
   "attachments": {},
   "cell_type": "markdown",
   "metadata": {},
   "source": [
    " In the fourth step the first qubit (that is in the basis state) is measured. It is $ |0  \\rangle$, the function is  constant. Total count are: $\\{''0': 1024\\}$. By default the number of shots is $1024$ if not specified."
   ]
  },
  {
   "cell_type": "code",
   "execution_count": 105,
   "metadata": {},
   "outputs": [
    {
     "name": "stdout",
     "output_type": "stream",
     "text": [
      "\n",
      "Total count are: {'0': 1024}\n"
     ]
    },
    {
     "data": {
      "image/png": "[encoded data removed]",
      "text/plain": [
       "<Figure size 504x360 with 1 Axes>"
      ]
     },
     "execution_count": 105,
     "metadata": {},
     "output_type": "execute_result"
    }
   ],
   "source": [
    "simulator = Aer.get_backend('qasm_simulator')\n",
    "result=execute(qc,simulator).result()\n",
    "counts = result.get_counts()\n",
    "print(\"\\nTotal count are:\",counts)\n",
    "plot_histogram(counts)"
   ]
  }
 ],
 "metadata": {
  "kernelspec": {
   "display_name": "Python 3.9.12 ('base')",
   "language": "python",
   "name": "python3"
  },
  "language_info": {
   "codemirror_mode": {
    "name": "ipython",
    "version": 3
   },
   "file_extension": ".py",
   "mimetype": "text/x-python",
   "name": "python",
   "nbconvert_exporter": "python",
   "pygments_lexer": "ipython3",
   "version": "3.9.12"
  },
  "orig_nbformat": 4,
  "vscode": {
   "interpreter": {
    "hash": "a40b8e547555cf322d8dbe5dc02c3dbbc11894449d38bc5e08eee2ca5ff26fce"
   }
  }
 },
 "nbformat": 4,
 "nbformat_minor": 2
}
