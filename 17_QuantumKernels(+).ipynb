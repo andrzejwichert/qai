{
 "cells": [
  {
   "cell_type": "markdown",
   "metadata": {},
   "source": [
    "# Chapter 17:  Quantum Kernels\n",
    "\n",
    "For a quantum state $| \\phi(\\textbf{x}) \\rangle|$ and $| \\phi(\\textbf{y}) \\rangle|$, the inner product of two such  states is called a \\index{quantum kernel} quantum kernel\n",
    "\\begin{equation}\n",
    "k(\\textbf{x},\\textbf{y})=\\langle \\phi(\\textbf{x}) | \\phi(\\textbf{y}) \\rangle\n",
    "\\end{equation}\n",
    "with a inner product\n",
    "\\begin{equation}\n",
    "\\langle\\textbf{x} | \\textbf{y} \\rangle=\\textbf{x}^T \\cdot \\textbf{y}.\n",
    "\\end{equation}"
   ]
  },
  {
   "cell_type": "markdown",
   "metadata": {},
   "source": [
    "## Quantum Kernels and Swap Test\n",
    "\n",
    "Example for two dimensional vectors\n",
    "\n",
    "\\begin{equation}\n",
    "\\textbf{x}=\n",
    "\\left( \\begin{array}{c}\n",
    "\\sqrt{0.3} \\\\\n",
    "\\sqrt{0.7}\\\\\n",
    "\\end{array}\n",
    "\\right),~~~~\n",
    "\\textbf{y}=\n",
    "\\left( \\begin{array}{c}\n",
    "\\sqrt{0.5} \\\\\n",
    "\\sqrt{0.5}\\\\\n",
    "\\end{array}\n",
    "\\right).\n",
    "\\end{equation}\n",
    "\n",
    "\\begin{equation}\n",
    "k(\\textbf{x},\\textbf{y})= \\langle \\phi(\\textbf{x} )|  \\phi(\\textbf{y})  \\rangle = \\langle\\textbf{x} | \\textbf{y} \\rangle  \\otimes     \\langle\\textbf{x} | \\textbf{y} \\rangle \\otimes \\langle \\textbf{x} | \\textbf{y} \\rangle=  ( \\textbf{x}^T \\cdot \\textbf{y})^3\n",
    "\\end{equation}\n"
   ]
  },
  {
   "cell_type": "code",
   "execution_count": 7,
   "metadata": {},
   "outputs": [],
   "source": [
    "from qiskit import QuantumCircuit,QuantumRegister, Aer,execute\n",
    "from qiskit.visualization import plot_histogram\n",
    "from qiskit.circuit.library import MCXGate\n",
    "from qiskit.quantum_info import Statevector\n",
    "from qiskit.circuit.library import RYGate\n",
    "from math import pi"
   ]
  },
  {
   "cell_type": "code",
   "execution_count": 8,
   "metadata": {},
   "outputs": [
    {
     "data": {
      "text/html": [
       "<pre style=\"word-wrap: normal;white-space: pre;background: #fff0;line-height: 1.1;font-family: &quot;Courier New&quot;,Courier,monospace\">           ░ ┌────────────┐ ░                  \n",
       "q_0: ──────░─┤ Ry(1.9823) ├─░──X───────────────\n",
       "           ░ ├────────────┤ ░  │               \n",
       "q_1: ──────░─┤ Ry(1.9823) ├─░──┼──X────────────\n",
       "           ░ ├────────────┤ ░  │  │            \n",
       "q_2: ──────░─┤ Ry(1.9823) ├─░──┼──┼──X─────────\n",
       "           ░ └───┬───┬────┘ ░  │  │  │         \n",
       "q_3: ──────░─────┤ H ├──────░──X──┼──┼─────────\n",
       "           ░     ├───┤      ░  │  │  │         \n",
       "q_4: ──────░─────┤ H ├──────░──┼──X──┼─────────\n",
       "           ░     ├───┤      ░  │  │  │         \n",
       "q_5: ──────░─────┤ H ├──────░──┼──┼──X─────────\n",
       "     ┌───┐ ░     └───┘      ░  │  │  │ ┌───┐┌─┐\n",
       "q_6: ┤ H ├─░────────────────░──■──■──■─┤ H ├┤M├\n",
       "     └───┘ ░                ░          └───┘└╥┘\n",
       "c: 1/════════════════════════════════════════╩═\n",
       "                                             0 </pre>"
      ],
      "text/plain": [
       "           ░ ┌────────────┐ ░                  \n",
       "q_0: ──────░─┤ Ry(1.9823) ├─░──X───────────────\n",
       "           ░ ├────────────┤ ░  │               \n",
       "q_1: ──────░─┤ Ry(1.9823) ├─░──┼──X────────────\n",
       "           ░ ├────────────┤ ░  │  │            \n",
       "q_2: ──────░─┤ Ry(1.9823) ├─░──┼──┼──X─────────\n",
       "           ░ └───┬───┬────┘ ░  │  │  │         \n",
       "q_3: ──────░─────┤ H ├──────░──X──┼──┼─────────\n",
       "           ░     ├───┤      ░  │  │  │         \n",
       "q_4: ──────░─────┤ H ├──────░──┼──X──┼─────────\n",
       "           ░     ├───┤      ░  │  │  │         \n",
       "q_5: ──────░─────┤ H ├──────░──┼──┼──X─────────\n",
       "     ┌───┐ ░     └───┘      ░  │  │  │ ┌───┐┌─┐\n",
       "q_6: ┤ H ├─░────────────────░──■──■──■─┤ H ├┤M├\n",
       "     └───┘ ░                ░          └───┘└╥┘\n",
       "c: 1/════════════════════════════════════════╩═\n",
       "                                             0 "
      ]
     },
     "execution_count": 8,
     "metadata": {},
     "output_type": "execute_result"
    }
   ],
   "source": [
    "qc = QuantumCircuit(7,1)\n",
    "qc.h(6)\n",
    "qc.barrier()\n",
    "#ang = Sqrt[0.3]\n",
    "#ArcCos[ang]*2\n",
    "qc.ry(1.98231,0)\n",
    "qc.ry(1.98231,1)\n",
    "qc.ry(1.98231,2)\n",
    "qc.h(3)\n",
    "qc.h(4)\n",
    "qc.h(5)\n",
    "qc.barrier()\n",
    "qc.cswap(6,0,3)\n",
    "qc.cswap(6,1,4)\n",
    "qc.cswap(6,2,5)\n",
    "qc.h(6)\n",
    "qc.measure(6,0)\n",
    "qc.draw()"
   ]
  },
  {
   "cell_type": "markdown",
   "metadata": {},
   "source": [
    "Circuit representing $k(\\textbf{x},\\textbf{y})=  ( \\textbf{x}^T \\cdot \\textbf{y})^3$ with the swap test"
   ]
  },
  {
   "cell_type": "code",
   "execution_count": 9,
   "metadata": {},
   "outputs": [
    {
     "name": "stdout",
     "output_type": "stream",
     "text": [
      "\n",
      "Total count are: {'1': 631, '0': 9369}\n"
     ]
    },
    {
     "data": {
      "image/png": "[encoded data removed]",
      "text/plain": [
       "<Figure size 504x360 with 1 Axes>"
      ]
     },
     "execution_count": 9,
     "metadata": {},
     "output_type": "execute_result"
    }
   ],
   "source": [
    "simulator = Aer.get_backend('qasm_simulator')\n",
    "result=execute(qc,simulator,shots=10000).result()\n",
    "counts = result.get_counts()\n",
    "print(\"\\nTotal count are:\",counts)\n",
    "\n",
    "plot_histogram(counts)"
   ]
  },
  {
   "cell_type": "markdown",
   "metadata": {},
   "source": [
    "Using the swap test,  after 10000 shots we measure $p(|0 \\rangle) = 0.9395$ with\n",
    "\n",
    "\\begin{equation}\n",
    "  k(\\textbf{x},\\textbf{y}) =|   ( \\textbf{x}^T \\cdot \\textbf{y})^3 | \\approx \\sqrt{  2 \\cdot 0.9395-1}=0.93755. \n",
    "\\end{equation}"
   ]
  },
  {
   "cell_type": "markdown",
   "metadata": {},
   "source": [
    "## Quantum Kernels and Inversion Test\n",
    "\n",
    "Quantum feature maps encodes classical data into quantum data  via a parametrized quantum circuit. Instead of coding the classical feature vector $\\textbf{x}$ of dimension $z$ by amplitudes,  the feature vector defines by $z$ parameters of the  parametrized quantum circuit $U_{\\phi(\\textbf{x})}$ with $z \\geq m$ \n",
    "\\begin{equation}\n",
    " | \\phi(\\textbf{x}) \\rangle =U_{\\phi(\\textbf{x})} |0 \\rangle^{\\otimes m} \n",
    "\\end{equation}\n",
    "with the dimension of $\\phi(\\textbf{x})$ being $2^m$.\n",
    "Parameterized quantum circuits  based on superposition and entanglement are hard to simulate classically and could lead to an advantage over classical machine learning approaches.\n",
    "The inversion test is based on the idea usual of estimating the fidelity (similarity) between two states.\n",
    "For an input state $|0 \\rangle^{\\otimes m}$  if we map it by parametrized quantum circuit $U_{\\phi(\\textbf{x})}$  with parameters that are defined by $\\textbf{x}$ and un-compute it by $U_{\\phi(\\textbf{x})} ^\\dag$, the inverse if the parametrized quantum circuit $U_{\\phi(\\textbf{x})}$ the probability of measuring the state $|0 \\rangle^{\\otimes m}$  is one. If we represent the quantum circuit by a matrix $U_{\\phi(\\textbf{x})}$, the inverse quantum circuit represented as a matrix corresponds to the conjugate transpose  $U_{\\phi(\\textbf{x})} ^*$ also written as  $U_{\\phi(\\textbf{x})} ^\\dag$.\n",
    "If we parametrized quantum circuit $U$ by $\\textbf{x}$  ( $U_{\\phi(\\textbf{x})}$) and inverse of the parametrized quantum $U^\\dag$  by $\\textbf{y}$ ($U_{\\phi(\\textbf{y})} ^\\dag$ ) and  if $\\textbf{x}$ and $\\textbf{y}$ are similar, the probability of measuring  $|0 \\rangle^{\\otimes m}$  for the input  $|0 \\rangle^{\\otimes m}$  should be near $1$,\n",
    "\\begin{equation}\n",
    " U_{\\phi(\\textbf{y})} ^\\dag   U_{\\phi(\\textbf{x})} |0^{\\otimes m}  \\rangle \n",
    "\\end{equation}\n",
    "If $\\textbf{x}$ and $\\textbf{y}$ differ a lot, this probability is smaller. The quantum kernel is represented as\n",
    "\\begin{equation}\n",
    "k(\\textbf{x},\\textbf{y})=|\\langle \\phi(\\textbf{x}) | \\phi(\\textbf{y}) \\rangle|^2=|  \\langle  0^{\\otimes m} | U_{\\phi(\\textbf{y})} ^\\dag | U_{\\phi(\\textbf{x})} |0^{\\otimes m}  \\rangle |^2\n",
    "\\end{equation}\n",
    "We measure the final \n",
    "state several times and record the number \n",
    "of $|0^{\\otimes m} \\rangle$ and estimate the value $k(\\textbf{x},\\textbf{y})$."
   ]
  },
  {
   "cell_type": "markdown",
   "metadata": {},
   "source": [
    "With the same $\\textbf{x}$,$\\textbf{y}$ as in the preceding example using the  \\textit{qiskit}  parameterized quantum circuit $U_{\\phi(\\textbf{x})}=ZZFeatureMap$ where the parameter are defined by the data by the command $bind\\_parameters$ "
   ]
  },
  {
   "cell_type": "code",
   "execution_count": 10,
   "metadata": {},
   "outputs": [],
   "source": [
    "import math\n",
    "from qiskit.circuit.library import ZZFeatureMap\n",
    "from math import pi\n",
    "from qiskit.circuit.library import RealAmplitudes\n",
    "import numpy as np"
   ]
  },
  {
   "cell_type": "code",
   "execution_count": 11,
   "metadata": {},
   "outputs": [
    {
     "data": {
      "text/html": [
       "<pre style=\"word-wrap: normal;white-space: pre;background: #fff0;line-height: 1.1;font-family: &quot;Courier New&quot;,Courier,monospace\">     ┌───┐┌───────────┐                        ░                         ┌────────────┐┌───┐\n",
       "q_0: ┤ H ├┤ P(1.0954) ├──■─────────────────■───░───■──────────────────■──┤ P(-1.4142) ├┤ H ├\n",
       "     ├───┤├───────────┤┌─┴─┐┌───────────┐┌─┴─┐ ░ ┌─┴─┐┌────────────┐┌─┴─┐├────────────┤├───┤\n",
       "q_1: ┤ H ├┤ P(1.6733) ├┤ X ├┤ P(11.957) ├┤ X ├─░─┤ X ├┤ P(-11.853) ├┤ X ├┤ P(-1.4142) ├┤ H ├\n",
       "     └───┘└───────────┘└───┘└───────────┘└───┘ ░ └───┘└────────────┘└───┘└────────────┘└───┘</pre>"
      ],
      "text/plain": [
       "     ┌───┐┌───────────┐                        ░                         ┌────────────┐┌───┐\n",
       "q_0: ┤ H ├┤ P(1.0954) ├──■─────────────────■───░───■──────────────────■──┤ P(-1.4142) ├┤ H ├\n",
       "     ├───┤├───────────┤┌─┴─┐┌───────────┐┌─┴─┐ ░ ┌─┴─┐┌────────────┐┌─┴─┐├────────────┤├───┤\n",
       "q_1: ┤ H ├┤ P(1.6733) ├┤ X ├┤ P(11.957) ├┤ X ├─░─┤ X ├┤ P(-11.853) ├┤ X ├┤ P(-1.4142) ├┤ H ├\n",
       "     └───┘└───────────┘└───┘└───────────┘└───┘ ░ └───┘└────────────┘└───┘└────────────┘└───┘"
      ]
     },
     "execution_count": 11,
     "metadata": {},
     "output_type": "execute_result"
    }
   ],
   "source": [
    "data = [np.sqrt(0.3), np.sqrt(0.7)]\n",
    "feature_map = ZZFeatureMap(2, reps=1)\n",
    "feature_map = feature_map.assign_parameters(data) # <== here\n",
    "\n",
    "data2 = [np.sqrt(0.5), np.sqrt(0.5)]\n",
    "feature_map2 = ZZFeatureMap(2, reps=1).inverse()\n",
    "feature_map2 = feature_map2.assign_parameters(data2) # <== here\n",
    "\n",
    "\n",
    "qc = QuantumCircuit(2)\n",
    "qc.compose(feature_map, inplace=True)\n",
    "qc.barrier()\n",
    "qc.compose(feature_map2, inplace=True)\n",
    "\n",
    "qc.decompose().draw(fold=180)"
   ]
  },
  {
   "cell_type": "markdown",
   "metadata": {},
   "source": [
    "Circuit representing $U_{\\phi(\\textbf{y})} ^\\dag   U_{\\phi(\\textbf{x})} |0^{\\otimes 2}  \\rangle$ using the  \\textit{qiskit}  parameterized quantum circuit $U_{\\phi(\\textbf{x})}=ZZFeatureMap$"
   ]
  },
  {
   "cell_type": "code",
   "execution_count": 12,
   "metadata": {},
   "outputs": [
    {
     "name": "stdout",
     "output_type": "stream",
     "text": [
      "\n",
      "Total count are: {'00': 0.955955238600588, '01': 0.024745599013005, '10': 0.016292876362375, '11': 0.003006286024032}\n"
     ]
    },
    {
     "data": {
      "image/png": "[encoded data removed]",
      "text/plain": [
       "<Figure size 504x360 with 1 Axes>"
      ]
     },
     "execution_count": 12,
     "metadata": {},
     "output_type": "execute_result"
    }
   ],
   "source": [
    "simulator = Aer.get_backend('statevector_simulator')\n",
    "result=execute(qc,simulator).result()\n",
    "counts = result.get_counts()\n",
    "print(\"\\nTotal count are:\",counts)\n",
    "plot_histogram(counts)"
   ]
  },
  {
   "cell_type": "markdown",
   "metadata": {},
   "source": [
    "After $10000$ shots we measure $p(|00 \\rangle)=  0.956$ with\n",
    "\n",
    "\\begin{equation}\n",
    "k(\\textbf{x},\\textbf{y})=|  \\langle  0^{\\otimes m} | U_{\\phi(\\textbf{y})} ^\\dag | U_{\\phi(\\textbf{x})} |0^{\\otimes m}  \\rangle |^2= 0.956.\n",
    "\\end{equation}\n"
   ]
  }
 ],
 "metadata": {
  "kernelspec": {
   "display_name": "base",
   "language": "python",
   "name": "python3"
  },
  "language_info": {
   "codemirror_mode": {
    "name": "ipython",
    "version": 3
   },
   "file_extension": ".py",
   "mimetype": "text/x-python",
   "name": "python",
   "nbconvert_exporter": "python",
   "pygments_lexer": "ipython3",
   "version": "3.9.12"
  },
  "orig_nbformat": 4
 },
 "nbformat": 4,
 "nbformat_minor": 2
}
