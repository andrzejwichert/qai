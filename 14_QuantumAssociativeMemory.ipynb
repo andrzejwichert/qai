{
 "cells": [
  {
   "cell_type": "markdown",
   "metadata": {},
   "source": [
    "# Chapter 14: Quantum Associative Memory\n",
    "\n",
    "We store In four binary patterns,\n",
    "\\begin{equation}\n",
    "  |101 \\rangle_4,~~  |011 \\rangle_3,~~ |111 \\rangle_2,~~ |010 \\rangle_1\n",
    "\\end{equation}\n",
    "by entanglement  with the four index qubits $|  index_j    \\rangle$ in superposition \n",
    "\\begin{equation}\n",
    " | index_4    \\rangle= |   11 \\rangle~~~ | index_3 \\rangle= |   10 \\rangle~~~ \n",
    "   | index_2    \\rangle= |   01 \\rangle~~~| index_1   \\rangle= |   00 \\rangle\n",
    "\\end{equation}   \n",
    "The  four patterns with their indexes represented in a uniform distribution of the states\n",
    "\\begin{equation}\n",
    "| \\psi  \\rangle= \\frac{1}{2} \\cdot \\left(   |00010 \\rangle_1 + |01111 \\rangle_2 + |10011 \\rangle_3 +|11101 \\rangle_4 \\right).\n",
    "\\end{equation}\n",
    " We represent the patterns by the qubits $0$, $1$ and $2$ and the index by the qubits $3$ and $4$. the qubit $5$ represents the auxiliary qubit for the Grover's amplification.\n",
    " For simplicity our query vector is represented by the pattern $|111\\rangle$. The quantum  oracle marks the solution by writing a one in the qubit $5$. The solution is the stored pattern $|111\\rangle$  with the index $|index_2 \\rangle= |   01 \\rangle$"
   ]
  },
  {
   "cell_type": "code",
   "execution_count": 118,
   "metadata": {},
   "outputs": [],
   "source": [
    "import numpy as np\n",
    "from qiskit import QuantumCircuit, Aer, execute\n",
    "from qiskit.quantum_info import Statevector\n",
    "from qiskit.visualization import plot_histogram\n",
    "from qiskit.circuit.library import MCXGate\n",
    "from math import pi"
   ]
  },
  {
   "cell_type": "code",
   "execution_count": 119,
   "metadata": {},
   "outputs": [
    {
     "data": {
      "text/html": [
       "<pre style=\"word-wrap: normal;white-space: pre;background: #fff0;line-height: 1.1;font-family: &quot;Courier New&quot;,Courier,monospace\">           ░ ┌───┐      ░      ┌───┐           ░      ┌───┐                ░                 ░      \n",
       "q_0: ──────░─┤ X ├──────░──────┤ X ├───────────░──────┤ X ├────────────────░─────────────────░───■──\n",
       "           ░ └─┬─┘      ░      └─┬─┘┌───┐      ░      └─┬─┘┌───┐           ░      ┌───┐      ░   │  \n",
       "q_1: ──────░───┼────────░────────┼──┤ X ├──────░────────┼──┤ X ├───────────░──────┤ X ├──────░───■──\n",
       "           ░   │  ┌───┐ ░        │  └─┬─┘      ░        │  └─┬─┘┌───┐      ░      └─┬─┘      ░   │  \n",
       "q_2: ──────░───┼──┤ X ├─░────────┼────┼────────░────────┼────┼──┤ X ├──────░────────┼────────░───■──\n",
       "     ┌───┐ ░   │  └─┬─┘ ░ ┌───┐  │    │  ┌───┐ ░        │    │  └─┬─┘      ░ ┌───┐  │  ┌───┐ ░   │  \n",
       "q_3: ┤ H ├─░───■────■───░─┤ X ├──■────■──┤ X ├─░────────■────■────■────────░─┤ X ├──■──┤ X ├─░───┼──\n",
       "     ├───┤ ░   │    │   ░ └───┘  │    │  └───┘ ░ ┌───┐  │    │    │  ┌───┐ ░ ├───┤  │  ├───┤ ░   │  \n",
       "q_4: ┤ H ├─░───■────■───░────────■────■────────░─┤ X ├──■────■────■──┤ X ├─░─┤ X ├──■──┤ X ├─░───┼──\n",
       "     └───┘ ░            ░                      ░ └───┘               └───┘ ░ └───┘     └───┘ ░ ┌─┴─┐\n",
       "q_5: ──────░────────────░──────────────────────░───────────────────────────░─────────────────░─┤ X ├\n",
       "           ░            ░                      ░                           ░                 ░ └───┘</pre>"
      ],
      "text/plain": [
       "           ░ ┌───┐      ░      ┌───┐           ░      ┌───┐                ░                 ░      \n",
       "q_0: ──────░─┤ X ├──────░──────┤ X ├───────────░──────┤ X ├────────────────░─────────────────░───■──\n",
       "           ░ └─┬─┘      ░      └─┬─┘┌───┐      ░      └─┬─┘┌───┐           ░      ┌───┐      ░   │  \n",
       "q_1: ──────░───┼────────░────────┼──┤ X ├──────░────────┼──┤ X ├───────────░──────┤ X ├──────░───■──\n",
       "           ░   │  ┌───┐ ░        │  └─┬─┘      ░        │  └─┬─┘┌───┐      ░      └─┬─┘      ░   │  \n",
       "q_2: ──────░───┼──┤ X ├─░────────┼────┼────────░────────┼────┼──┤ X ├──────░────────┼────────░───■──\n",
       "     ┌───┐ ░   │  └─┬─┘ ░ ┌───┐  │    │  ┌───┐ ░        │    │  └─┬─┘      ░ ┌───┐  │  ┌───┐ ░   │  \n",
       "q_3: ┤ H ├─░───■────■───░─┤ X ├──■────■──┤ X ├─░────────■────■────■────────░─┤ X ├──■──┤ X ├─░───┼──\n",
       "     ├───┤ ░   │    │   ░ └───┘  │    │  └───┘ ░ ┌───┐  │    │    │  ┌───┐ ░ ├───┤  │  ├───┤ ░   │  \n",
       "q_4: ┤ H ├─░───■────■───░────────■────■────────░─┤ X ├──■────■────■──┤ X ├─░─┤ X ├──■──┤ X ├─░───┼──\n",
       "     └───┘ ░            ░                      ░ └───┘               └───┘ ░ └───┘     └───┘ ░ ┌─┴─┐\n",
       "q_5: ──────░────────────░──────────────────────░───────────────────────────░─────────────────░─┤ X ├\n",
       "           ░            ░                      ░                           ░                 ░ └───┘"
      ]
     },
     "execution_count": 119,
     "metadata": {},
     "output_type": "execute_result"
    }
   ],
   "source": [
    "qc = QuantumCircuit(6)\n",
    "\n",
    "#1St magazine\n",
    "#0-2 data\n",
    "#Index\n",
    "#3-4\n",
    "qc.h(3)\n",
    "qc.h(4)\n",
    "\n",
    "#Aux Bit\n",
    "#qc.x(5)\n",
    "#qc.h(5)\n",
    "\n",
    "qc.barrier()\n",
    "\n",
    "#First patern\n",
    "\n",
    "qc.ccx(3,4,0)\n",
    "qc.ccx(3,4,2)\n",
    "\n",
    "qc.barrier()\n",
    "#Second patern\n",
    "\n",
    "qc.x(3)\n",
    "\n",
    "qc.ccx(3,4,0)\n",
    "qc.ccx(3,4,1)\n",
    "\n",
    "qc.x(3)\n",
    "\n",
    "qc.barrier()\n",
    "#Third patern\n",
    "\n",
    "qc.x(4)\n",
    "\n",
    "qc.ccx(3,4,0)\n",
    "qc.ccx(3,4,1)\n",
    "qc.ccx(3,4,2)\n",
    "\n",
    "qc.x(4)\n",
    "\n",
    "qc.barrier()\n",
    "#Fourth patern\n",
    "\n",
    "qc.x(3)\n",
    "qc.x(4)\n",
    "\n",
    "qc.ccx(3,4,1)\n",
    "\n",
    "qc.x(4)\n",
    "qc.x(3)\n",
    "\n",
    "qc.barrier()\n",
    "#Oracle\n",
    "gate = MCXGate(3)\n",
    "qc.append(gate,[0, 1, 2, 5])\n",
    "\n",
    "qc.draw(fold=160)"
   ]
  },
  {
   "cell_type": "markdown",
   "metadata": {},
   "source": [
    "The patterns are represented  by the qubits $0$, $1$ and $2$ and the index by the qubits $3$ and $4$. he qubit $5$ represents the auxiliary qubit for the Grover's amplification.\n",
    "Our query vector is represented by the pattern $|111\\rangle$. The   ccX gate (controlled controlled not gate)  marks the solution by writing a one in the qubit $5$. "
   ]
  },
  {
   "cell_type": "code",
   "execution_count": 120,
   "metadata": {},
   "outputs": [
    {
     "data": {
      "image/png": "[encoded data removed]",
      "text/plain": [
       "<Figure size 504x360 with 1 Axes>"
      ]
     },
     "execution_count": 120,
     "metadata": {},
     "output_type": "execute_result"
    }
   ],
   "source": [
    "simulator = Aer.get_backend('statevector_simulator')\n",
    "result=execute(qc,simulator).result()\n",
    "counts = result.get_counts()\n",
    "plot_histogram(counts)"
   ]
  },
  {
   "cell_type": "markdown",
   "metadata": {},
   "source": [
    "The  histogram representing the four patterns and their indexes  produces a uniform superposition. The solution  $|111\\rangle$  with the the index $|index_2 \\rangle= |   01 \\rangle $ and the auxiliary qubit equal one, corresponds to the state $|01111\\rangle$. "
   ]
  },
  {
   "cell_type": "markdown",
   "metadata": {},
   "source": [
    "Grover's amplification to the index qubits $3$ and $4$"
   ]
  },
  {
   "cell_type": "code",
   "execution_count": 121,
   "metadata": {},
   "outputs": [
    {
     "data": {
      "text/html": [
       "<pre style=\"word-wrap: normal;white-space: pre;background: #fff0;line-height: 1.1;font-family: &quot;Courier New&quot;,Courier,monospace\">                ░ ┌───┐      ░      ┌───┐           ░      ┌───┐                ░                 ░       ░       ░                   \n",
       "q_0: ───────────░─┤ X ├──────░──────┤ X ├───────────░──────┤ X ├────────────────░─────────────────░───■───░───────░───────────────────\n",
       "                ░ └─┬─┘      ░      └─┬─┘┌───┐      ░      └─┬─┘┌───┐           ░      ┌───┐      ░   │   ░       ░                   \n",
       "q_1: ───────────░───┼────────░────────┼──┤ X ├──────░────────┼──┤ X ├───────────░──────┤ X ├──────░───■───░───────░───────────────────\n",
       "                ░   │  ┌───┐ ░        │  └─┬─┘      ░        │  └─┬─┘┌───┐      ░      └─┬─┘      ░   │   ░       ░                   \n",
       "q_2: ───────────░───┼──┤ X ├─░────────┼────┼────────░────────┼────┼──┤ X ├──────░────────┼────────░───■───░───────░───────────────────\n",
       "     ┌───┐      ░   │  └─┬─┘ ░ ┌───┐  │    │  ┌───┐ ░        │    │  └─┬─┘      ░ ┌───┐  │  ┌───┐ ░   │   ░       ░ ┌───┐┌───┐   ┌───┐\n",
       "q_3: ┤ H ├──────░───■────■───░─┤ X ├──■────■──┤ X ├─░────────■────■────■────────░─┤ X ├──■──┤ X ├─░───┼───░───────░─┤ H ├┤ Z ├─■─┤ H ├\n",
       "     ├───┤      ░   │    │   ░ └───┘  │    │  └───┘ ░ ┌───┐  │    │    │  ┌───┐ ░ ├───┤  │  ├───┤ ░   │   ░       ░ ├───┤├───┤ │ ├───┤\n",
       "q_4: ┤ H ├──────░───■────■───░────────■────■────────░─┤ X ├──■────■────■──┤ X ├─░─┤ X ├──■──┤ X ├─░───┼───░───────░─┤ H ├┤ Z ├─■─┤ H ├\n",
       "     ├───┤┌───┐ ░            ░                      ░ └───┘               └───┘ ░ └───┘     └───┘ ░ ┌─┴─┐ ░ ┌───┐ ░ └───┘└───┘   └───┘\n",
       "q_5: ┤ X ├┤ H ├─░────────────░──────────────────────░───────────────────────────░─────────────────░─┤ X ├─░─┤ H ├─░───────────────────\n",
       "     └───┘└───┘ ░            ░                      ░                           ░                 ░ └───┘ ░ └───┘ ░                   </pre>"
      ],
      "text/plain": [
       "                ░ ┌───┐      ░      ┌───┐           ░      ┌───┐                ░                 ░       ░       ░                   \n",
       "q_0: ───────────░─┤ X ├──────░──────┤ X ├───────────░──────┤ X ├────────────────░─────────────────░───■───░───────░───────────────────\n",
       "                ░ └─┬─┘      ░      └─┬─┘┌───┐      ░      └─┬─┘┌───┐           ░      ┌───┐      ░   │   ░       ░                   \n",
       "q_1: ───────────░───┼────────░────────┼──┤ X ├──────░────────┼──┤ X ├───────────░──────┤ X ├──────░───■───░───────░───────────────────\n",
       "                ░   │  ┌───┐ ░        │  └─┬─┘      ░        │  └─┬─┘┌───┐      ░      └─┬─┘      ░   │   ░       ░                   \n",
       "q_2: ───────────░───┼──┤ X ├─░────────┼────┼────────░────────┼────┼──┤ X ├──────░────────┼────────░───■───░───────░───────────────────\n",
       "     ┌───┐      ░   │  └─┬─┘ ░ ┌───┐  │    │  ┌───┐ ░        │    │  └─┬─┘      ░ ┌───┐  │  ┌───┐ ░   │   ░       ░ ┌───┐┌───┐   ┌───┐\n",
       "q_3: ┤ H ├──────░───■────■───░─┤ X ├──■────■──┤ X ├─░────────■────■────■────────░─┤ X ├──■──┤ X ├─░───┼───░───────░─┤ H ├┤ Z ├─■─┤ H ├\n",
       "     ├───┤      ░   │    │   ░ └───┘  │    │  └───┘ ░ ┌───┐  │    │    │  ┌───┐ ░ ├───┤  │  ├───┤ ░   │   ░       ░ ├───┤├───┤ │ ├───┤\n",
       "q_4: ┤ H ├──────░───■────■───░────────■────■────────░─┤ X ├──■────■────■──┤ X ├─░─┤ X ├──■──┤ X ├─░───┼───░───────░─┤ H ├┤ Z ├─■─┤ H ├\n",
       "     ├───┤┌───┐ ░            ░                      ░ └───┘               └───┘ ░ └───┘     └───┘ ░ ┌─┴─┐ ░ ┌───┐ ░ └───┘└───┘   └───┘\n",
       "q_5: ┤ X ├┤ H ├─░────────────░──────────────────────░───────────────────────────░─────────────────░─┤ X ├─░─┤ H ├─░───────────────────\n",
       "     └───┘└───┘ ░            ░                      ░                           ░                 ░ └───┘ ░ └───┘ ░                   "
      ]
     },
     "execution_count": 121,
     "metadata": {},
     "output_type": "execute_result"
    }
   ],
   "source": [
    "qc = QuantumCircuit(6)\n",
    "\n",
    "#1St magazine\n",
    "#0-2 data\n",
    "#Index\n",
    "#3-4\n",
    "qc.h(3)\n",
    "qc.h(4)\n",
    "\n",
    "#Aux Bit\n",
    "qc.x(5)\n",
    "qc.h(5)\n",
    "\n",
    "qc.barrier()\n",
    "\n",
    "#First patern\n",
    "\n",
    "qc.ccx(3,4,0)\n",
    "qc.ccx(3,4,2)\n",
    "\n",
    "qc.barrier()\n",
    "#Second patern\n",
    "\n",
    "qc.x(3)\n",
    "\n",
    "qc.ccx(3,4,0)\n",
    "qc.ccx(3,4,1)\n",
    "\n",
    "qc.x(3)\n",
    "\n",
    "qc.barrier()\n",
    "#Third patern\n",
    "\n",
    "qc.x(4)\n",
    "\n",
    "qc.ccx(3,4,0)\n",
    "qc.ccx(3,4,1)\n",
    "qc.ccx(3,4,2)\n",
    "\n",
    "qc.x(4)\n",
    "\n",
    "qc.barrier()\n",
    "#Fourth patern\n",
    "\n",
    "qc.x(3)\n",
    "qc.x(4)\n",
    "\n",
    "qc.ccx(3,4,1)\n",
    "\n",
    "qc.x(4)\n",
    "qc.x(3)\n",
    "\n",
    "qc.barrier()\n",
    "#Oracle\n",
    "gate = MCXGate(3)\n",
    "qc.append(gate,[0, 1, 2, 5])\n",
    "\n",
    "qc.barrier()\n",
    "#Redo Aux Bit\n",
    "qc.h(5)\n",
    "qc.barrier()\n",
    "#Diffusor\n",
    "qc.h([3,4])\n",
    "qc.z([3,4])\n",
    "qc.cz(3,4)\n",
    "qc.h([3,4])\n",
    "\n",
    "qc.draw(fold=160)"
   ]
  },
  {
   "cell_type": "code",
   "execution_count": 122,
   "metadata": {},
   "outputs": [
    {
     "data": {
      "image/png": "[encoded data removed]",
      "text/plain": [
       "<Figure size 504x360 with 1 Axes>"
      ]
     },
     "execution_count": 122,
     "metadata": {},
     "output_type": "execute_result"
    }
   ],
   "source": [
    "simulator = Aer.get_backend('statevector_simulator')\n",
    "result=execute(qc,simulator).result()\n",
    "\n",
    "counts = result.get_counts()\n",
    "plot_histogram(counts)"
   ]
  },
  {
   "cell_type": "markdown",
   "metadata": {},
   "source": [
    "Since the index qubits are entangled with the patterns we do not get the correct results."
   ]
  },
  {
   "cell_type": "markdown",
   "metadata": {},
   "source": [
    "To apply Grover's amplification to the two index qubits, the  entanglement of the index qubits with the patterns has to be un-computed. For the four state we require just one rotation. "
   ]
  },
  {
   "cell_type": "code",
   "execution_count": 123,
   "metadata": {},
   "outputs": [],
   "source": [
    "def store():\n",
    "    qc = QuantumCircuit(5)\n",
    "    #First patern\n",
    "\n",
    "    qc.ccx(3,4,0)\n",
    "    qc.ccx(3,4,2)\n",
    "\n",
    "    qc.barrier()\n",
    "    #Second patern\n",
    "\n",
    "    qc.x(3)\n",
    "\n",
    "    qc.ccx(3,4,0)\n",
    "    qc.ccx(3,4,1)\n",
    "\n",
    "    qc.x(3)\n",
    "\n",
    "    qc.barrier()\n",
    "    #Third patern\n",
    "\n",
    "    qc.x(4)\n",
    "\n",
    "    qc.ccx(3,4,0)\n",
    "    qc.ccx(3,4,1)\n",
    "    qc.ccx(3,4,2)\n",
    "\n",
    "    qc.x(4)\n",
    "\n",
    "    qc.barrier()\n",
    "    #Fourth patern\n",
    "\n",
    "    qc.x(3)\n",
    "    qc.x(4)\n",
    "\n",
    "    qc.ccx(3,4,1)\n",
    "\n",
    "    qc.x(4)\n",
    "    qc.x(3)\n",
    "\n",
    "    qc.name=\"Store\"\n",
    "    return qc"
   ]
  },
  {
   "cell_type": "code",
   "execution_count": 124,
   "metadata": {},
   "outputs": [],
   "source": [
    "def store_inv():\n",
    "    qc=store()\n",
    "    qc_inv=qc.inverse()\n",
    "    qc_inv.name=\"Store†\"\n",
    "    return qc_inv"
   ]
  },
  {
   "cell_type": "code",
   "execution_count": 125,
   "metadata": {},
   "outputs": [
    {
     "data": {
      "text/html": [
       "<pre style=\"word-wrap: normal;white-space: pre;background: #fff0;line-height: 1.1;font-family: &quot;Courier New&quot;,Courier,monospace\">                ░ ┌────────┐ ░       ░ ┌─────────┐ ░       ░                    ░ \n",
       "q_0: ───────────░─┤0       ├─░───■───░─┤0        ├─░───────░────────────────────░─\n",
       "                ░ │        │ ░   │   ░ │         │ ░       ░                    ░ \n",
       "q_1: ───────────░─┤1       ├─░───■───░─┤1        ├─░───────░────────────────────░─\n",
       "                ░ │        │ ░   │   ░ │         │ ░       ░                    ░ \n",
       "q_2: ───────────░─┤2 Store ├─░───■───░─┤2 Store† ├─░───────░────────────────────░─\n",
       "     ┌───┐      ░ │        │ ░   │   ░ │         │ ░       ░ ┌───┐┌───┐   ┌───┐ ░ \n",
       "q_3: ┤ H ├──────░─┤3       ├─░───┼───░─┤3        ├─░───────░─┤ H ├┤ Z ├─■─┤ H ├─░─\n",
       "     ├───┤      ░ │        │ ░   │   ░ │         │ ░       ░ ├───┤├───┤ │ ├───┤ ░ \n",
       "q_4: ┤ H ├──────░─┤4       ├─░───┼───░─┤4        ├─░───────░─┤ H ├┤ Z ├─■─┤ H ├─░─\n",
       "     ├───┤┌───┐ ░ └────────┘ ░ ┌─┴─┐ ░ └─────────┘ ░ ┌───┐ ░ └───┘└───┘   └───┘ ░ \n",
       "q_5: ┤ X ├┤ H ├─░────────────░─┤ X ├─░─────────────░─┤ H ├─░────────────────────░─\n",
       "     └───┘└───┘ ░            ░ └───┘ ░             ░ └───┘ ░                    ░ </pre>"
      ],
      "text/plain": [
       "                ░ ┌────────┐ ░       ░ ┌─────────┐ ░       ░                    ░ \n",
       "q_0: ───────────░─┤0       ├─░───■───░─┤0        ├─░───────░────────────────────░─\n",
       "                ░ │        │ ░   │   ░ │         │ ░       ░                    ░ \n",
       "q_1: ───────────░─┤1       ├─░───■───░─┤1        ├─░───────░────────────────────░─\n",
       "                ░ │        │ ░   │   ░ │         │ ░       ░                    ░ \n",
       "q_2: ───────────░─┤2 Store ├─░───■───░─┤2 Store† ├─░───────░────────────────────░─\n",
       "     ┌───┐      ░ │        │ ░   │   ░ │         │ ░       ░ ┌───┐┌───┐   ┌───┐ ░ \n",
       "q_3: ┤ H ├──────░─┤3       ├─░───┼───░─┤3        ├─░───────░─┤ H ├┤ Z ├─■─┤ H ├─░─\n",
       "     ├───┤      ░ │        │ ░   │   ░ │         │ ░       ░ ├───┤├───┤ │ ├───┤ ░ \n",
       "q_4: ┤ H ├──────░─┤4       ├─░───┼───░─┤4        ├─░───────░─┤ H ├┤ Z ├─■─┤ H ├─░─\n",
       "     ├───┤┌───┐ ░ └────────┘ ░ ┌─┴─┐ ░ └─────────┘ ░ ┌───┐ ░ └───┘└───┘   └───┘ ░ \n",
       "q_5: ┤ X ├┤ H ├─░────────────░─┤ X ├─░─────────────░─┤ H ├─░────────────────────░─\n",
       "     └───┘└───┘ ░            ░ └───┘ ░             ░ └───┘ ░                    ░ "
      ]
     },
     "execution_count": 125,
     "metadata": {},
     "output_type": "execute_result"
    }
   ],
   "source": [
    "qc = QuantumCircuit(6)\n",
    "\n",
    "#1St magazine\n",
    "#0-2 data\n",
    "#Index\n",
    "#3-4\n",
    "qc.h(3)\n",
    "qc.h(4)\n",
    "\n",
    "#Aux Bit\n",
    "qc.x(5)\n",
    "qc.h(5)\n",
    "\n",
    "qc.barrier()\n",
    "\n",
    "qc.append(store(),range(5))\n",
    "\n",
    "qc.barrier()\n",
    "#Oracle\n",
    "gate = MCXGate(3)\n",
    "qc.append(gate,[0, 1, 2, 5])\n",
    "\n",
    "qc.barrier()\n",
    "\n",
    "qc.append(store_inv(),range(5))\n",
    "\n",
    "qc.barrier()\n",
    "#Redo Aux Bit\n",
    "qc.h(5)\n",
    "qc.barrier()\n",
    "#Diffusor\n",
    "qc.h([3,4])\n",
    "qc.z([3,4])\n",
    "qc.cz(3,4)\n",
    "qc.h([3,4])\n",
    "\n",
    "qc.barrier()\n",
    "\n",
    "qc.draw(fold=160)\n"
   ]
  },
  {
   "cell_type": "code",
   "execution_count": 126,
   "metadata": {},
   "outputs": [
    {
     "data": {
      "image/png": "[encoded data removed]",
      "text/plain": [
       "<Figure size 504x360 with 1 Axes>"
      ]
     },
     "execution_count": 126,
     "metadata": {},
     "output_type": "execute_result"
    }
   ],
   "source": [
    "simulator = Aer.get_backend('statevector_simulator')\n",
    "result=execute(qc,simulator).result()\n",
    "counts = result.get_counts()\n",
    "plot_histogram(counts)"
   ]
  },
  {
   "cell_type": "markdown",
   "metadata": {},
   "source": [
    "We measure the correct result represented by one state with the $|index_2 \\rangle= |  01 \\rangle$."
   ]
  },
  {
   "cell_type": "markdown",
   "metadata": {},
   "source": [
    "Instead of un-computing, we would like to apply Grover’s algorithm to the five qubits representing the patterns and the indexes."
   ]
  },
  {
   "cell_type": "code",
   "execution_count": 127,
   "metadata": {},
   "outputs": [
    {
     "data": {
      "text/html": [
       "<pre style=\"word-wrap: normal;white-space: pre;background: #fff0;line-height: 1.1;font-family: &quot;Courier New&quot;,Courier,monospace\">                ░ ┌────────┐ ░       ░       ░ ┌───┐┌───┐┌───┐┌───┐┌───┐ ░ ┌───┐┌───┐\n",
       "q_0: ───────────░─┤0       ├─░───■───░───────░─┤ H ├┤ X ├┤ H ├┤ X ├┤ H ├─░─┤ X ├┤ H ├\n",
       "                ░ │        │ ░   │   ░       ░ ├───┤├───┤└───┘└─┬─┘└───┘ ░ ├───┤├───┤\n",
       "q_1: ───────────░─┤1       ├─░───■───░───────░─┤ H ├┤ X ├───────■────────░─┤ X ├┤ H ├\n",
       "                ░ │        │ ░   │   ░       ░ ├───┤├───┤       │        ░ ├───┤├───┤\n",
       "q_2: ───────────░─┤2 Store ├─░───■───░───────░─┤ H ├┤ X ├───────■────────░─┤ X ├┤ H ├\n",
       "     ┌───┐      ░ │        │ ░   │   ░       ░ ├───┤├───┤       │        ░ ├───┤├───┤\n",
       "q_3: ┤ H ├──────░─┤3       ├─░───┼───░───────░─┤ H ├┤ X ├───────■────────░─┤ X ├┤ H ├\n",
       "     ├───┤      ░ │        │ ░   │   ░       ░ ├───┤├───┤       │        ░ ├───┤├───┤\n",
       "q_4: ┤ H ├──────░─┤4       ├─░───┼───░───────░─┤ H ├┤ X ├───────■────────░─┤ X ├┤ H ├\n",
       "     ├───┤┌───┐ ░ └────────┘ ░ ┌─┴─┐ ░ ┌───┐ ░ └───┘└───┘                ░ └───┘└───┘\n",
       "q_5: ┤ X ├┤ H ├─░────────────░─┤ X ├─░─┤ H ├─░───────────────────────────░───────────\n",
       "     └───┘└───┘ ░            ░ └───┘ ░ └───┘ ░                           ░           </pre>"
      ],
      "text/plain": [
       "                ░ ┌────────┐ ░       ░       ░ ┌───┐┌───┐┌───┐┌───┐┌───┐ ░ ┌───┐┌───┐\n",
       "q_0: ───────────░─┤0       ├─░───■───░───────░─┤ H ├┤ X ├┤ H ├┤ X ├┤ H ├─░─┤ X ├┤ H ├\n",
       "                ░ │        │ ░   │   ░       ░ ├───┤├───┤└───┘└─┬─┘└───┘ ░ ├───┤├───┤\n",
       "q_1: ───────────░─┤1       ├─░───■───░───────░─┤ H ├┤ X ├───────■────────░─┤ X ├┤ H ├\n",
       "                ░ │        │ ░   │   ░       ░ ├───┤├───┤       │        ░ ├───┤├───┤\n",
       "q_2: ───────────░─┤2 Store ├─░───■───░───────░─┤ H ├┤ X ├───────■────────░─┤ X ├┤ H ├\n",
       "     ┌───┐      ░ │        │ ░   │   ░       ░ ├───┤├───┤       │        ░ ├───┤├───┤\n",
       "q_3: ┤ H ├──────░─┤3       ├─░───┼───░───────░─┤ H ├┤ X ├───────■────────░─┤ X ├┤ H ├\n",
       "     ├───┤      ░ │        │ ░   │   ░       ░ ├───┤├───┤       │        ░ ├───┤├───┤\n",
       "q_4: ┤ H ├──────░─┤4       ├─░───┼───░───────░─┤ H ├┤ X ├───────■────────░─┤ X ├┤ H ├\n",
       "     ├───┤┌───┐ ░ └────────┘ ░ ┌─┴─┐ ░ ┌───┐ ░ └───┘└───┘                ░ └───┘└───┘\n",
       "q_5: ┤ X ├┤ H ├─░────────────░─┤ X ├─░─┤ H ├─░───────────────────────────░───────────\n",
       "     └───┘└───┘ ░            ░ └───┘ ░ └───┘ ░                           ░           "
      ]
     },
     "execution_count": 127,
     "metadata": {},
     "output_type": "execute_result"
    }
   ],
   "source": [
    "qc = QuantumCircuit(6)\n",
    "\n",
    "#1St magazine\n",
    "#0-2 data\n",
    "#Index\n",
    "#3-4\n",
    "qc.h(3)\n",
    "qc.h(4)\n",
    "\n",
    "#Aux Bit\n",
    "qc.x(5)\n",
    "qc.h(5)\n",
    "\n",
    "qc.barrier()\n",
    "\n",
    "qc.append(store(),range(5))\n",
    "\n",
    "qc.barrier()\n",
    "#Oracle\n",
    "gate = MCXGate(3)\n",
    "qc.append(gate,[0, 1, 2, 5])\n",
    "\n",
    "qc.barrier()\n",
    "#Redo Aux Bit\n",
    "qc.h(5)\n",
    "qc.barrier()\n",
    "#Diffusor\n",
    "gate = MCXGate(4)\n",
    "\n",
    "qc.h([0,1,2,3,4])\n",
    "qc.x([0,1,2,3,4])\n",
    "qc.h([0])\n",
    "qc.append(gate, [1,2,3,4,0])\n",
    "qc.h([0])\n",
    "qc.barrier()\n",
    "qc.x([0,1,2,3,4])\n",
    "qc.h([0,1,2,3,4])\n",
    "\n",
    "\n",
    "qc.draw(fold=160)"
   ]
  },
  {
   "cell_type": "code",
   "execution_count": 128,
   "metadata": {},
   "outputs": [
    {
     "data": {
      "image/png": "[encoded data removed]",
      "text/plain": [
       "<Figure size 504x360 with 1 Axes>"
      ]
     },
     "execution_count": 128,
     "metadata": {},
     "output_type": "execute_result"
    }
   ],
   "source": [
    "simulator = Aer.get_backend('statevector_simulator')\n",
    "result=execute(qc,simulator).result()\n",
    "counts = result.get_counts()\n",
    "plot_histogram(counts)"
   ]
  },
  {
   "cell_type": "markdown",
   "metadata": {},
   "source": [
    "Measuring the states after one rotation of Grover's amplification indicates us that something wired is happening.\n"
   ]
  },
  {
   "cell_type": "markdown",
   "metadata": {},
   "source": [
    "## Quantum Associative Memory (QuAM)\n",
    "\n",
    "In the quantum associative memory  (QuAM)  as proposed by Venture and Martinez, a modified version of Grover’s search algorithm is applied to determine the answer vector to a query vector. "
   ]
  },
  {
   "cell_type": "code",
   "execution_count": 129,
   "metadata": {},
   "outputs": [],
   "source": [
    "import numpy as np\n",
    "from qiskit import QuantumCircuit, Aer, execute\n",
    "from qiskit.quantum_info import Statevector\n",
    "from qiskit.visualization import plot_histogram\n",
    "from qiskit.circuit.library import MCXGate\n",
    "from math import pi"
   ]
  },
  {
   "cell_type": "markdown",
   "metadata": {},
   "source": [
    "From the initial distribution we mark the target state $|0110 \\rangle$ by a negative phase and perform a Grover's rotation "
   ]
  },
  {
   "cell_type": "code",
   "execution_count": 130,
   "metadata": {},
   "outputs": [
    {
     "data": {
      "text/html": [
       "<pre style=\"word-wrap: normal;white-space: pre;background: #fff0;line-height: 1.1;font-family: &quot;Courier New&quot;,Courier,monospace\">                ░ ┌───┐      ░      ┌───┐      ░                 ░      ┌───┐           ░ ┌───┐     ┌───┐ ░       ░ ┌───┐┌───┐┌───┐┌───┐┌───┐┌───┐┌───┐\n",
       "q_0: ───────────░─┤ X ├──────░──────┤ X ├──────░─────────────────░──────┤ X ├───────────░─┤ X ├──■──┤ X ├─░───────░─┤ H ├┤ X ├┤ H ├┤ X ├┤ H ├┤ X ├┤ H ├\n",
       "                ░ └─┬─┘┌───┐ ░      └─┬─┘      ░      ┌───┐      ░      └─┬─┘┌───┐      ░ └───┘  │  └───┘ ░       ░ ├───┤├───┤└───┘└─┬─┘├───┤├───┤└───┘\n",
       "q_1: ───────────░───┼──┤ X ├─░────────┼────────░──────┤ X ├──────░────────┼──┤ X ├──────░────────■────────░───────░─┤ H ├┤ X ├───────■──┤ X ├┤ H ├─────\n",
       "     ┌───┐      ░   │  └─┬─┘ ░ ┌───┐  │  ┌───┐ ░      └─┬─┘      ░ ┌───┐  │  └─┬─┘┌───┐ ░        │        ░       ░ ├───┤├───┤       │  ├───┤├───┤     \n",
       "q_2: ┤ H ├──────░───■────■───░─┤ X ├──■──┤ X ├─░────────■────────░─┤ X ├──■────■──┤ X ├─░────────■────────░───────░─┤ H ├┤ X ├───────■──┤ X ├┤ H ├─────\n",
       "     ├───┤      ░   │    │   ░ └───┘  │  └───┘ ░ ┌───┐  │  ┌───┐ ░ ├───┤  │    │  ├───┤ ░ ┌───┐  │  ┌───┐ ░       ░ ├───┤├───┤       │  ├───┤├───┤     \n",
       "q_3: ┤ H ├──────░───■────■───░────────■────────░─┤ X ├──■──┤ X ├─░─┤ X ├──■────■──┤ X ├─░─┤ X ├──■──┤ X ├─░───────░─┤ H ├┤ X ├───────■──┤ X ├┤ H ├─────\n",
       "     ├───┤┌───┐ ░            ░                 ░ └───┘     └───┘ ░ └───┘          └───┘ ░ └───┘┌─┴─┐└───┘ ░ ┌───┐ ░ └───┘└───┘          └───┘└───┘     \n",
       "q_4: ┤ X ├┤ H ├─░────────────░─────────────────░─────────────────░──────────────────────░──────┤ X ├──────░─┤ H ├─░────────────────────────────────────\n",
       "     └───┘└───┘ ░            ░                 ░                 ░                      ░      └───┘      ░ └───┘ ░                                    </pre>"
      ],
      "text/plain": [
       "                ░ ┌───┐      ░      ┌───┐      ░                 ░      ┌───┐           ░ ┌───┐     ┌───┐ ░       ░ ┌───┐┌───┐┌───┐┌───┐┌───┐┌───┐┌───┐\n",
       "q_0: ───────────░─┤ X ├──────░──────┤ X ├──────░─────────────────░──────┤ X ├───────────░─┤ X ├──■──┤ X ├─░───────░─┤ H ├┤ X ├┤ H ├┤ X ├┤ H ├┤ X ├┤ H ├\n",
       "                ░ └─┬─┘┌───┐ ░      └─┬─┘      ░      ┌───┐      ░      └─┬─┘┌───┐      ░ └───┘  │  └───┘ ░       ░ ├───┤├───┤└───┘└─┬─┘├───┤├───┤└───┘\n",
       "q_1: ───────────░───┼──┤ X ├─░────────┼────────░──────┤ X ├──────░────────┼──┤ X ├──────░────────■────────░───────░─┤ H ├┤ X ├───────■──┤ X ├┤ H ├─────\n",
       "     ┌───┐      ░   │  └─┬─┘ ░ ┌───┐  │  ┌───┐ ░      └─┬─┘      ░ ┌───┐  │  └─┬─┘┌───┐ ░        │        ░       ░ ├───┤├───┤       │  ├───┤├───┤     \n",
       "q_2: ┤ H ├──────░───■────■───░─┤ X ├──■──┤ X ├─░────────■────────░─┤ X ├──■────■──┤ X ├─░────────■────────░───────░─┤ H ├┤ X ├───────■──┤ X ├┤ H ├─────\n",
       "     ├───┤      ░   │    │   ░ └───┘  │  └───┘ ░ ┌───┐  │  ┌───┐ ░ ├───┤  │    │  ├───┤ ░ ┌───┐  │  ┌───┐ ░       ░ ├───┤├───┤       │  ├───┤├───┤     \n",
       "q_3: ┤ H ├──────░───■────■───░────────■────────░─┤ X ├──■──┤ X ├─░─┤ X ├──■────■──┤ X ├─░─┤ X ├──■──┤ X ├─░───────░─┤ H ├┤ X ├───────■──┤ X ├┤ H ├─────\n",
       "     ├───┤┌───┐ ░            ░                 ░ └───┘     └───┘ ░ └───┘          └───┘ ░ └───┘┌─┴─┐└───┘ ░ ┌───┐ ░ └───┘└───┘          └───┘└───┘     \n",
       "q_4: ┤ X ├┤ H ├─░────────────░─────────────────░─────────────────░──────────────────────░──────┤ X ├──────░─┤ H ├─░────────────────────────────────────\n",
       "     └───┘└───┘ ░            ░                 ░                 ░                      ░      └───┘      ░ └───┘ ░                                    "
      ]
     },
     "execution_count": 130,
     "metadata": {},
     "output_type": "execute_result"
    }
   ],
   "source": [
    "qc = QuantumCircuit(5)\n",
    "\n",
    "#1St magazine\n",
    "#0-1 data\n",
    "#Index\n",
    "#2-3\n",
    "qc.h(2)\n",
    "qc.h(3)\n",
    "\n",
    "\n",
    "#Aux Bit\n",
    "qc.x(4)\n",
    "qc.h(4)\n",
    "\n",
    "qc.barrier()\n",
    "#First patern\n",
    "qc.ccx(2,3,0)\n",
    "qc.ccx(2,3,1)\n",
    "\n",
    "qc.barrier()\n",
    "#Second patern\n",
    "qc.x(2)\n",
    "qc.ccx(2,3,0)\n",
    "qc.x(2)\n",
    "\n",
    "qc.barrier()\n",
    "#Third patern\n",
    "qc.x(3)\n",
    "qc.ccx(2,3,1)\n",
    "qc.x(3)\n",
    "\n",
    "qc.barrier()\n",
    "#Fourth patern\n",
    "qc.x(2)\n",
    "qc.x(3)\n",
    "qc.ccx(2,3,0)\n",
    "qc.ccx(2,3,1)\n",
    "qc.x(3)\n",
    "qc.x(2)\n",
    "\n",
    "#Oracle\n",
    "qc.barrier()\n",
    "qc.x(0)\n",
    "qc.x(3)\n",
    "gate = MCXGate(4)\n",
    "qc.append(gate, [0,1,2,3,4])\n",
    "qc.x(3)\n",
    "qc.x(0)\n",
    "qc.barrier()\n",
    "qc.h(4)\n",
    "#Diffusor 0, 1, 2, 3 \n",
    "qc.barrier()\n",
    "\n",
    "qc.h([0,1,2,3])\n",
    "qc.x([0,1,2,3])\n",
    "qc.h(0)\n",
    "gate = MCXGate(3)\n",
    "qc.append(gate, [1,2,3,0])\n",
    "qc.h(0)\n",
    "qc.x([0,1,2,3])\n",
    "qc.h([0,1,2,3])\n",
    "\n",
    "#qc.rz(2*pi,1)\n",
    "\n",
    "\n",
    "qc.draw(fold=160)\n"
   ]
  },
  {
   "cell_type": "code",
   "execution_count": 131,
   "metadata": {},
   "outputs": [
    {
     "data": {
      "image/png": "[encoded data removed]",
      "text/plain": [
       "<Figure size 504x360 with 1 Axes>"
      ]
     },
     "execution_count": 131,
     "metadata": {},
     "output_type": "execute_result"
    }
   ],
   "source": [
    "simulator = Aer.get_backend('statevector_simulator')\n",
    "\n",
    "# Run and get counts\n",
    "result=execute(qc,simulator).result()\n",
    "counts = result.get_counts()\n",
    "plot_histogram(counts)"
   ]
  },
  {
   "cell_type": "markdown",
   "metadata": {},
   "source": [
    "with the result"
   ]
  },
  {
   "cell_type": "code",
   "execution_count": 132,
   "metadata": {},
   "outputs": [
    {
     "data": {
      "text/latex": [
       "$$\n",
       "\\text{Statevector} = \n",
       "\\begin{bmatrix}\n",
       "0 & 0 & 0 & 0 & 0 & 0 & 0 & 0 & 0 & 0 & 0 & 0 & 0 & 0 & 0 & 0 & - \\frac{1}{8} & - \\frac{1}{8} & - \\frac{1}{8} & \\frac{3}{8} & - \\frac{1}{8} & - \\frac{1}{8} & - \\frac{5}{8} & - \\frac{1}{8} & - \\frac{1}{8} & \\frac{3}{8} & - \\frac{1}{8} & - \\frac{1}{8} & - \\frac{1}{8} & - \\frac{1}{8} & - \\frac{1}{8} & \\frac{3}{8}  \\\\\n",
       " \\end{bmatrix}\n",
       "$$"
      ],
      "text/plain": [
       "<IPython.core.display.Latex object>"
      ]
     },
     "execution_count": 132,
     "metadata": {},
     "output_type": "execute_result"
    }
   ],
   "source": [
    "simulator = Aer.get_backend('statevector_simulator')\n",
    "final_state = simulator.run(qc).result().get_statevector()\n",
    "\n",
    "from qiskit.visualization import array_to_latex\n",
    "array_to_latex(final_state,max_size=256,precision=4,prefix=\"\\\\text{Statevector} = \")"
   ]
  },
  {
   "cell_type": "markdown",
   "metadata": {},
   "source": [
    "However, now me mark all  four states that represent our distribution by a negative phase and perform a Grover's rotation  "
   ]
  },
  {
   "cell_type": "code",
   "execution_count": 133,
   "metadata": {},
   "outputs": [
    {
     "data": {
      "text/html": [
       "<pre style=\"word-wrap: normal;white-space: pre;background: #fff0;line-height: 1.1;font-family: &quot;Courier New&quot;,Courier,monospace\">                ░ ┌───┐      ░      ┌───┐      ░                 ░      ┌───┐           ░ ┌───┐     ┌───┐ ░       ░ ┌───┐┌───┐┌───┐┌───┐┌───┐┌───┐┌───┐ ░       ░ ┌───┐     ┌───┐                                    ░       ░ ┌───┐┌───┐┌───┐┌───┐┌───┐┌───┐┌───┐\n",
       "q_0: ───────────░─┤ X ├──────░──────┤ X ├──────░─────────────────░──────┤ X ├───────────░─┤ X ├──■──┤ X ├─░───────░─┤ H ├┤ X ├┤ H ├┤ X ├┤ H ├┤ X ├┤ H ├─░───────░─┤ X ├──■──┤ X ├───────■──────────────■─────────■───░───────░─┤ H ├┤ X ├┤ H ├┤ X ├┤ H ├┤ X ├┤ H ├\n",
       "                ░ └─┬─┘┌───┐ ░      └─┬─┘      ░      ┌───┐      ░      └─┬─┘┌───┐      ░ └───┘  │  └───┘ ░       ░ ├───┤├───┤└───┘└─┬─┘├───┤├───┤└───┘ ░       ░ └───┘  │  └───┘       │  ┌───┐       │  ┌───┐  │   ░       ░ ├───┤├───┤└───┘└─┬─┘├───┤├───┤└───┘\n",
       "q_1: ───────────░───┼──┤ X ├─░────────┼────────░──────┤ X ├──────░────────┼──┤ X ├──────░────────■────────░───────░─┤ H ├┤ X ├───────■──┤ X ├┤ H ├──────░───────░────────■──────────────■──┤ X ├───────■──┤ X ├──■───░───────░─┤ H ├┤ X ├───────■──┤ X ├┤ H ├─────\n",
       "     ┌───┐      ░   │  └─┬─┘ ░ ┌───┐  │  ┌───┐ ░      └─┬─┘      ░ ┌───┐  │  └─┬─┘┌───┐ ░        │        ░       ░ ├───┤├───┤       │  ├───┤├───┤      ░       ░        │  ┌───┐       │  ├───┤┌───┐  │  ├───┤  │   ░       ░ ├───┤├───┤       │  ├───┤├───┤     \n",
       "q_2: ┤ H ├──────░───■────■───░─┤ X ├──■──┤ X ├─░────────■────────░─┤ X ├──■────■──┤ X ├─░────────■────────░───────░─┤ H ├┤ X ├───────■──┤ X ├┤ H ├──────░───────░────────■──┤ X ├───────■──┤ X ├┤ X ├──■──┤ X ├──■───░───────░─┤ H ├┤ X ├───────■──┤ X ├┤ H ├─────\n",
       "     ├───┤      ░   │    │   ░ └───┘  │  └───┘ ░ ┌───┐  │  ┌───┐ ░ ├───┤  │    │  ├───┤ ░ ┌───┐  │  ┌───┐ ░       ░ ├───┤├───┤       │  ├───┤├───┤      ░       ░ ┌───┐  │  ├───┤┌───┐  │  ├───┤└───┘  │  └───┘  │   ░       ░ ├───┤├───┤       │  ├───┤├───┤     \n",
       "q_3: ┤ H ├──────░───■────■───░────────■────────░─┤ X ├──■──┤ X ├─░─┤ X ├──■────■──┤ X ├─░─┤ X ├──■──┤ X ├─░───────░─┤ H ├┤ X ├───────■──┤ X ├┤ H ├──────░───────░─┤ X ├──■──┤ X ├┤ X ├──■──┤ X ├───────■─────────■───░───────░─┤ H ├┤ X ├───────■──┤ X ├┤ H ├─────\n",
       "     ├───┤┌───┐ ░            ░                 ░ └───┘     └───┘ ░ └───┘          └───┘ ░ └───┘┌─┴─┐└───┘ ░ ┌───┐ ░ └───┘└───┘          └───┘└───┘      ░ ┌───┐ ░ └───┘┌─┴─┐└───┘└───┘┌─┴─┐└───┘     ┌─┴─┐     ┌─┴─┐ ░ ┌───┐ ░ └───┘└───┘          └───┘└───┘     \n",
       "q_4: ┤ X ├┤ H ├─░────────────░─────────────────░─────────────────░──────────────────────░──────┤ X ├──────░─┤ H ├─░─────────────────────────────────────░─┤ H ├─░──────┤ X ├──────────┤ X ├──────────┤ X ├─────┤ X ├─░─┤ H ├─░────────────────────────────────────\n",
       "     └───┘└───┘ ░            ░                 ░                 ░                      ░      └───┘      ░ └───┘ ░                                     ░ └───┘ ░      └───┘          └───┘          └───┘     └───┘ ░ └───┘ ░                                    </pre>"
      ],
      "text/plain": [
       "                ░ ┌───┐      ░      ┌───┐      ░                 ░      ┌───┐           ░ ┌───┐     ┌───┐ ░       ░ ┌───┐┌───┐┌───┐┌───┐┌───┐┌───┐┌───┐ ░       ░ ┌───┐     ┌───┐                                    ░       ░ ┌───┐┌───┐┌───┐┌───┐┌───┐┌───┐┌───┐\n",
       "q_0: ───────────░─┤ X ├──────░──────┤ X ├──────░─────────────────░──────┤ X ├───────────░─┤ X ├──■──┤ X ├─░───────░─┤ H ├┤ X ├┤ H ├┤ X ├┤ H ├┤ X ├┤ H ├─░───────░─┤ X ├──■──┤ X ├───────■──────────────■─────────■───░───────░─┤ H ├┤ X ├┤ H ├┤ X ├┤ H ├┤ X ├┤ H ├\n",
       "                ░ └─┬─┘┌───┐ ░      └─┬─┘      ░      ┌───┐      ░      └─┬─┘┌───┐      ░ └───┘  │  └───┘ ░       ░ ├───┤├───┤└───┘└─┬─┘├───┤├───┤└───┘ ░       ░ └───┘  │  └───┘       │  ┌───┐       │  ┌───┐  │   ░       ░ ├───┤├───┤└───┘└─┬─┘├───┤├───┤└───┘\n",
       "q_1: ───────────░───┼──┤ X ├─░────────┼────────░──────┤ X ├──────░────────┼──┤ X ├──────░────────■────────░───────░─┤ H ├┤ X ├───────■──┤ X ├┤ H ├──────░───────░────────■──────────────■──┤ X ├───────■──┤ X ├──■───░───────░─┤ H ├┤ X ├───────■──┤ X ├┤ H ├─────\n",
       "     ┌───┐      ░   │  └─┬─┘ ░ ┌───┐  │  ┌───┐ ░      └─┬─┘      ░ ┌───┐  │  └─┬─┘┌───┐ ░        │        ░       ░ ├───┤├───┤       │  ├───┤├───┤      ░       ░        │  ┌───┐       │  ├───┤┌───┐  │  ├───┤  │   ░       ░ ├───┤├───┤       │  ├───┤├───┤     \n",
       "q_2: ┤ H ├──────░───■────■───░─┤ X ├──■──┤ X ├─░────────■────────░─┤ X ├──■────■──┤ X ├─░────────■────────░───────░─┤ H ├┤ X ├───────■──┤ X ├┤ H ├──────░───────░────────■──┤ X ├───────■──┤ X ├┤ X ├──■──┤ X ├──■───░───────░─┤ H ├┤ X ├───────■──┤ X ├┤ H ├─────\n",
       "     ├───┤      ░   │    │   ░ └───┘  │  └───┘ ░ ┌───┐  │  ┌───┐ ░ ├───┤  │    │  ├───┤ ░ ┌───┐  │  ┌───┐ ░       ░ ├───┤├───┤       │  ├───┤├───┤      ░       ░ ┌───┐  │  ├───┤┌───┐  │  ├───┤└───┘  │  └───┘  │   ░       ░ ├───┤├───┤       │  ├───┤├───┤     \n",
       "q_3: ┤ H ├──────░───■────■───░────────■────────░─┤ X ├──■──┤ X ├─░─┤ X ├──■────■──┤ X ├─░─┤ X ├──■──┤ X ├─░───────░─┤ H ├┤ X ├───────■──┤ X ├┤ H ├──────░───────░─┤ X ├──■──┤ X ├┤ X ├──■──┤ X ├───────■─────────■───░───────░─┤ H ├┤ X ├───────■──┤ X ├┤ H ├─────\n",
       "     ├───┤┌───┐ ░            ░                 ░ └───┘     └───┘ ░ └───┘          └───┘ ░ └───┘┌─┴─┐└───┘ ░ ┌───┐ ░ └───┘└───┘          └───┘└───┘      ░ ┌───┐ ░ └───┘┌─┴─┐└───┘└───┘┌─┴─┐└───┘     ┌─┴─┐     ┌─┴─┐ ░ ┌───┐ ░ └───┘└───┘          └───┘└───┘     \n",
       "q_4: ┤ X ├┤ H ├─░────────────░─────────────────░─────────────────░──────────────────────░──────┤ X ├──────░─┤ H ├─░─────────────────────────────────────░─┤ H ├─░──────┤ X ├──────────┤ X ├──────────┤ X ├─────┤ X ├─░─┤ H ├─░────────────────────────────────────\n",
       "     └───┘└───┘ ░            ░                 ░                 ░                      ░      └───┘      ░ └───┘ ░                                     ░ └───┘ ░      └───┘          └───┘          └───┘     └───┘ ░ └───┘ ░                                    "
      ]
     },
     "execution_count": 133,
     "metadata": {},
     "output_type": "execute_result"
    }
   ],
   "source": [
    "qc = QuantumCircuit(5)\n",
    "\n",
    "#1St magazine\n",
    "#0-1 data\n",
    "#Index\n",
    "#2-3\n",
    "qc.h(2)\n",
    "qc.h(3)\n",
    "\n",
    "#Aux Bit\n",
    "qc.x(4)\n",
    "qc.h(4)\n",
    "\n",
    "qc.barrier()\n",
    "#First patern\n",
    "qc.ccx(2,3,0)\n",
    "qc.ccx(2,3,1)\n",
    "\n",
    "qc.barrier()\n",
    "#Second patern\n",
    "qc.x(2)\n",
    "qc.ccx(2,3,0)\n",
    "qc.x(2)\n",
    "\n",
    "qc.barrier()\n",
    "#Third patern\n",
    "qc.x(3)\n",
    "qc.ccx(2,3,1)\n",
    "qc.x(3)\n",
    "\n",
    "qc.barrier()\n",
    "#Fourth patern\n",
    "qc.x(2)\n",
    "qc.x(3)\n",
    "qc.ccx(2,3,0)\n",
    "qc.ccx(2,3,1)\n",
    "qc.x(3)\n",
    "qc.x(2)\n",
    "\n",
    "#Oracle\n",
    "qc.barrier()\n",
    "qc.x(0)\n",
    "qc.x(3)\n",
    "gate = MCXGate(4)\n",
    "qc.append(gate, [0,1,2,3,4])\n",
    "qc.x(3)\n",
    "qc.x(0)\n",
    "qc.barrier()\n",
    "qc.h(4)\n",
    "#Diffusor 0, 1, 2, 3 \n",
    "qc.barrier()\n",
    "\n",
    "qc.h([0,1,2,3])\n",
    "qc.x([0,1,2,3])\n",
    "qc.h(0)\n",
    "gate = MCXGate(3)\n",
    "qc.append(gate, [1,2,3,0])\n",
    "qc.h(0)\n",
    "qc.x([0,1,2,3])\n",
    "qc.h([0,1,2,3])\n",
    "\n",
    "#Secend rotation\n",
    "\n",
    "qc.barrier()\n",
    "qc.h(4)\n",
    "qc.barrier()\n",
    "\n",
    "#Oracle Trick\n",
    "qc.x(0)\n",
    "qc.x(3)\n",
    "gate = MCXGate(4)\n",
    "qc.append(gate, [0,1,2,3,4])\n",
    "qc.x(3)\n",
    "qc.x(0)\n",
    "\n",
    "qc.x(2)\n",
    "qc.x(3)\n",
    "gate = MCXGate(4)\n",
    "qc.append(gate, [0,1,2,3,4])\n",
    "qc.x(3)\n",
    "qc.x(2)\n",
    "\n",
    "qc.x(1)\n",
    "qc.x(2)\n",
    "gate = MCXGate(4)\n",
    "qc.append(gate, [0,1,2,3,4])\n",
    "qc.x(2)\n",
    "qc.x(1)\n",
    "\n",
    "gate = MCXGate(4)\n",
    "qc.append(gate, [0,1,2,3,4])\n",
    "\n",
    "qc.barrier()\n",
    "qc.h(4)\n",
    "#Diffusor 0, 1, 2, 3 \n",
    "qc.barrier()\n",
    "\n",
    "qc.h([0,1,2,3])\n",
    "qc.x([0,1,2,3])\n",
    "qc.h(0)\n",
    "gate = MCXGate(3)\n",
    "qc.append(gate, [1,2,3,0])\n",
    "qc.h(0)\n",
    "qc.x([0,1,2,3])\n",
    "qc.h([0,1,2,3])\n",
    "\n",
    "qc.draw(fold=400)"
   ]
  },
  {
   "cell_type": "code",
   "execution_count": 134,
   "metadata": {},
   "outputs": [
    {
     "data": {
      "image/png": "[encoded data removed]",
      "text/plain": [
       "<Figure size 504x360 with 1 Axes>"
      ]
     },
     "execution_count": 134,
     "metadata": {},
     "output_type": "execute_result"
    }
   ],
   "source": [
    "simulator = Aer.get_backend('statevector_simulator')\n",
    "\n",
    "# Run and get counts\n",
    "result=execute(qc,simulator).result()\n",
    "counts = result.get_counts()\n",
    "plot_histogram(counts)"
   ]
  },
  {
   "cell_type": "markdown",
   "metadata": {},
   "source": [
    "with the result"
   ]
  },
  {
   "cell_type": "code",
   "execution_count": 135,
   "metadata": {},
   "outputs": [
    {
     "data": {
      "text/latex": [
       "$$\n",
       "\\text{Statevector} = \n",
       "\\begin{bmatrix}\n",
       "0 & 0 & 0 & 0 & 0 & 0 & 0 & 0 & 0 & 0 & 0 & 0 & 0 & 0 & 0 & 0 & \\frac{1}{8} & \\frac{1}{8} & \\frac{1}{8} & - \\frac{1}{8} & \\frac{1}{8} & \\frac{1}{8} & \\frac{7}{8} & \\frac{1}{8} & \\frac{1}{8} & - \\frac{1}{8} & \\frac{1}{8} & \\frac{1}{8} & \\frac{1}{8} & \\frac{1}{8} & \\frac{1}{8} & - \\frac{1}{8}  \\\\\n",
       " \\end{bmatrix}\n",
       "$$"
      ],
      "text/plain": [
       "<IPython.core.display.Latex object>"
      ]
     },
     "execution_count": 135,
     "metadata": {},
     "output_type": "execute_result"
    }
   ],
   "source": [
    "simulator = Aer.get_backend('statevector_simulator')\n",
    "final_state = simulator.run(qc).result().get_statevector()\n",
    "\n",
    "from qiskit.visualization import array_to_latex\n",
    "array_to_latex(final_state,max_size=256,precision=4,prefix=\"\\\\text{Statevector} = \")"
   ]
  },
  {
   "cell_type": "markdown",
   "metadata": {},
   "source": [
    "We mark again all  four states that represent our distribution by a negative phase and perform a Grover's rotation"
   ]
  },
  {
   "cell_type": "code",
   "execution_count": 136,
   "metadata": {},
   "outputs": [
    {
     "data": {
      "text/html": [
       "<pre style=\"word-wrap: normal;white-space: pre;background: #fff0;line-height: 1.1;font-family: &quot;Courier New&quot;,Courier,monospace\">                ░ ┌───┐      ░      ┌───┐      ░                 ░      ┌───┐           ░ ┌───┐»\n",
       "q_0: ───────────░─┤ X ├──────░──────┤ X ├──────░─────────────────░──────┤ X ├───────────░─┤ X ├»\n",
       "                ░ └─┬─┘┌───┐ ░      └─┬─┘      ░      ┌───┐      ░      └─┬─┘┌───┐      ░ └───┘»\n",
       "q_1: ───────────░───┼──┤ X ├─░────────┼────────░──────┤ X ├──────░────────┼──┤ X ├──────░──────»\n",
       "     ┌───┐      ░   │  └─┬─┘ ░ ┌───┐  │  ┌───┐ ░      └─┬─┘      ░ ┌───┐  │  └─┬─┘┌───┐ ░      »\n",
       "q_2: ┤ H ├──────░───■────■───░─┤ X ├──■──┤ X ├─░────────■────────░─┤ X ├──■────■──┤ X ├─░──────»\n",
       "     ├───┤      ░   │    │   ░ └───┘  │  └───┘ ░ ┌───┐  │  ┌───┐ ░ ├───┤  │    │  ├───┤ ░ ┌───┐»\n",
       "q_3: ┤ H ├──────░───■────■───░────────■────────░─┤ X ├──■──┤ X ├─░─┤ X ├──■────■──┤ X ├─░─┤ X ├»\n",
       "     ├───┤┌───┐ ░            ░                 ░ └───┘     └───┘ ░ └───┘          └───┘ ░ └───┘»\n",
       "q_4: ┤ X ├┤ H ├─░────────────░─────────────────░─────────────────░──────────────────────░──────»\n",
       "     └───┘└───┘ ░            ░                 ░                 ░                      ░      »\n",
       "«          ┌───┐ ░       ░ ┌───┐┌───┐┌───┐┌───┐┌───┐┌───┐┌───┐ ░       ░ ┌───┐     ┌───┐          »\n",
       "«q_0: ──■──┤ X ├─░───────░─┤ H ├┤ X ├┤ H ├┤ X ├┤ H ├┤ X ├┤ H ├─░───────░─┤ X ├──■──┤ X ├───────■──»\n",
       "«       │  └───┘ ░       ░ ├───┤├───┤└───┘└─┬─┘├───┤├───┤└───┘ ░       ░ └───┘  │  └───┘       │  »\n",
       "«q_1: ──■────────░───────░─┤ H ├┤ X ├───────■──┤ X ├┤ H ├──────░───────░────────■──────────────■──»\n",
       "«       │        ░       ░ ├───┤├───┤       │  ├───┤├───┤      ░       ░        │  ┌───┐       │  »\n",
       "«q_2: ──■────────░───────░─┤ H ├┤ X ├───────■──┤ X ├┤ H ├──────░───────░────────■──┤ X ├───────■──»\n",
       "«       │  ┌───┐ ░       ░ ├───┤├───┤       │  ├───┤├───┤      ░       ░ ┌───┐  │  ├───┤┌───┐  │  »\n",
       "«q_3: ──■──┤ X ├─░───────░─┤ H ├┤ X ├───────■──┤ X ├┤ H ├──────░───────░─┤ X ├──■──┤ X ├┤ X ├──■──»\n",
       "«     ┌─┴─┐└───┘ ░ ┌───┐ ░ └───┘└───┘          └───┘└───┘      ░ ┌───┐ ░ └───┘┌─┴─┐└───┘└───┘┌─┴─┐»\n",
       "«q_4: ┤ X ├──────░─┤ H ├─░─────────────────────────────────────░─┤ H ├─░──────┤ X ├──────────┤ X ├»\n",
       "«     └───┘      ░ └───┘ ░                                     ░ └───┘ ░      └───┘          └───┘»\n",
       "«                               ░       ░ ┌───┐┌───┐┌───┐┌───┐┌───┐┌───┐┌───┐ ░       ░ ┌───┐     »\n",
       "«q_0: ────────────■─────────■───░───────░─┤ H ├┤ X ├┤ H ├┤ X ├┤ H ├┤ X ├┤ H ├─░───────░─┤ X ├──■──»\n",
       "«     ┌───┐       │  ┌───┐  │   ░       ░ ├───┤├───┤└───┘└─┬─┘├───┤├───┤└───┘ ░       ░ └───┘  │  »\n",
       "«q_1: ┤ X ├───────■──┤ X ├──■───░───────░─┤ H ├┤ X ├───────■──┤ X ├┤ H ├──────░───────░────────■──»\n",
       "«     ├───┤┌───┐  │  ├───┤  │   ░       ░ ├───┤├───┤       │  ├───┤├───┤      ░       ░        │  »\n",
       "«q_2: ┤ X ├┤ X ├──■──┤ X ├──■───░───────░─┤ H ├┤ X ├───────■──┤ X ├┤ H ├──────░───────░────────■──»\n",
       "«     ├───┤└───┘  │  └───┘  │   ░       ░ ├───┤├───┤       │  ├───┤├───┤      ░       ░ ┌───┐  │  »\n",
       "«q_3: ┤ X ├───────■─────────■───░───────░─┤ H ├┤ X ├───────■──┤ X ├┤ H ├──────░───────░─┤ X ├──■──»\n",
       "«     └───┘     ┌─┴─┐     ┌─┴─┐ ░ ┌───┐ ░ └───┘└───┘          └───┘└───┘      ░ ┌───┐ ░ └───┘┌─┴─┐»\n",
       "«q_4: ──────────┤ X ├─────┤ X ├─░─┤ H ├─░─────────────────────────────────────░─┤ H ├─░──────┤ X ├»\n",
       "«               └───┘     └───┘ ░ └───┘ ░                                     ░ └───┘ ░      └───┘»\n",
       "«     ┌───┐                                    ░       ░ ┌───┐┌───┐┌───┐┌───┐┌───┐┌───┐┌───┐\n",
       "«q_0: ┤ X ├───────■──────────────■─────────■───░───────░─┤ H ├┤ X ├┤ H ├┤ X ├┤ H ├┤ X ├┤ H ├\n",
       "«     └───┘       │  ┌───┐       │  ┌───┐  │   ░       ░ ├───┤├───┤└───┘└─┬─┘├───┤├───┤└───┘\n",
       "«q_1: ────────────■──┤ X ├───────■──┤ X ├──■───░───────░─┤ H ├┤ X ├───────■──┤ X ├┤ H ├─────\n",
       "«     ┌───┐       │  ├───┤┌───┐  │  ├───┤  │   ░       ░ ├───┤├───┤       │  ├───┤├───┤     \n",
       "«q_2: ┤ X ├───────■──┤ X ├┤ X ├──■──┤ X ├──■───░───────░─┤ H ├┤ X ├───────■──┤ X ├┤ H ├─────\n",
       "«     ├───┤┌───┐  │  ├───┤└───┘  │  └───┘  │   ░       ░ ├───┤├───┤       │  ├───┤├───┤     \n",
       "«q_3: ┤ X ├┤ X ├──■──┤ X ├───────■─────────■───░───────░─┤ H ├┤ X ├───────■──┤ X ├┤ H ├─────\n",
       "«     └───┘└───┘┌─┴─┐└───┘     ┌─┴─┐     ┌─┴─┐ ░ ┌───┐ ░ └───┘└───┘          └───┘└───┘     \n",
       "«q_4: ──────────┤ X ├──────────┤ X ├─────┤ X ├─░─┤ H ├─░────────────────────────────────────\n",
       "«               └───┘          └───┘     └───┘ ░ └───┘ ░                                    </pre>"
      ],
      "text/plain": [
       "                ░ ┌───┐      ░      ┌───┐      ░                 ░      ┌───┐           ░ ┌───┐»\n",
       "q_0: ───────────░─┤ X ├──────░──────┤ X ├──────░─────────────────░──────┤ X ├───────────░─┤ X ├»\n",
       "                ░ └─┬─┘┌───┐ ░      └─┬─┘      ░      ┌───┐      ░      └─┬─┘┌───┐      ░ └───┘»\n",
       "q_1: ───────────░───┼──┤ X ├─░────────┼────────░──────┤ X ├──────░────────┼──┤ X ├──────░──────»\n",
       "     ┌───┐      ░   │  └─┬─┘ ░ ┌───┐  │  ┌───┐ ░      └─┬─┘      ░ ┌───┐  │  └─┬─┘┌───┐ ░      »\n",
       "q_2: ┤ H ├──────░───■────■───░─┤ X ├──■──┤ X ├─░────────■────────░─┤ X ├──■────■──┤ X ├─░──────»\n",
       "     ├───┤      ░   │    │   ░ └───┘  │  └───┘ ░ ┌───┐  │  ┌───┐ ░ ├───┤  │    │  ├───┤ ░ ┌───┐»\n",
       "q_3: ┤ H ├──────░───■────■───░────────■────────░─┤ X ├──■──┤ X ├─░─┤ X ├──■────■──┤ X ├─░─┤ X ├»\n",
       "     ├───┤┌───┐ ░            ░                 ░ └───┘     └───┘ ░ └───┘          └───┘ ░ └───┘»\n",
       "q_4: ┤ X ├┤ H ├─░────────────░─────────────────░─────────────────░──────────────────────░──────»\n",
       "     └───┘└───┘ ░            ░                 ░                 ░                      ░      »\n",
       "«          ┌───┐ ░       ░ ┌───┐┌───┐┌───┐┌───┐┌───┐┌───┐┌───┐ ░       ░ ┌───┐     ┌───┐          »\n",
       "«q_0: ──■──┤ X ├─░───────░─┤ H ├┤ X ├┤ H ├┤ X ├┤ H ├┤ X ├┤ H ├─░───────░─┤ X ├──■──┤ X ├───────■──»\n",
       "«       │  └───┘ ░       ░ ├───┤├───┤└───┘└─┬─┘├───┤├───┤└───┘ ░       ░ └───┘  │  └───┘       │  »\n",
       "«q_1: ──■────────░───────░─┤ H ├┤ X ├───────■──┤ X ├┤ H ├──────░───────░────────■──────────────■──»\n",
       "«       │        ░       ░ ├───┤├───┤       │  ├───┤├───┤      ░       ░        │  ┌───┐       │  »\n",
       "«q_2: ──■────────░───────░─┤ H ├┤ X ├───────■──┤ X ├┤ H ├──────░───────░────────■──┤ X ├───────■──»\n",
       "«       │  ┌───┐ ░       ░ ├───┤├───┤       │  ├───┤├───┤      ░       ░ ┌───┐  │  ├───┤┌───┐  │  »\n",
       "«q_3: ──■──┤ X ├─░───────░─┤ H ├┤ X ├───────■──┤ X ├┤ H ├──────░───────░─┤ X ├──■──┤ X ├┤ X ├──■──»\n",
       "«     ┌─┴─┐└───┘ ░ ┌───┐ ░ └───┘└───┘          └───┘└───┘      ░ ┌───┐ ░ └───┘┌─┴─┐└───┘└───┘┌─┴─┐»\n",
       "«q_4: ┤ X ├──────░─┤ H ├─░─────────────────────────────────────░─┤ H ├─░──────┤ X ├──────────┤ X ├»\n",
       "«     └───┘      ░ └───┘ ░                                     ░ └───┘ ░      └───┘          └───┘»\n",
       "«                               ░       ░ ┌───┐┌───┐┌───┐┌───┐┌───┐┌───┐┌───┐ ░       ░ ┌───┐     »\n",
       "«q_0: ────────────■─────────■───░───────░─┤ H ├┤ X ├┤ H ├┤ X ├┤ H ├┤ X ├┤ H ├─░───────░─┤ X ├──■──»\n",
       "«     ┌───┐       │  ┌───┐  │   ░       ░ ├───┤├───┤└───┘└─┬─┘├───┤├───┤└───┘ ░       ░ └───┘  │  »\n",
       "«q_1: ┤ X ├───────■──┤ X ├──■───░───────░─┤ H ├┤ X ├───────■──┤ X ├┤ H ├──────░───────░────────■──»\n",
       "«     ├───┤┌───┐  │  ├───┤  │   ░       ░ ├───┤├───┤       │  ├───┤├───┤      ░       ░        │  »\n",
       "«q_2: ┤ X ├┤ X ├──■──┤ X ├──■───░───────░─┤ H ├┤ X ├───────■──┤ X ├┤ H ├──────░───────░────────■──»\n",
       "«     ├───┤└───┘  │  └───┘  │   ░       ░ ├───┤├───┤       │  ├───┤├───┤      ░       ░ ┌───┐  │  »\n",
       "«q_3: ┤ X ├───────■─────────■───░───────░─┤ H ├┤ X ├───────■──┤ X ├┤ H ├──────░───────░─┤ X ├──■──»\n",
       "«     └───┘     ┌─┴─┐     ┌─┴─┐ ░ ┌───┐ ░ └───┘└───┘          └───┘└───┘      ░ ┌───┐ ░ └───┘┌─┴─┐»\n",
       "«q_4: ──────────┤ X ├─────┤ X ├─░─┤ H ├─░─────────────────────────────────────░─┤ H ├─░──────┤ X ├»\n",
       "«               └───┘     └───┘ ░ └───┘ ░                                     ░ └───┘ ░      └───┘»\n",
       "«     ┌───┐                                    ░       ░ ┌───┐┌───┐┌───┐┌───┐┌───┐┌───┐┌───┐\n",
       "«q_0: ┤ X ├───────■──────────────■─────────■───░───────░─┤ H ├┤ X ├┤ H ├┤ X ├┤ H ├┤ X ├┤ H ├\n",
       "«     └───┘       │  ┌───┐       │  ┌───┐  │   ░       ░ ├───┤├───┤└───┘└─┬─┘├───┤├───┤└───┘\n",
       "«q_1: ────────────■──┤ X ├───────■──┤ X ├──■───░───────░─┤ H ├┤ X ├───────■──┤ X ├┤ H ├─────\n",
       "«     ┌───┐       │  ├───┤┌───┐  │  ├───┤  │   ░       ░ ├───┤├───┤       │  ├───┤├───┤     \n",
       "«q_2: ┤ X ├───────■──┤ X ├┤ X ├──■──┤ X ├──■───░───────░─┤ H ├┤ X ├───────■──┤ X ├┤ H ├─────\n",
       "«     ├───┤┌───┐  │  ├───┤└───┘  │  └───┘  │   ░       ░ ├───┤├───┤       │  ├───┤├───┤     \n",
       "«q_3: ┤ X ├┤ X ├──■──┤ X ├───────■─────────■───░───────░─┤ H ├┤ X ├───────■──┤ X ├┤ H ├─────\n",
       "«     └───┘└───┘┌─┴─┐└───┘     ┌─┴─┐     ┌─┴─┐ ░ ┌───┐ ░ └───┘└───┘          └───┘└───┘     \n",
       "«q_4: ──────────┤ X ├──────────┤ X ├─────┤ X ├─░─┤ H ├─░────────────────────────────────────\n",
       "«               └───┘          └───┘     └───┘ ░ └───┘ ░                                    "
      ]
     },
     "execution_count": 136,
     "metadata": {},
     "output_type": "execute_result"
    }
   ],
   "source": [
    "qc = QuantumCircuit(5)\n",
    "\n",
    "#1St magazine\n",
    "#0-1 data\n",
    "#Index\n",
    "#2-3\n",
    "qc.h(2)\n",
    "qc.h(3)\n",
    "\n",
    "#Aux Bit\n",
    "qc.x(4)\n",
    "qc.h(4)\n",
    "\n",
    "qc.barrier()\n",
    "#First patern\n",
    "qc.ccx(2,3,0)\n",
    "qc.ccx(2,3,1)\n",
    "\n",
    "qc.barrier()\n",
    "#Second patern\n",
    "qc.x(2)\n",
    "qc.ccx(2,3,0)\n",
    "qc.x(2)\n",
    "\n",
    "qc.barrier()\n",
    "#Third patern\n",
    "qc.x(3)\n",
    "qc.ccx(2,3,1)\n",
    "qc.x(3)\n",
    "\n",
    "qc.barrier()\n",
    "#Fourth patern\n",
    "qc.x(2)\n",
    "qc.x(3)\n",
    "qc.ccx(2,3,0)\n",
    "qc.ccx(2,3,1)\n",
    "qc.x(3)\n",
    "qc.x(2)\n",
    "\n",
    "#Oracle\n",
    "qc.barrier()\n",
    "qc.x(0)\n",
    "qc.x(3)\n",
    "gate = MCXGate(4)\n",
    "qc.append(gate, [0,1,2,3,4])\n",
    "qc.x(3)\n",
    "qc.x(0)\n",
    "qc.barrier()\n",
    "qc.h(4)\n",
    "#Diffusor 0, 1, 2, 3 \n",
    "qc.barrier()\n",
    "\n",
    "qc.h([0,1,2,3])\n",
    "qc.x([0,1,2,3])\n",
    "qc.h(0)\n",
    "gate = MCXGate(3)\n",
    "qc.append(gate, [1,2,3,0])\n",
    "qc.h(0)\n",
    "qc.x([0,1,2,3])\n",
    "qc.h([0,1,2,3])\n",
    "\n",
    "#Secend rotation\n",
    "qc.barrier()\n",
    "qc.h(4)\n",
    "qc.barrier()\n",
    "\n",
    "#Oracle Trick\n",
    "qc.x(0)\n",
    "qc.x(3)\n",
    "gate = MCXGate(4)\n",
    "qc.append(gate, [0,1,2,3,4])\n",
    "qc.x(3)\n",
    "qc.x(0)\n",
    "\n",
    "qc.x(2)\n",
    "qc.x(3)\n",
    "gate = MCXGate(4)\n",
    "qc.append(gate, [0,1,2,3,4])\n",
    "qc.x(3)\n",
    "qc.x(2)\n",
    "\n",
    "qc.x(1)\n",
    "qc.x(2)\n",
    "gate = MCXGate(4)\n",
    "qc.append(gate, [0,1,2,3,4])\n",
    "qc.x(2)\n",
    "qc.x(1)\n",
    "\n",
    "gate = MCXGate(4)\n",
    "qc.append(gate, [0,1,2,3,4])\n",
    "\n",
    "qc.barrier()\n",
    "qc.h(4)\n",
    "#Diffusor 0, 1, 2, 3 \n",
    "qc.barrier()\n",
    "\n",
    "qc.h([0,1,2,3])\n",
    "qc.x([0,1,2,3])\n",
    "qc.h(0)\n",
    "gate = MCXGate(3)\n",
    "qc.append(gate, [1,2,3,0])\n",
    "qc.h(0)\n",
    "qc.x([0,1,2,3])\n",
    "qc.h([0,1,2,3])\n",
    "\n",
    "#Third rotation\n",
    "qc.barrier()\n",
    "qc.h(4)\n",
    "qc.barrier()\n",
    "\n",
    "#Oracle Trick\n",
    "qc.x(0)\n",
    "qc.x(3)\n",
    "gate = MCXGate(4)\n",
    "qc.append(gate, [0,1,2,3,4])\n",
    "qc.x(3)\n",
    "qc.x(0)\n",
    "\n",
    "qc.x(2)\n",
    "qc.x(3)\n",
    "gate = MCXGate(4)\n",
    "qc.append(gate, [0,1,2,3,4])\n",
    "qc.x(3)\n",
    "qc.x(2)\n",
    "\n",
    "qc.x(1)\n",
    "qc.x(2)\n",
    "gate = MCXGate(4)\n",
    "qc.append(gate, [0,1,2,3,4])\n",
    "qc.x(2)\n",
    "qc.x(1)\n",
    "\n",
    "gate = MCXGate(4)\n",
    "qc.append(gate, [0,1,2,3,4])\n",
    "qc.barrier()\n",
    "qc.h(4)\n",
    "\n",
    "#Diffusor 0, 1, 2, 3 \n",
    "qc.barrier()\n",
    "\n",
    "qc.h([0,1,2,3])\n",
    "qc.x([0,1,2,3])\n",
    "qc.h(0)\n",
    "gate = MCXGate(3)\n",
    "qc.append(gate, [1,2,3,0])\n",
    "qc.h(0)\n",
    "qc.x([0,1,2,3])\n",
    "qc.h([0,1,2,3])\n",
    "\n",
    "qc.draw(fold=100)"
   ]
  },
  {
   "cell_type": "code",
   "execution_count": 137,
   "metadata": {},
   "outputs": [
    {
     "data": {
      "image/png": "[encoded data removed]",
      "text/plain": [
       "<Figure size 504x360 with 1 Axes>"
      ]
     },
     "execution_count": 137,
     "metadata": {},
     "output_type": "execute_result"
    }
   ],
   "source": [
    "simulator = Aer.get_backend('statevector_simulator')\n",
    "\n",
    "# Run and get counts\n",
    "result=execute(qc,simulator).result()\n",
    "counts = result.get_counts()\n",
    "plot_histogram(counts)"
   ]
  },
  {
   "cell_type": "markdown",
   "metadata": {},
   "source": [
    "with the amplitude one indicating the target state. "
   ]
  },
  {
   "cell_type": "code",
   "execution_count": 138,
   "metadata": {},
   "outputs": [
    {
     "data": {
      "text/latex": [
       "$$\n",
       "\\text{Statevector} = \n",
       "\\begin{bmatrix}\n",
       "0 & 0 & 0 & 0 & 0 & 0 & 0 & 0 & 0 & 0 & 0 & 0 & 0 & 0 & 0 & 0 & 0 & 0 & 0 & 0 & 0 & 0 & -1 & 0 & 0 & 0 & 0 & 0 & 0 & 0 & 0 & 0  \\\\\n",
       " \\end{bmatrix}\n",
       "$$"
      ],
      "text/plain": [
       "<IPython.core.display.Latex object>"
      ]
     },
     "execution_count": 138,
     "metadata": {},
     "output_type": "execute_result"
    }
   ],
   "source": [
    "simulator = Aer.get_backend('statevector_simulator')\n",
    "final_state = simulator.run(qc).result().get_statevector()\n",
    "\n",
    "from qiskit.visualization import array_to_latex\n",
    "array_to_latex(final_state,max_size=256,precision=4,prefix=\"\\\\text{Statevector} = \")"
   ]
  },
  {
   "cell_type": "markdown",
   "metadata": {},
   "source": [
    "Depending on the distribution and the relation between $m$ (the number of patterns) and  $n$ (the dimension of patterns), we  have to correct by marking all present state till  all states without the target state reach an  uniform distribution.\n"
   ]
  }
 ],
 "metadata": {
  "kernelspec": {
   "display_name": "base",
   "language": "python",
   "name": "python3"
  },
  "language_info": {
   "codemirror_mode": {
    "name": "ipython",
    "version": 3
   },
   "file_extension": ".py",
   "mimetype": "text/x-python",
   "name": "python",
   "nbconvert_exporter": "python",
   "pygments_lexer": "ipython3",
   "version": "3.9.12"
  },
  "orig_nbformat": 4
 },
 "nbformat": 4,
 "nbformat_minor": 2
}
