{
 "cells": [
  {
   "cell_type": "markdown",
   "metadata": {},
   "source": [
    "# Chapter 19:  Quantum Fourier Transform\n",
    "\n",
    "We demonstrate the definition of the quantum circuit on $F_2$\n",
    "\\begin{equation}\n",
    "F_2= \\frac{1}{\\sqrt{4}} \\cdot \\left( |0 \\rangle + e^{2 \\cdot \\pi \\cdot i  \\cdot  0.x_1} \\cdot |1 \\rangle \\right) \\otimes\n",
    "\\left( |0 \\rangle + e^{2 \\cdot \\pi \\cdot i   \\cdot  0.x_2x_1} \\cdot |1 \\rangle \\right) \n",
    "\\end{equation}\n",
    "on the input $|x_2x_1 \\rangle$. \n",
    "\n",
    "The decomposition is given by\n",
    "\n",
    "\\begin{equation}\n",
    " F_2 \\cdot    |x_2x_1 \\rangle= SWAP \\cdot (I_1 \\otimes W_1) \\cdot  CR_1 \\cdot (W_1 \\otimes I_1) \\cdot  |x_2x_1 \\rangle.\n",
    " \\end{equation}\n"
   ]
  },
  {
   "cell_type": "code",
   "execution_count": 37,
   "metadata": {},
   "outputs": [],
   "source": [
    "from qiskit import QuantumCircuit, Aer, execute\n",
    "from qiskit.visualization import plot_histogram\n",
    "import numpy as np\n",
    "from numpy import pi"
   ]
  },
  {
   "cell_type": "code",
   "execution_count": 38,
   "metadata": {},
   "outputs": [
    {
     "data": {
      "text/html": [
       "<pre style=\"word-wrap: normal;white-space: pre;background: #fff0;line-height: 1.1;font-family: &quot;Courier New&quot;,Courier,monospace\">                   ┌───┐   \n",
       "q_0: ──────■───────┤ H ├─X─\n",
       "     ┌───┐ │P(π/2) └───┘ │ \n",
       "q_1: ┤ H ├─■─────────────X─\n",
       "     └───┘                 </pre>"
      ],
      "text/plain": [
       "                   ┌───┐   \n",
       "q_0: ──────■───────┤ H ├─X─\n",
       "     ┌───┐ │P(π/2) └───┘ │ \n",
       "q_1: ┤ H ├─■─────────────X─\n",
       "     └───┘                 "
      ]
     },
     "execution_count": 38,
     "metadata": {},
     "output_type": "execute_result"
    }
   ],
   "source": [
    "qc = QuantumCircuit(2)\n",
    "qc.h(1)\n",
    "qc.cp(pi/2, 0, 1) # CROT from qubit 0 to qubit 1,  qc.cp(lambda, control, target)\n",
    "qc.h(0)\n",
    "qc.swap(0,1)\n",
    "qc.draw()"
   ]
  },
  {
   "cell_type": "markdown",
   "metadata": {},
   "source": [
    "QFT for two qubits."
   ]
  },
  {
   "cell_type": "code",
   "execution_count": 39,
   "metadata": {},
   "outputs": [
    {
     "name": "stdout",
     "output_type": "stream",
     "text": [
      "\n",
      "Size of the unitary matrix: (4, 4)\n"
     ]
    },
    {
     "data": {
      "text/latex": [
       "$$\n",
       "\\text{QFT2 = }\n",
       "\n",
       "\\begin{bmatrix}\n",
       "\\frac{1}{2} & \\frac{1}{2} & \\frac{1}{2} & \\frac{1}{2}  \\\\\n",
       " \\frac{1}{2} & \\frac{i}{2} & - \\frac{1}{2} & - \\frac{i}{2}  \\\\\n",
       " \\frac{1}{2} & - \\frac{1}{2} & \\frac{1}{2} & - \\frac{1}{2}  \\\\\n",
       " \\frac{1}{2} & - \\frac{i}{2} & - \\frac{1}{2} & \\frac{i}{2}  \\\\\n",
       " \\end{bmatrix}\n",
       "$$"
      ],
      "text/plain": [
       "<IPython.core.display.Latex object>"
      ]
     },
     "execution_count": 39,
     "metadata": {},
     "output_type": "execute_result"
    }
   ],
   "source": [
    "from qiskit.visualization import array_to_latex\n",
    "from qiskit import assemble\n",
    "\n",
    "simulator = Aer.get_backend('qasm_simulator')\n",
    "qc.save_unitary()\n",
    "result = simulator.run(qc).result()\n",
    "unitary = result.get_unitary(qc)\n",
    "print(\"\\nSize of the unitary matrix:\",np.asarray(unitary).shape)\n",
    "array_to_latex(unitary, prefix=\"\\\\text{QFT2 = }\\n\")"
   ]
  },
  {
   "cell_type": "markdown",
   "metadata": {},
   "source": [
    "Unitary matrix represntation of the circuit."
   ]
  },
  {
   "cell_type": "code",
   "execution_count": 40,
   "metadata": {},
   "outputs": [
    {
     "data": {
      "text/html": [
       "<pre style=\"word-wrap: normal;white-space: pre;background: #fff0;line-height: 1.1;font-family: &quot;Courier New&quot;,Courier,monospace\">                    ┌───┐   \n",
       "q_0: ──────■────────┤ H ├─X─\n",
       "     ┌───┐ │P(-π/2) └───┘ │ \n",
       "q_1: ┤ H ├─■──────────────X─\n",
       "     └───┘                  </pre>"
      ],
      "text/plain": [
       "                    ┌───┐   \n",
       "q_0: ──────■────────┤ H ├─X─\n",
       "     ┌───┐ │P(-π/2) └───┘ │ \n",
       "q_1: ┤ H ├─■──────────────X─\n",
       "     └───┘                  "
      ]
     },
     "execution_count": 40,
     "metadata": {},
     "output_type": "execute_result"
    }
   ],
   "source": [
    "qc = QuantumCircuit(2)\n",
    "qc.h(1)\n",
    "qc.cp(-pi/2, 0, 1) # CROT from qubit 0 to qubit 1\n",
    "qc.h(0)\n",
    "qc.swap(0,1)\n",
    "qc.draw()"
   ]
  },
  {
   "cell_type": "markdown",
   "metadata": {},
   "source": [
    " Inverse QFT has a negative phase."
   ]
  },
  {
   "cell_type": "code",
   "execution_count": 41,
   "metadata": {},
   "outputs": [
    {
     "name": "stdout",
     "output_type": "stream",
     "text": [
      "\n",
      "Size of the unitary matrix: (4, 4)\n"
     ]
    },
    {
     "data": {
      "text/latex": [
       "$$\n",
       "\\text{QFT2 = }\n",
       "\n",
       "\\begin{bmatrix}\n",
       "\\frac{1}{2} & \\frac{1}{2} & \\frac{1}{2} & \\frac{1}{2}  \\\\\n",
       " \\frac{1}{2} & - \\frac{i}{2} & - \\frac{1}{2} & \\frac{i}{2}  \\\\\n",
       " \\frac{1}{2} & - \\frac{1}{2} & \\frac{1}{2} & - \\frac{1}{2}  \\\\\n",
       " \\frac{1}{2} & \\frac{i}{2} & - \\frac{1}{2} & - \\frac{i}{2}  \\\\\n",
       " \\end{bmatrix}\n",
       "$$"
      ],
      "text/plain": [
       "<IPython.core.display.Latex object>"
      ]
     },
     "execution_count": 41,
     "metadata": {},
     "output_type": "execute_result"
    }
   ],
   "source": [
    "from qiskit.visualization import array_to_latex\n",
    "from qiskit import assemble\n",
    "\n",
    "simulator = Aer.get_backend('qasm_simulator')\n",
    "qc.save_unitary()\n",
    "result = simulator.run(qc).result()\n",
    "unitary = result.get_unitary(qc)\n",
    "print(\"\\nSize of the unitary matrix:\",np.asarray(unitary).shape)\n",
    "array_to_latex(unitary, prefix=\"\\\\text{QFT2 = }\\n\")"
   ]
  },
  {
   "cell_type": "markdown",
   "metadata": {},
   "source": [
    "Unitary matrix represntation of the circuit."
   ]
  },
  {
   "cell_type": "code",
   "execution_count": 42,
   "metadata": {},
   "outputs": [
    {
     "data": {
      "text/html": [
       "<pre style=\"word-wrap: normal;white-space: pre;background: #fff0;line-height: 1.1;font-family: &quot;Courier New&quot;,Courier,monospace\">        ┌───┐               \n",
       "q_0: ─X─┤ H ├─■─────────────\n",
       "      │ └───┘ │P(-π/2) ┌───┐\n",
       "q_1: ─X───────■────────┤ H ├\n",
       "                       └───┘</pre>"
      ],
      "text/plain": [
       "        ┌───┐               \n",
       "q_0: ─X─┤ H ├─■─────────────\n",
       "      │ └───┘ │P(-π/2) ┌───┐\n",
       "q_1: ─X───────■────────┤ H ├\n",
       "                       └───┘"
      ]
     },
     "execution_count": 42,
     "metadata": {},
     "output_type": "execute_result"
    }
   ],
   "source": [
    "qc = QuantumCircuit(2)\n",
    "qc.swap(0,1)\n",
    "qc.h(0)\n",
    "qc.cp(-pi/2, 0, 1) # CROT from qubit 0 to qubit 1\n",
    "qc.h(1)\n",
    "qc.draw()"
   ]
  },
  {
   "cell_type": "code",
   "execution_count": 43,
   "metadata": {},
   "outputs": [
    {
     "name": "stdout",
     "output_type": "stream",
     "text": [
      "\n",
      "Size of the unitary matrix: (4, 4)\n"
     ]
    },
    {
     "data": {
      "text/latex": [
       "$$\n",
       "\\text{QFT2 = }\n",
       "\n",
       "\\begin{bmatrix}\n",
       "\\frac{1}{2} & \\frac{1}{2} & \\frac{1}{2} & \\frac{1}{2}  \\\\\n",
       " \\frac{1}{2} & - \\frac{i}{2} & - \\frac{1}{2} & \\frac{i}{2}  \\\\\n",
       " \\frac{1}{2} & - \\frac{1}{2} & \\frac{1}{2} & - \\frac{1}{2}  \\\\\n",
       " \\frac{1}{2} & \\frac{i}{2} & - \\frac{1}{2} & - \\frac{i}{2}  \\\\\n",
       " \\end{bmatrix}\n",
       "$$"
      ],
      "text/plain": [
       "<IPython.core.display.Latex object>"
      ]
     },
     "execution_count": 43,
     "metadata": {},
     "output_type": "execute_result"
    }
   ],
   "source": [
    "from qiskit.visualization import array_to_latex\n",
    "from qiskit import assemble\n",
    "\n",
    "simulator = Aer.get_backend('qasm_simulator')\n",
    "qc.save_unitary()\n",
    "result = simulator.run(qc).result()\n",
    "unitary = result.get_unitary(qc)\n",
    "print(\"\\nSize of the unitary matrix:\",np.asarray(unitary).shape)\n",
    "array_to_latex(unitary, prefix=\"\\\\text{QFT2 = }\\n\")"
   ]
  },
  {
   "cell_type": "code",
   "execution_count": 44,
   "metadata": {},
   "outputs": [],
   "source": [
    "def qft2():\n",
    "    qc = QuantumCircuit(2)\n",
    "    qc.h(1)\n",
    "    qc.cp(pi/2, 0, 1) # CROT from qubit 0 to qubit 1\n",
    "    qc.h(0)\n",
    "    qc.swap(0,1)\n",
    "    qc.name=\"QFT_2\"\n",
    "    return qc"
   ]
  },
  {
   "cell_type": "code",
   "execution_count": 45,
   "metadata": {},
   "outputs": [
    {
     "data": {
      "text/html": [
       "<pre style=\"word-wrap: normal;white-space: pre;background: #fff0;line-height: 1.1;font-family: &quot;Courier New&quot;,Courier,monospace\">        ┌───┐               \n",
       "q_0: ─X─┤ H ├─■─────────────\n",
       "      │ └───┘ │P(-π/2) ┌───┐\n",
       "q_1: ─X───────■────────┤ H ├\n",
       "                       └───┘</pre>"
      ],
      "text/plain": [
       "        ┌───┐               \n",
       "q_0: ─X─┤ H ├─■─────────────\n",
       "      │ └───┘ │P(-π/2) ┌───┐\n",
       "q_1: ─X───────■────────┤ H ├\n",
       "                       └───┘"
      ]
     },
     "execution_count": 45,
     "metadata": {},
     "output_type": "execute_result"
    }
   ],
   "source": [
    "qc = QuantumCircuit(2)\n",
    "\n",
    "qc.append(qft2().inverse(),range(2))\n",
    "\n",
    "qc.decompose().draw(fold=130)"
   ]
  },
  {
   "cell_type": "markdown",
   "metadata": {},
   "source": [
    "The inverse QFT after calling the command inverse, represents the un-computing of QFT with negative phase."
   ]
  },
  {
   "cell_type": "markdown",
   "metadata": {},
   "source": [
    "## QFT for three qubits\n",
    "\n",
    "For $F_3$ we need to define phase gate on three qubits  $|x_3x_2x_1 \\rangle$ and a swap operation of the first and last qubit. The swap operation is simply the swap of the value of $x_1$  with the value of of $x_3$ \n",
    "\n",
    "\\begin{equation}\n",
    "F_3= \\frac{1}{\\sqrt{8}} \\cdot \\left( |0 \\rangle + e^{-2 \\cdot \\pi \\cdot i  \\cdot  0.x_1} \\cdot |1 \\rangle \\right) \\otimes\n",
    "\\left( |0 \\rangle + e^{-2 \\cdot \\pi \\cdot i   \\cdot  0.x_2x_1} \\cdot |1 \\rangle \\right) \\otimes\n",
    "\\end{equation}\n",
    "\n",
    "\\begin{equation}\n",
    "\\otimes \\left( |0 \\rangle + e^{-2 \\cdot \\pi \\cdot i   \\cdot  0.x_3x_2x_1} \\cdot |1 \\rangle \\right)\n",
    "\\end{equation}\n",
    "\n",
    "The circuit is represented as"
   ]
  },
  {
   "cell_type": "code",
   "execution_count": 46,
   "metadata": {},
   "outputs": [
    {
     "data": {
      "text/html": [
       "<pre style=\"word-wrap: normal;white-space: pre;background: #fff0;line-height: 1.1;font-family: &quot;Courier New&quot;,Courier,monospace\">                                          ┌───┐   \n",
       "q_0: ───────────────■─────────────■───────┤ H ├─X─\n",
       "                    │       ┌───┐ │P(π/2) └───┘ │ \n",
       "q_1: ──────■────────┼───────┤ H ├─■─────────────┼─\n",
       "     ┌───┐ │P(π/2)  │P(π/4) └───┘               │ \n",
       "q_2: ┤ H ├─■────────■───────────────────────────X─\n",
       "     └───┘                                        </pre>"
      ],
      "text/plain": [
       "                                          ┌───┐   \n",
       "q_0: ───────────────■─────────────■───────┤ H ├─X─\n",
       "                    │       ┌───┐ │P(π/2) └───┘ │ \n",
       "q_1: ──────■────────┼───────┤ H ├─■─────────────┼─\n",
       "     ┌───┐ │P(π/2)  │P(π/4) └───┘               │ \n",
       "q_2: ┤ H ├─■────────■───────────────────────────X─\n",
       "     └───┘                                        "
      ]
     },
     "execution_count": 46,
     "metadata": {},
     "output_type": "execute_result"
    }
   ],
   "source": [
    "qc = QuantumCircuit(3)\n",
    "\n",
    "\n",
    "qc.h(2)\n",
    "qc.cp(pi/2, 1, 2) # CROT from qubit 1 to qubit 2\n",
    "qc.cp(pi/4, 0, 2) # CROT from qubit 0 to qubit 2\n",
    "qc.h(1)\n",
    "qc.cp(pi/2, 0, 1) # CROT from qubit 0 to qubit 1\n",
    "qc.h(0)\n",
    "qc.swap(0,2)\n",
    "qc.draw()"
   ]
  },
  {
   "cell_type": "markdown",
   "metadata": {},
   "source": [
    "Circuit representing QFT for three qubits."
   ]
  },
  {
   "cell_type": "code",
   "execution_count": 47,
   "metadata": {},
   "outputs": [
    {
     "name": "stdout",
     "output_type": "stream",
     "text": [
      "\n",
      "Size of the unitary matrix: (8, 8)\n"
     ]
    },
    {
     "data": {
      "text/latex": [
       "$$\n",
       "\\text{QFT3 = }\n",
       "\n",
       "\\begin{bmatrix}\n",
       "\\frac{\\sqrt{2}}{4} & \\frac{\\sqrt{2}}{4} & \\frac{\\sqrt{2}}{4} & \\frac{\\sqrt{2}}{4} & \\frac{\\sqrt{2}}{4} & \\frac{\\sqrt{2}}{4} & \\frac{\\sqrt{2}}{4} & \\frac{\\sqrt{2}}{4}  \\\\\n",
       " \\frac{\\sqrt{2}}{4} & \\frac{1}{4} + \\frac{i}{4} & \\frac{\\sqrt{2} i}{4} & - \\frac{1}{4} + \\frac{i}{4} & - \\frac{\\sqrt{2}}{4} & - \\frac{1}{4} - \\frac{i}{4} & - \\frac{\\sqrt{2} i}{4} & \\frac{1}{4} - \\frac{i}{4}  \\\\\n",
       " \\frac{\\sqrt{2}}{4} & \\frac{\\sqrt{2} i}{4} & - \\frac{\\sqrt{2}}{4} & - \\frac{\\sqrt{2} i}{4} & \\frac{\\sqrt{2}}{4} & \\frac{\\sqrt{2} i}{4} & - \\frac{\\sqrt{2}}{4} & - \\frac{\\sqrt{2} i}{4}  \\\\\n",
       " \\frac{\\sqrt{2}}{4} & - \\frac{1}{4} + \\frac{i}{4} & - \\frac{\\sqrt{2} i}{4} & \\frac{1}{4} + \\frac{i}{4} & - \\frac{\\sqrt{2}}{4} & \\frac{1}{4} - \\frac{i}{4} & \\frac{\\sqrt{2} i}{4} & - \\frac{1}{4} - \\frac{i}{4}  \\\\\n",
       " \\frac{\\sqrt{2}}{4} & - \\frac{\\sqrt{2}}{4} & \\frac{\\sqrt{2}}{4} & - \\frac{\\sqrt{2}}{4} & \\frac{\\sqrt{2}}{4} & - \\frac{\\sqrt{2}}{4} & \\frac{\\sqrt{2}}{4} & - \\frac{\\sqrt{2}}{4}  \\\\\n",
       " \\frac{\\sqrt{2}}{4} & - \\frac{1}{4} - \\frac{i}{4} & \\frac{\\sqrt{2} i}{4} & \\frac{1}{4} - \\frac{i}{4} & - \\frac{\\sqrt{2}}{4} & \\frac{1}{4} + \\frac{i}{4} & - \\frac{\\sqrt{2} i}{4} & - \\frac{1}{4} + \\frac{i}{4}  \\\\\n",
       " \\frac{\\sqrt{2}}{4} & - \\frac{\\sqrt{2} i}{4} & - \\frac{\\sqrt{2}}{4} & \\frac{\\sqrt{2} i}{4} & \\frac{\\sqrt{2}}{4} & - \\frac{\\sqrt{2} i}{4} & - \\frac{\\sqrt{2}}{4} & \\frac{\\sqrt{2} i}{4}  \\\\\n",
       " \\frac{\\sqrt{2}}{4} & \\frac{1}{4} - \\frac{i}{4} & - \\frac{\\sqrt{2} i}{4} & - \\frac{1}{4} - \\frac{i}{4} & - \\frac{\\sqrt{2}}{4} & - \\frac{1}{4} + \\frac{i}{4} & \\frac{\\sqrt{2} i}{4} & \\frac{1}{4} + \\frac{i}{4}  \\\\\n",
       " \\end{bmatrix}\n",
       "$$"
      ],
      "text/plain": [
       "<IPython.core.display.Latex object>"
      ]
     },
     "execution_count": 47,
     "metadata": {},
     "output_type": "execute_result"
    }
   ],
   "source": [
    "from qiskit.visualization import array_to_latex\n",
    "from qiskit import assemble\n",
    "\n",
    "simulator = Aer.get_backend('qasm_simulator')\n",
    "qc.save_unitary()\n",
    "result = simulator.run(qc).result()\n",
    "unitary = result.get_unitary(qc)\n",
    "print(\"\\nSize of the unitary matrix:\",np.asarray(unitary).shape)\n",
    "array_to_latex(unitary, prefix=\"\\\\text{QFT3 = }\\n\")"
   ]
  },
  {
   "cell_type": "markdown",
   "metadata": {},
   "source": [
    "## QFT for four qubits\n",
    "\n",
    "The circuit for four qubits is represented as"
   ]
  },
  {
   "cell_type": "code",
   "execution_count": 48,
   "metadata": {},
   "outputs": [
    {
     "data": {
      "text/html": [
       "<pre style=\"word-wrap: normal;white-space: pre;background: #fff0;line-height: 1.1;font-family: &quot;Courier New&quot;,Courier,monospace\">                                      ░                         ░                ░ ┌───┐ ░       \n",
       "q_0: ────────────────────────■────────░────────────────■────────░───────■────────░─┤ H ├─░──X────\n",
       "                             │        ░                │        ░ ┌───┐ │P(π/2)  ░ └───┘ ░  │    \n",
       "q_1: ───────────────■────────┼────────░───────■────────┼────────░─┤ H ├─■────────░───────░──┼──X─\n",
       "                    │        │        ░ ┌───┐ │P(π/2)  │P(π/4)  ░ └───┘          ░       ░  │  │ \n",
       "q_2: ──────■────────┼────────┼────────░─┤ H ├─■────────■────────░────────────────░───────░──┼──X─\n",
       "     ┌───┐ │P(π/2)  │P(π/4)  │P(π/8)  ░ └───┘                   ░                ░       ░  │    \n",
       "q_3: ┤ H ├─■────────■────────■────────░─────────────────────────░────────────────░───────░──X────\n",
       "     └───┘                            ░                         ░                ░       ░       </pre>"
      ],
      "text/plain": [
       "                                      ░                         ░                ░ ┌───┐ ░       \n",
       "q_0: ────────────────────────■────────░────────────────■────────░───────■────────░─┤ H ├─░──X────\n",
       "                             │        ░                │        ░ ┌───┐ │P(π/2)  ░ └───┘ ░  │    \n",
       "q_1: ───────────────■────────┼────────░───────■────────┼────────░─┤ H ├─■────────░───────░──┼──X─\n",
       "                    │        │        ░ ┌───┐ │P(π/2)  │P(π/4)  ░ └───┘          ░       ░  │  │ \n",
       "q_2: ──────■────────┼────────┼────────░─┤ H ├─■────────■────────░────────────────░───────░──┼──X─\n",
       "     ┌───┐ │P(π/2)  │P(π/4)  │P(π/8)  ░ └───┘                   ░                ░       ░  │    \n",
       "q_3: ┤ H ├─■────────■────────■────────░─────────────────────────░────────────────░───────░──X────\n",
       "     └───┘                            ░                         ░                ░       ░       "
      ]
     },
     "execution_count": 48,
     "metadata": {},
     "output_type": "execute_result"
    }
   ],
   "source": [
    "qc = QuantumCircuit(4)\n",
    "\n",
    "qc.h(3)\n",
    "qc.cp(pi/2, 2, 3) # CROT from qubit 2 to qubit 3\n",
    "qc.cp(pi/4, 1, 3) # CROT from qubit 1 to qubit 3\n",
    "qc.cp(pi/8, 0, 3) # CROT from qubit 0 to qubit 3\n",
    "\n",
    "qc.barrier()\n",
    "\n",
    "qc.h(2)\n",
    "qc.cp(pi/2, 1, 2) # CROT from qubit 1 to qubit 2\n",
    "qc.cp(pi/4, 0, 2) # CROT from qubit 0 to qubit 2\n",
    "\n",
    "qc.barrier()\n",
    "\n",
    "qc.h(1)\n",
    "qc.cp(pi/2, 0, 1) # CROT from qubit 0 to qubit 1\n",
    "\n",
    "qc.barrier()\n",
    "qc.h(0)\n",
    "qc.barrier()\n",
    "qc.swap(0,3)\n",
    "qc.swap(1,2)\n",
    "\n",
    "\n",
    "\n",
    "qc.draw(fold=200)"
   ]
  },
  {
   "cell_type": "markdown",
   "metadata": {},
   "source": [
    "QFT for four qubit."
   ]
  },
  {
   "cell_type": "markdown",
   "metadata": {},
   "source": [
    "## The circuit for $m$ qubits\n",
    "\n",
    "The circuit for $m$ qubits can be imported from the $qiskit$ library. In our example we compose a circuit of $6$ qubits"
   ]
  },
  {
   "cell_type": "code",
   "execution_count": 49,
   "metadata": {},
   "outputs": [
    {
     "data": {
      "text/html": [
       "<pre style=\"word-wrap: normal;white-space: pre;background: #fff0;line-height: 1.1;font-family: &quot;Courier New&quot;,Courier,monospace\">                                                                                                                                                                        ┌───┐   \n",
       "q_0: ─────────────────────────────────────────────────────────────────────────────────────────■───────────────────────■──────────────────■─────────────■────────■───────┤ H ├─X─\n",
       "                                                                                              │                       │                  │       ┌───┐ │        │P(π/2) └───┘ │ \n",
       "q_1: ─────────────────────────────────────────────────────────────■──────────────────■────────┼──────────────■────────┼─────────■────────┼───────┤ H ├─┼────────■─────────X───┼─\n",
       "                                                                  │                  │        │        ┌───┐ │        │         │P(π/2)  │       └───┘ │P(π/4)            │   │ \n",
       "q_2: ──────────────────────────────────────■─────────────■────────┼─────────■────────┼────────┼────────┤ H ├─┼────────┼─────────■────────┼─────────────■───────────X──────┼───┼─\n",
       "                                           │       ┌───┐ │        │         │P(π/2)  │        │        └───┘ │P(π/4)  │                  │P(π/8)                   │      │   │ \n",
       "q_3: ────────────────────■────────■────────┼───────┤ H ├─┼────────┼─────────■────────┼────────┼──────────────■────────┼──────────────────■─────────────────────────X──────┼───┼─\n",
       "                   ┌───┐ │        │P(π/2)  │       └───┘ │P(π/4)  │                  │P(π/8)  │                       │P(π/16)                                            │   │ \n",
       "q_4: ──────■───────┤ H ├─┼────────■────────┼─────────────■────────┼──────────────────■────────┼───────────────────────■───────────────────────────────────────────────────X───┼─\n",
       "     ┌───┐ │P(π/2) └───┘ │P(π/4)           │P(π/8)                │P(π/16)                    │P(π/32)                                                                        │ \n",
       "q_5: ┤ H ├─■─────────────■─────────────────■──────────────────────■───────────────────────────■───────────────────────────────────────────────────────────────────────────────X─\n",
       "     └───┘                                                                                                                                                                      </pre>"
      ],
      "text/plain": [
       "                                                                                                                                                                        ┌───┐   \n",
       "q_0: ─────────────────────────────────────────────────────────────────────────────────────────■───────────────────────■──────────────────■─────────────■────────■───────┤ H ├─X─\n",
       "                                                                                              │                       │                  │       ┌───┐ │        │P(π/2) └───┘ │ \n",
       "q_1: ─────────────────────────────────────────────────────────────■──────────────────■────────┼──────────────■────────┼─────────■────────┼───────┤ H ├─┼────────■─────────X───┼─\n",
       "                                                                  │                  │        │        ┌───┐ │        │         │P(π/2)  │       └───┘ │P(π/4)            │   │ \n",
       "q_2: ──────────────────────────────────────■─────────────■────────┼─────────■────────┼────────┼────────┤ H ├─┼────────┼─────────■────────┼─────────────■───────────X──────┼───┼─\n",
       "                                           │       ┌───┐ │        │         │P(π/2)  │        │        └───┘ │P(π/4)  │                  │P(π/8)                   │      │   │ \n",
       "q_3: ────────────────────■────────■────────┼───────┤ H ├─┼────────┼─────────■────────┼────────┼──────────────■────────┼──────────────────■─────────────────────────X──────┼───┼─\n",
       "                   ┌───┐ │        │P(π/2)  │       └───┘ │P(π/4)  │                  │P(π/8)  │                       │P(π/16)                                            │   │ \n",
       "q_4: ──────■───────┤ H ├─┼────────■────────┼─────────────■────────┼──────────────────■────────┼───────────────────────■───────────────────────────────────────────────────X───┼─\n",
       "     ┌───┐ │P(π/2) └───┘ │P(π/4)           │P(π/8)                │P(π/16)                    │P(π/32)                                                                        │ \n",
       "q_5: ┤ H ├─■─────────────■─────────────────■──────────────────────■───────────────────────────■───────────────────────────────────────────────────────────────────────────────X─\n",
       "     └───┘                                                                                                                                                                      "
      ]
     },
     "execution_count": 49,
     "metadata": {},
     "output_type": "execute_result"
    }
   ],
   "source": [
    "from qiskit.circuit.library import QFT\n",
    "qc = QuantumCircuit(6)\n",
    "#qc = qc.compose(QFT(6, inverse=True))\n",
    "qc = qc.compose(QFT(6))\n",
    "qc.decompose().draw(fold=200)"
   ]
  },
  {
   "cell_type": "markdown",
   "metadata": {},
   "source": [
    "QFT for six qubits."
   ]
  },
  {
   "cell_type": "markdown",
   "metadata": {},
   "source": [
    "## QFT\n",
    "\n",
    "A periodic function can be represented as a superposition of qubits and their values of amplitudes (representing the probabilities). For periodic function the amplitudes representing the frequency of the function have positive value, all other amplitudes are zero. \n",
    "By measuring the the register with high amplitude values we  can reconstruct the period.\n",
    "In our example we generate a state vector  which which the DFT results in the vector\n",
    "\n",
    "\\begin{equation}\n",
    "\\alpha=\n",
    "\\left( \\begin{array}{c}\n",
    "0 \\\\\n",
    "0 \\\\\n",
    "0 \\\\\n",
    "0 \\\\\n",
    "0 \\\\\n",
    "1 \\\\\n",
    "0 \\\\\n",
    "0 \\\\\n",
    "\\end{array}\n",
    "\\right).\n",
    "\\end{equation}\n",
    "\n"
   ]
  },
  {
   "cell_type": "code",
   "execution_count": 50,
   "metadata": {},
   "outputs": [
    {
     "data": {
      "text/plain": [
       "<qiskit.circuit.instructionset.InstructionSet at 0x141843340>"
      ]
     },
     "execution_count": 50,
     "metadata": {},
     "output_type": "execute_result"
    }
   ],
   "source": [
    "qc = QuantumCircuit(3)\n",
    "qc.h(0)\n",
    "qc.h(1)\n",
    "qc.h(2)\n",
    "qc.p(5*pi/4,0)\n",
    "qc.p(5*pi/2,1)\n",
    "qc.p(5*pi,2)"
   ]
  },
  {
   "cell_type": "code",
   "execution_count": 51,
   "metadata": {},
   "outputs": [
    {
     "data": {
      "text/latex": [
       "$$\n",
       "\\text{S} = \n",
       "\\begin{bmatrix}\n",
       "\\frac{\\sqrt{2}}{4} & - \\frac{1}{4} - \\frac{i}{4} & \\frac{\\sqrt{2} i}{4} & \\frac{1}{4} - \\frac{i}{4} & - \\frac{\\sqrt{2}}{4} & \\frac{1}{4} + \\frac{i}{4} & - \\frac{\\sqrt{2} i}{4} & - \\frac{1}{4} + \\frac{i}{4}  \\\\\n",
       " \\end{bmatrix}\n",
       "$$"
      ],
      "text/plain": [
       "<IPython.core.display.Latex object>"
      ]
     },
     "execution_count": 51,
     "metadata": {},
     "output_type": "execute_result"
    }
   ],
   "source": [
    "simulator = Aer.get_backend('statevector_simulator')\n",
    "result=execute(qc,simulator).result()\n",
    "final_state = simulator.run(qc).result().get_statevector()\n",
    "from qiskit.visualization import array_to_latex\n",
    "array_to_latex(final_state, max_size=16,prefix=\"\\\\text{S} = \")"
   ]
  },
  {
   "cell_type": "markdown",
   "metadata": {},
   "source": [
    "Computing the Iiverse QFT  results in the binary representation of $5$ ($101$),  the amplitude representation the vector $\\alpha$"
   ]
  },
  {
   "cell_type": "code",
   "execution_count": 52,
   "metadata": {},
   "outputs": [
    {
     "data": {
      "text/html": [
       "<pre style=\"word-wrap: normal;white-space: pre;background: #fff0;line-height: 1.1;font-family: &quot;Courier New&quot;,Courier,monospace\">     ┌───┐┌─────────┐ ░ ┌──────────┐\n",
       "q_0: ┤ H ├┤ P(5π/4) ├─░─┤0         ├\n",
       "     ├───┤├─────────┤ ░ │          │\n",
       "q_1: ┤ H ├┤ P(5π/2) ├─░─┤1 IQFT_dg ├\n",
       "     ├───┤└┬───────┬┘ ░ │          │\n",
       "q_2: ┤ H ├─┤ P(5π) ├──░─┤2         ├\n",
       "     └───┘ └───────┘  ░ └──────────┘</pre>"
      ],
      "text/plain": [
       "     ┌───┐┌─────────┐ ░ ┌──────────┐\n",
       "q_0: ┤ H ├┤ P(5π/4) ├─░─┤0         ├\n",
       "     ├───┤├─────────┤ ░ │          │\n",
       "q_1: ┤ H ├┤ P(5π/2) ├─░─┤1 IQFT_dg ├\n",
       "     ├───┤└┬───────┬┘ ░ │          │\n",
       "q_2: ┤ H ├─┤ P(5π) ├──░─┤2         ├\n",
       "     └───┘ └───────┘  ░ └──────────┘"
      ]
     },
     "execution_count": 52,
     "metadata": {},
     "output_type": "execute_result"
    }
   ],
   "source": [
    "qc = QuantumCircuit(3)\n",
    "qc.h(0)\n",
    "qc.h(1)\n",
    "qc.h(2)\n",
    "qc.p(5*pi/4,0)\n",
    "qc.p(5*pi/2,1)\n",
    "qc.p(5*pi,2)\n",
    "#And we can see this does indeed result in the Fourier state 5, 101\n",
    "qc.barrier()\n",
    "qc = qc.compose(QFT(3, inverse=True))\n",
    "qc.draw()"
   ]
  },
  {
   "cell_type": "code",
   "execution_count": 53,
   "metadata": {},
   "outputs": [
    {
     "name": "stdout",
     "output_type": "stream",
     "text": [
      "The result is: {'101': 1.0}\n"
     ]
    }
   ],
   "source": [
    "simulator = Aer.get_backend('statevector_simulator')\n",
    "result=execute(qc,simulator).result()\n",
    "counts = result.get_counts()\n",
    "print('The result is:', counts)"
   ]
  },
  {
   "cell_type": "markdown",
   "metadata": {},
   "source": [
    "Binary representation of $5$ ($101$),  the amplitude representation the vector $\\alpha$\n",
    "\n",
    "\\begin{equation}\n",
    "\\alpha=\n",
    "\\left( \\begin{array}{c}\n",
    "0 \\\\\n",
    "0 \\\\\n",
    "0 \\\\\n",
    "0 \\\\\n",
    "0 \\\\\n",
    "1 \\\\\n",
    "0 \\\\\n",
    "0 \\\\\n",
    "\\end{array}\n",
    "\\right).\n",
    "\\end{equation}"
   ]
  }
 ],
 "metadata": {
  "kernelspec": {
   "display_name": "base",
   "language": "python",
   "name": "python3"
  },
  "language_info": {
   "codemirror_mode": {
    "name": "ipython",
    "version": 3
   },
   "file_extension": ".py",
   "mimetype": "text/x-python",
   "name": "python",
   "nbconvert_exporter": "python",
   "pygments_lexer": "ipython3",
   "version": "3.9.12"
  },
  "orig_nbformat": 4
 },
 "nbformat": 4,
 "nbformat_minor": 2
}
