{
 "cells": [
  {
   "attachments": {},
   "cell_type": "markdown",
   "metadata": {},
   "source": [
    "# Chapter 6: SAT Problem\n",
    "\n",
    "A decision problem, like the SAT-problem, is a computational problem with instances formulated as a question with a binary Yes or No answer.\n",
    "We apply Grover's amplification to a marked state of three qubits. \n",
    "Our solution corresponds to the Boolean formula \n",
    "\\begin{equation}\n",
    "\\phi=(x_1 \\leftrightarrow x_2) \\wedge ( x_1 \\wedge x_2) \\wedge \\neg x_3\n",
    "\\end{equation}\n",
    "that evaluates true, which is the case for $x_1=1$, $x_2=1$ and $x_3=0$. In this case,  the state  determined by the oracle function with the solution  encoded by  $ (-1)^{o(x)}$.\n",
    "\n",
    "The operation $( x_1 \\wedge x_2) $ is represented by  the $AND$ operation, the ancilla  qubit $2$ is set to $0$, $x_1$ is represented by qubit $0$ and $x_2$ by qubit $1$ \n",
    "\n",
    "$ccX(x_0,x_1,0)=(x_0,x_2, x_1 \\wedge x_2) $"
   ]
  },
  {
   "cell_type": "code",
   "execution_count": 176,
   "metadata": {},
   "outputs": [
    {
     "data": {
      "text/plain": [
       "<qiskit.circuit.instructionset.InstructionSet at 0x2818cc0a0>"
      ]
     },
     "execution_count": 176,
     "metadata": {},
     "output_type": "execute_result"
    }
   ],
   "source": [
    "\n",
    "from qiskit import QuantumCircuit,QuantumRegister, Aer,execute\n",
    "from qiskit.visualization import plot_histogram\n",
    "from qiskit.circuit.library import MCXGate\n",
    "from qiskit.quantum_info import Statevector\n",
    "\n",
    "qc = QuantumCircuit(6)\n",
    "\n",
    "#Input represented by qubits 0,1,4\n",
    "\n",
    "#First And, qubit 2 is zero\n",
    "qc.ccx(0,1,2)\n",
    "qc.barrier()"
   ]
  },
  {
   "attachments": {},
   "cell_type": "markdown",
   "metadata": {},
   "source": [
    "and the result of the operation is represented in the qubit $2$.\n",
    "\n",
    "\n",
    "The operation $ (x_1 \\leftrightarrow x_2)$ is represented by  the $XOR$ and $NOT$ operation, the  bit $ x_1$ is set to $1$ corresponding to the qubit $3$.\n",
    "The $XOR$ operation is executed $ccX(1,x_2,x_3)=(1,x_2, x_2 \\oplus x_3)$, "
   ]
  },
  {
   "cell_type": "code",
   "execution_count": 177,
   "metadata": {},
   "outputs": [
    {
     "data": {
      "text/plain": [
       "<qiskit.circuit.instructionset.InstructionSet at 0x281833d30>"
      ]
     },
     "execution_count": 177,
     "metadata": {},
     "output_type": "execute_result"
    }
   ],
   "source": [
    "qc.x(3)\n",
    "qc.ccx(3,0,1)"
   ]
  },
  {
   "attachments": {},
   "cell_type": "markdown",
   "metadata": {},
   "source": [
    "the result of the  $XOR$  operation is written in qubit $1$, then the  $NOT$ operation is performed"
   ]
  },
  {
   "cell_type": "code",
   "execution_count": 178,
   "metadata": {},
   "outputs": [
    {
     "data": {
      "text/plain": [
       "<qiskit.circuit.instructionset.InstructionSet at 0x2818339a0>"
      ]
     },
     "execution_count": 178,
     "metadata": {},
     "output_type": "execute_result"
    }
   ],
   "source": [
    "qc.x(3)\n",
    "qc.ccx(3,0,1)\n",
    "qc.x(1)"
   ]
  },
  {
   "attachments": {},
   "cell_type": "markdown",
   "metadata": {},
   "source": [
    "and the result of the operation is represented in the qubit $1$.\n",
    "We execute the  $AND$ operation of the result represented in the qubit $1$ and $2$ and write the result in qubit $3$. We reset the qubit $3$ to zero"
   ]
  },
  {
   "cell_type": "code",
   "execution_count": 179,
   "metadata": {},
   "outputs": [
    {
     "data": {
      "text/plain": [
       "<qiskit.circuit.instructionset.InstructionSet at 0x281833850>"
      ]
     },
     "execution_count": 179,
     "metadata": {},
     "output_type": "execute_result"
    }
   ],
   "source": [
    "qc.x(3)\n",
    "qc.ccx(1,2,3)"
   ]
  },
  {
   "attachments": {},
   "cell_type": "markdown",
   "metadata": {},
   "source": [
    "and write result of the operation  in the qubit $3$, which corresponds to the Boolean formula $(x_1 \\leftrightarrow x_2) \\wedge ( x_1 \\wedge x_2)$. The remaining part of the formula is represented by $NOT$ and $AND$ operation of $\\neg x_3$ represented by qubit $4$"
   ]
  },
  {
   "cell_type": "code",
   "execution_count": 180,
   "metadata": {},
   "outputs": [
    {
     "data": {
      "text/plain": [
       "<qiskit.circuit.instructionset.InstructionSet at 0x2818cc070>"
      ]
     },
     "execution_count": 180,
     "metadata": {},
     "output_type": "execute_result"
    }
   ],
   "source": [
    "qc.barrier()\n",
    "qc.x(4)\n",
    "qc.ccx(3,4,5)"
   ]
  },
  {
   "attachments": {},
   "cell_type": "markdown",
   "metadata": {},
   "source": [
    "and write result of the operation  in the qubit $5$, resulting in "
   ]
  },
  {
   "cell_type": "code",
   "execution_count": 181,
   "metadata": {},
   "outputs": [
    {
     "data": {
      "text/html": [
       "<pre style=\"word-wrap: normal;white-space: pre;background: #fff0;line-height: 1.1;font-family: &quot;Courier New&quot;,Courier,monospace\">           ░                                ░           \n",
       "q_0: ──■───░────────■─────────■─────────────░───────────\n",
       "       │   ░      ┌─┴─┐     ┌─┴─┐┌───┐      ░           \n",
       "q_1: ──■───░──────┤ X ├─────┤ X ├┤ X ├──■───░───────────\n",
       "     ┌─┴─┐ ░      └─┬─┘     └─┬─┘└───┘  │   ░           \n",
       "q_2: ┤ X ├─░────────┼─────────┼─────────■───░───────────\n",
       "     └───┘ ░ ┌───┐  │  ┌───┐  │  ┌───┐┌─┴─┐ ░           \n",
       "q_3: ──────░─┤ X ├──■──┤ X ├──■──┤ X ├┤ X ├─░────────■──\n",
       "           ░ └───┘     └───┘     └───┘└───┘ ░ ┌───┐  │  \n",
       "q_4: ──────░────────────────────────────────░─┤ X ├──■──\n",
       "           ░                                ░ └───┘┌─┴─┐\n",
       "q_5: ──────░────────────────────────────────░──────┤ X ├\n",
       "           ░                                ░      └───┘</pre>"
      ],
      "text/plain": [
       "           ░                                ░           \n",
       "q_0: ──■───░────────■─────────■─────────────░───────────\n",
       "       │   ░      ┌─┴─┐     ┌─┴─┐┌───┐      ░           \n",
       "q_1: ──■───░──────┤ X ├─────┤ X ├┤ X ├──■───░───────────\n",
       "     ┌─┴─┐ ░      └─┬─┘     └─┬─┘└───┘  │   ░           \n",
       "q_2: ┤ X ├─░────────┼─────────┼─────────■───░───────────\n",
       "     └───┘ ░ ┌───┐  │  ┌───┐  │  ┌───┐┌─┴─┐ ░           \n",
       "q_3: ──────░─┤ X ├──■──┤ X ├──■──┤ X ├┤ X ├─░────────■──\n",
       "           ░ └───┘     └───┘     └───┘└───┘ ░ ┌───┐  │  \n",
       "q_4: ──────░────────────────────────────────░─┤ X ├──■──\n",
       "           ░                                ░ └───┘┌─┴─┐\n",
       "q_5: ──────░────────────────────────────────░──────┤ X ├\n",
       "           ░                                ░      └───┘"
      ]
     },
     "execution_count": 181,
     "metadata": {},
     "output_type": "execute_result"
    }
   ],
   "source": [
    "qc.draw()"
   ]
  },
  {
   "attachments": {},
   "cell_type": "markdown",
   "metadata": {},
   "source": [
    "The circuit representing the Boolean formula \n",
    "$\\phi=(x_1 \\leftrightarrow x_2) \\wedge ( x_1 \\wedge x_2) \\wedge \\neg x_3$. The input are the qubits $0$, $1$ and $4$ and the output is represented in the qubit $5$."
   ]
  },
  {
   "attachments": {},
   "cell_type": "markdown",
   "metadata": {},
   "source": [
    "## Un-Computation\n",
    "\n",
    "n quantum computation, it is not possible to reset the information to the pattern representing the initial state. Instead, we un-compute the output back to the input"
   ]
  },
  {
   "cell_type": "code",
   "execution_count": 182,
   "metadata": {},
   "outputs": [
    {
     "data": {
      "text/html": [
       "<pre style=\"word-wrap: normal;white-space: pre;background: #fff0;line-height: 1.1;font-family: &quot;Courier New&quot;,Courier,monospace\">     ┌───┐ ░       ░                      ░            ░  ░       ░            ░                 ░      \n",
       "q_0: ┤ H ├─░───■───░────────■─────────────░────────────░──░───────░────────────░────────■────────░───■──\n",
       "     ├───┤ ░   │   ░      ┌─┴─┐┌───┐      ░            ░  ░       ░            ░ ┌───┐┌─┴─┐      ░   │  \n",
       "q_1: ┤ H ├─░───■───░──────┤ X ├┤ X ├──■───░────────────░──░───────░───■────────░─┤ X ├┤ X ├──────░───■──\n",
       "     └───┘ ░ ┌─┴─┐ ░      └─┬─┘└───┘  │   ░            ░  ░       ░   │        ░ └───┘└─┬─┘      ░ ┌─┴─┐\n",
       "q_2: ──────░─┤ X ├─░────────┼─────────■───░────────────░──░───────░───■────────░────────┼────────░─┤ X ├\n",
       "           ░ └───┘ ░ ┌───┐  │  ┌───┐┌─┴─┐ ░            ░  ░       ░ ┌─┴─┐┌───┐ ░        │  ┌───┐ ░ └───┘\n",
       "q_3: ──────░───────░─┤ X ├──■──┤ X ├┤ X ├─░────────■───░──░───────░─┤ X ├┤ X ├─░────────■──┤ X ├─░──────\n",
       "     ┌───┐ ░       ░ └───┘     └───┘└───┘ ░ ┌───┐  │   ░  ░ ┌───┐ ░ └───┘└───┘ ░           └───┘ ░      \n",
       "q_4: ┤ H ├─░───────░──────────────────────░─┤ X ├──■───░──░─┤ X ├─░────────────░─────────────────░──────\n",
       "     └───┘ ░       ░                      ░ └───┘┌─┴─┐ ░  ░ └───┘ ░            ░                 ░      \n",
       "q_5: ──────░───────░──────────────────────░──────┤ X ├─░──░───────░────────────░─────────────────░──────\n",
       "           ░       ░                      ░      └───┘ ░  ░       ░            ░                 ░      </pre>"
      ],
      "text/plain": [
       "     ┌───┐ ░       ░                      ░            ░  ░       ░            ░                 ░      \n",
       "q_0: ┤ H ├─░───■───░────────■─────────────░────────────░──░───────░────────────░────────■────────░───■──\n",
       "     ├───┤ ░   │   ░      ┌─┴─┐┌───┐      ░            ░  ░       ░            ░ ┌───┐┌─┴─┐      ░   │  \n",
       "q_1: ┤ H ├─░───■───░──────┤ X ├┤ X ├──■───░────────────░──░───────░───■────────░─┤ X ├┤ X ├──────░───■──\n",
       "     └───┘ ░ ┌─┴─┐ ░      └─┬─┘└───┘  │   ░            ░  ░       ░   │        ░ └───┘└─┬─┘      ░ ┌─┴─┐\n",
       "q_2: ──────░─┤ X ├─░────────┼─────────■───░────────────░──░───────░───■────────░────────┼────────░─┤ X ├\n",
       "           ░ └───┘ ░ ┌───┐  │  ┌───┐┌─┴─┐ ░            ░  ░       ░ ┌─┴─┐┌───┐ ░        │  ┌───┐ ░ └───┘\n",
       "q_3: ──────░───────░─┤ X ├──■──┤ X ├┤ X ├─░────────■───░──░───────░─┤ X ├┤ X ├─░────────■──┤ X ├─░──────\n",
       "     ┌───┐ ░       ░ └───┘     └───┘└───┘ ░ ┌───┐  │   ░  ░ ┌───┐ ░ └───┘└───┘ ░           └───┘ ░      \n",
       "q_4: ┤ H ├─░───────░──────────────────────░─┤ X ├──■───░──░─┤ X ├─░────────────░─────────────────░──────\n",
       "     └───┘ ░       ░                      ░ └───┘┌─┴─┐ ░  ░ └───┘ ░            ░                 ░      \n",
       "q_5: ──────░───────░──────────────────────░──────┤ X ├─░──░───────░────────────░─────────────────░──────\n",
       "           ░       ░                      ░      └───┘ ░  ░       ░            ░                 ░      "
      ]
     },
     "execution_count": 182,
     "metadata": {},
     "output_type": "execute_result"
    }
   ],
   "source": [
    "qc = QuantumCircuit(6)\n",
    "#Input 0,1,4\n",
    "qc.h(0)\n",
    "qc.h(1)\n",
    "qc.h(4)\n",
    "qc.barrier()\n",
    "\n",
    "#First And 2 is zero\n",
    "qc.ccx(0,1,2)\n",
    "qc.barrier()\n",
    "#Result in 2\n",
    "\n",
    "#If AND IF\n",
    "qc.x(3)\n",
    "qc.ccx(3,0,1)\n",
    "qc.x(1)\n",
    "#Result in 1\n",
    "\n",
    "#Make 3 zero\n",
    "qc.x(3)\n",
    "qc.ccx(1,2,3)\n",
    "qc.barrier()\n",
    "#Result in 3\n",
    "\n",
    "#Input 4\n",
    "qc.x(4)\n",
    "qc.ccx(3,4,5)\n",
    "\n",
    "#Un-compute\n",
    "qc.barrier()\n",
    "qc.barrier()\n",
    "qc.x(4)\n",
    "qc.barrier()\n",
    "qc.ccx(1,2,3)\n",
    "qc.x(3)\n",
    "qc.barrier()\n",
    "qc.x(1)\n",
    "qc.ccx(3,0,1)\n",
    "qc.x(3)\n",
    "qc.barrier()\n",
    "qc.ccx(0,1,2)\n",
    "\n",
    "qc.draw(fold=120) \n"
   ]
  },
  {
   "attachments": {},
   "cell_type": "markdown",
   "metadata": {},
   "source": [
    "The input are the qubits $0$, $1$ and $4$  mapped in superposition by  Hadamard  gates.  The output is represented in the qubit $5$ indicating by the value $1$ the presence of the  solution. The solution itself  is indicated in   the qubits $0$, $1$ and $4$."
   ]
  },
  {
   "cell_type": "code",
   "execution_count": 183,
   "metadata": {},
   "outputs": [
    {
     "name": "stdout",
     "output_type": "stream",
     "text": [
      "\n",
      "Total count are: {'000000': 0.125, '000001': 0.125, '000010': 0.125, '010000': 0.125, '010001': 0.125, '010010': 0.125, '010011': 0.125, '100011': 0.125}\n"
     ]
    },
    {
     "data": {
      "image/png": "[encoded data removed]",
      "text/plain": [
       "<Figure size 504x360 with 1 Axes>"
      ]
     },
     "execution_count": 183,
     "metadata": {},
     "output_type": "execute_result"
    }
   ],
   "source": [
    "simulator = Aer.get_backend('statevector_simulator')\n",
    "result=execute(qc,simulator).result()\n",
    "counts = result.get_counts()\n",
    "print(\"\\nTotal count are:\",counts)\n",
    "plot_histogram(counts)"
   ]
  },
  {
   "attachments": {},
   "cell_type": "markdown",
   "metadata": {},
   "source": [
    "$\\phi=(x_1 \\leftrightarrow x_2) \\wedge ( x_1 \\wedge x_2) \\wedge \\neg x_3$. The output is represented in the qubit $q_5$ indicating by the value $1$ the presence of the  solution. The solution is indicated in  the qubits $q_0=1$, $q_1=1$ and $q_4=0$ by the right column representing the state $|q_5q_4q_3q_2q_1q_0\\rangle=|100011\\rangle$"
   ]
  },
  {
   "attachments": {},
   "cell_type": "markdown",
   "metadata": {},
   "source": [
    "## Grover's Amplification\n",
    "\n",
    "In the next step we apply the Grover’s algorithm with two rotations"
   ]
  },
  {
   "cell_type": "code",
   "execution_count": 184,
   "metadata": {},
   "outputs": [
    {
     "data": {
      "text/html": [
       "<pre style=\"word-wrap: normal;white-space: pre;background: #fff0;line-height: 1.1;font-family: &quot;Courier New&quot;,Courier,monospace\">     ┌───┐      ░       ░                      ░            ░       ░            ░                 ░       ░       ░ ┌───┐┌───┐┌───┐┌───┐┌───┐ ░ ┌───┐┌───┐ ░  ░ »\n",
       "q_0: ┤ H ├──────░───■───░────────■─────────────░────────────░───────░────────────░────────■────────░───■───░───────░─┤ H ├┤ X ├┤ H ├┤ X ├┤ H ├─░─┤ X ├┤ H ├─░──░─»\n",
       "     ├───┤      ░   │   ░      ┌─┴─┐┌───┐      ░            ░       ░            ░ ┌───┐┌─┴─┐      ░   │   ░       ░ ├───┤├───┤└───┘└─┬─┘└───┘ ░ ├───┤├───┤ ░  ░ »\n",
       "q_1: ┤ H ├──────░───■───░──────┤ X ├┤ X ├──■───░────────────░───────░───■────────░─┤ X ├┤ X ├──────░───■───░───────░─┤ H ├┤ X ├───────■────────░─┤ X ├┤ H ├─░──░─»\n",
       "     └───┘      ░ ┌─┴─┐ ░      └─┬─┘└───┘  │   ░            ░       ░   │        ░ └───┘└─┬─┘      ░ ┌─┴─┐ ░       ░ └───┘└───┘       │        ░ └───┘└───┘ ░  ░ »\n",
       "q_2: ───────────░─┤ X ├─░────────┼─────────■───░────────────░───────░───■────────░────────┼────────░─┤ X ├─░───────░──────────────────┼────────░────────────░──░─»\n",
       "                ░ └───┘ ░ ┌───┐  │  ┌───┐┌─┴─┐ ░            ░       ░ ┌─┴─┐┌───┐ ░        │  ┌───┐ ░ └───┘ ░       ░                  │        ░            ░  ░ »\n",
       "q_3: ───────────░───────░─┤ X ├──■──┤ X ├┤ X ├─░────────■───░───────░─┤ X ├┤ X ├─░────────■──┤ X ├─░───────░───────░──────────────────┼────────░────────────░──░─»\n",
       "     ┌───┐      ░       ░ └───┘     └───┘└───┘ ░ ┌───┐  │   ░ ┌───┐ ░ └───┘└───┘ ░           └───┘ ░       ░       ░ ┌───┐┌───┐       │        ░ ┌───┐┌───┐ ░  ░ »\n",
       "q_4: ┤ H ├──────░───────░──────────────────────░─┤ X ├──■───░─┤ X ├─░────────────░─────────────────░───────░───────░─┤ H ├┤ X ├───────■────────░─┤ X ├┤ H ├─░──░─»\n",
       "     ├───┤┌───┐ ░       ░                      ░ └───┘┌─┴─┐ ░ └───┘ ░            ░                 ░       ░ ┌───┐ ░ └───┘└───┘                ░ └───┘└───┘ ░  ░ »\n",
       "q_5: ┤ X ├┤ H ├─░───────░──────────────────────░──────┤ X ├─░───────░────────────░─────────────────░───────░─┤ H ├─░───────────────────────────░────────────░──░─»\n",
       "     └───┘└───┘ ░       ░                      ░      └───┘ ░       ░            ░                 ░       ░ └───┘ ░                           ░            ░  ░ »\n",
       "c: 3/════════════════════════════════════════════════════════════════════════════════════════════════════════════════════════════════════════════════════════════»\n",
       "                                                                                                                                                                 »\n",
       "«           ░       ░                      ░            ░       ░            ░                 ░       ░       ░ ┌───┐┌───┐┌───┐┌───┐┌───┐ ░ ┌───┐┌───┐┌─┐      \n",
       "«q_0: ──────░───■───░────────■─────────────░────────────░───────░────────────░────────■────────░───■───░───────░─┤ H ├┤ X ├┤ H ├┤ X ├┤ H ├─░─┤ X ├┤ H ├┤M├──────\n",
       "«           ░   │   ░      ┌─┴─┐┌───┐      ░            ░       ░            ░ ┌───┐┌─┴─┐      ░   │   ░       ░ ├───┤├───┤└───┘└─┬─┘└───┘ ░ ├───┤├───┤└╥┘┌─┐   \n",
       "«q_1: ──────░───■───░──────┤ X ├┤ X ├──■───░────────────░───────░───■────────░─┤ X ├┤ X ├──────░───■───░───────░─┤ H ├┤ X ├───────■────────░─┤ X ├┤ H ├─╫─┤M├───\n",
       "«           ░ ┌─┴─┐ ░      └─┬─┘└───┘  │   ░            ░       ░   │        ░ └───┘└─┬─┘      ░ ┌─┴─┐ ░       ░ └───┘└───┘       │        ░ └───┘└───┘ ║ └╥┘   \n",
       "«q_2: ──────░─┤ X ├─░────────┼─────────■───░────────────░───────░───■────────░────────┼────────░─┤ X ├─░───────░──────────────────┼────────░────────────╫──╫────\n",
       "«           ░ └───┘ ░ ┌───┐  │  ┌───┐┌─┴─┐ ░            ░       ░ ┌─┴─┐┌───┐ ░        │  ┌───┐ ░ └───┘ ░       ░                  │        ░            ║  ║    \n",
       "«q_3: ──────░───────░─┤ X ├──■──┤ X ├┤ X ├─░────────■───░───────░─┤ X ├┤ X ├─░────────■──┤ X ├─░───────░───────░──────────────────┼────────░────────────╫──╫────\n",
       "«           ░       ░ └───┘     └───┘└───┘ ░ ┌───┐  │   ░ ┌───┐ ░ └───┘└───┘ ░           └───┘ ░       ░       ░ ┌───┐┌───┐       │        ░ ┌───┐┌───┐ ║  ║ ┌─┐\n",
       "«q_4: ──────░───────░──────────────────────░─┤ X ├──■───░─┤ X ├─░────────────░─────────────────░───────░───────░─┤ H ├┤ X ├───────■────────░─┤ X ├┤ H ├─╫──╫─┤M├\n",
       "«     ┌───┐ ░       ░                      ░ └───┘┌─┴─┐ ░ └───┘ ░            ░                 ░       ░ ┌───┐ ░ └───┘└───┘                ░ └───┘└───┘ ║  ║ └╥┘\n",
       "«q_5: ┤ H ├─░───────░──────────────────────░──────┤ X ├─░───────░────────────░─────────────────░───────░─┤ H ├─░───────────────────────────░────────────╫──╫──╫─\n",
       "«     └───┘ ░       ░                      ░      └───┘ ░       ░            ░                 ░       ░ └───┘ ░                           ░            ║  ║  ║ \n",
       "«c: 3/══════════════════════════════════════════════════════════════════════════════════════════════════════════════════════════════════════════════════╩══╩══╩═\n",
       "«                                                                                                                                                       0  1  2 </pre>"
      ],
      "text/plain": [
       "     ┌───┐      ░       ░                      ░            ░       ░            ░                 ░       ░       ░ ┌───┐┌───┐┌───┐┌───┐┌───┐ ░ ┌───┐┌───┐ ░  ░ »\n",
       "q_0: ┤ H ├──────░───■───░────────■─────────────░────────────░───────░────────────░────────■────────░───■───░───────░─┤ H ├┤ X ├┤ H ├┤ X ├┤ H ├─░─┤ X ├┤ H ├─░──░─»\n",
       "     ├───┤      ░   │   ░      ┌─┴─┐┌───┐      ░            ░       ░            ░ ┌───┐┌─┴─┐      ░   │   ░       ░ ├───┤├───┤└───┘└─┬─┘└───┘ ░ ├───┤├───┤ ░  ░ »\n",
       "q_1: ┤ H ├──────░───■───░──────┤ X ├┤ X ├──■───░────────────░───────░───■────────░─┤ X ├┤ X ├──────░───■───░───────░─┤ H ├┤ X ├───────■────────░─┤ X ├┤ H ├─░──░─»\n",
       "     └───┘      ░ ┌─┴─┐ ░      └─┬─┘└───┘  │   ░            ░       ░   │        ░ └───┘└─┬─┘      ░ ┌─┴─┐ ░       ░ └───┘└───┘       │        ░ └───┘└───┘ ░  ░ »\n",
       "q_2: ───────────░─┤ X ├─░────────┼─────────■───░────────────░───────░───■────────░────────┼────────░─┤ X ├─░───────░──────────────────┼────────░────────────░──░─»\n",
       "                ░ └───┘ ░ ┌───┐  │  ┌───┐┌─┴─┐ ░            ░       ░ ┌─┴─┐┌───┐ ░        │  ┌───┐ ░ └───┘ ░       ░                  │        ░            ░  ░ »\n",
       "q_3: ───────────░───────░─┤ X ├──■──┤ X ├┤ X ├─░────────■───░───────░─┤ X ├┤ X ├─░────────■──┤ X ├─░───────░───────░──────────────────┼────────░────────────░──░─»\n",
       "     ┌───┐      ░       ░ └───┘     └───┘└───┘ ░ ┌───┐  │   ░ ┌───┐ ░ └───┘└───┘ ░           └───┘ ░       ░       ░ ┌───┐┌───┐       │        ░ ┌───┐┌───┐ ░  ░ »\n",
       "q_4: ┤ H ├──────░───────░──────────────────────░─┤ X ├──■───░─┤ X ├─░────────────░─────────────────░───────░───────░─┤ H ├┤ X ├───────■────────░─┤ X ├┤ H ├─░──░─»\n",
       "     ├───┤┌───┐ ░       ░                      ░ └───┘┌─┴─┐ ░ └───┘ ░            ░                 ░       ░ ┌───┐ ░ └───┘└───┘                ░ └───┘└───┘ ░  ░ »\n",
       "q_5: ┤ X ├┤ H ├─░───────░──────────────────────░──────┤ X ├─░───────░────────────░─────────────────░───────░─┤ H ├─░───────────────────────────░────────────░──░─»\n",
       "     └───┘└───┘ ░       ░                      ░      └───┘ ░       ░            ░                 ░       ░ └───┘ ░                           ░            ░  ░ »\n",
       "c: 3/════════════════════════════════════════════════════════════════════════════════════════════════════════════════════════════════════════════════════════════»\n",
       "                                                                                                                                                                 »\n",
       "«           ░       ░                      ░            ░       ░            ░                 ░       ░       ░ ┌───┐┌───┐┌───┐┌───┐┌───┐ ░ ┌───┐┌───┐┌─┐      \n",
       "«q_0: ──────░───■───░────────■─────────────░────────────░───────░────────────░────────■────────░───■───░───────░─┤ H ├┤ X ├┤ H ├┤ X ├┤ H ├─░─┤ X ├┤ H ├┤M├──────\n",
       "«           ░   │   ░      ┌─┴─┐┌───┐      ░            ░       ░            ░ ┌───┐┌─┴─┐      ░   │   ░       ░ ├───┤├───┤└───┘└─┬─┘└───┘ ░ ├───┤├───┤└╥┘┌─┐   \n",
       "«q_1: ──────░───■───░──────┤ X ├┤ X ├──■───░────────────░───────░───■────────░─┤ X ├┤ X ├──────░───■───░───────░─┤ H ├┤ X ├───────■────────░─┤ X ├┤ H ├─╫─┤M├───\n",
       "«           ░ ┌─┴─┐ ░      └─┬─┘└───┘  │   ░            ░       ░   │        ░ └───┘└─┬─┘      ░ ┌─┴─┐ ░       ░ └───┘└───┘       │        ░ └───┘└───┘ ║ └╥┘   \n",
       "«q_2: ──────░─┤ X ├─░────────┼─────────■───░────────────░───────░───■────────░────────┼────────░─┤ X ├─░───────░──────────────────┼────────░────────────╫──╫────\n",
       "«           ░ └───┘ ░ ┌───┐  │  ┌───┐┌─┴─┐ ░            ░       ░ ┌─┴─┐┌───┐ ░        │  ┌───┐ ░ └───┘ ░       ░                  │        ░            ║  ║    \n",
       "«q_3: ──────░───────░─┤ X ├──■──┤ X ├┤ X ├─░────────■───░───────░─┤ X ├┤ X ├─░────────■──┤ X ├─░───────░───────░──────────────────┼────────░────────────╫──╫────\n",
       "«           ░       ░ └───┘     └───┘└───┘ ░ ┌───┐  │   ░ ┌───┐ ░ └───┘└───┘ ░           └───┘ ░       ░       ░ ┌───┐┌───┐       │        ░ ┌───┐┌───┐ ║  ║ ┌─┐\n",
       "«q_4: ──────░───────░──────────────────────░─┤ X ├──■───░─┤ X ├─░────────────░─────────────────░───────░───────░─┤ H ├┤ X ├───────■────────░─┤ X ├┤ H ├─╫──╫─┤M├\n",
       "«     ┌───┐ ░       ░                      ░ └───┘┌─┴─┐ ░ └───┘ ░            ░                 ░       ░ ┌───┐ ░ └───┘└───┘                ░ └───┘└───┘ ║  ║ └╥┘\n",
       "«q_5: ┤ H ├─░───────░──────────────────────░──────┤ X ├─░───────░────────────░─────────────────░───────░─┤ H ├─░───────────────────────────░────────────╫──╫──╫─\n",
       "«     └───┘ ░       ░                      ░      └───┘ ░       ░            ░                 ░       ░ └───┘ ░                           ░            ║  ║  ║ \n",
       "«c: 3/══════════════════════════════════════════════════════════════════════════════════════════════════════════════════════════════════════════════════╩══╩══╩═\n",
       "«                                                                                                                                                       0  1  2 "
      ]
     },
     "execution_count": 184,
     "metadata": {},
     "output_type": "execute_result"
    }
   ],
   "source": [
    "qc = QuantumCircuit(6,3)\n",
    "\n",
    "#Input 0,1,4\n",
    "qc.h(0)\n",
    "qc.h(1)\n",
    "qc.h(4)\n",
    "#Preparation of Aux\n",
    "qc.x(5)\n",
    "qc.h(5)\n",
    "qc.barrier()\n",
    "\n",
    "#First And 2 is zero\n",
    "qc.ccx(0,1,2)\n",
    "qc.barrier()\n",
    "#Result in 2\n",
    "\n",
    "#If AND IF\n",
    "\n",
    "qc.x(3)\n",
    "qc.ccx(3,0,1)\n",
    "qc.x(1)\n",
    "#Result in 1\n",
    "\n",
    "#Make 3 zero\n",
    "qc.x(3)\n",
    "qc.ccx(1,2,3)\n",
    "qc.barrier()\n",
    "#Result in 3\n",
    "\n",
    "#Input 4\n",
    "qc.x(4)\n",
    "qc.ccx(3,4,5)\n",
    "\n",
    "#Un-compute\n",
    "qc.barrier()\n",
    "qc.x(4)\n",
    "qc.barrier()\n",
    "qc.ccx(1,2,3)\n",
    "qc.x(3)\n",
    "qc.barrier()\n",
    "qc.x(1)\n",
    "qc.ccx(3,0,1)\n",
    "qc.x(3)\n",
    "qc.barrier()\n",
    "qc.ccx(0,1,2)\n",
    "\n",
    "qc.barrier()\n",
    "#Preparation of Aux\n",
    "qc.h(5)\n",
    "#Diffusor\n",
    "qc.barrier()\n",
    "qc.h([0,1,4])\n",
    "qc.x([0,1,4])\n",
    "qc.h(0)\n",
    "qc.ccx(1,4,0)\n",
    "qc.h(0)\n",
    "qc.barrier()\n",
    "qc.x([0,1,4])\n",
    "qc.h([0,1,4])\n",
    "\n",
    "\n",
    "#Second Iteration\n",
    "\n",
    "#Preparation of Aux\n",
    "qc.barrier()\n",
    "qc.barrier()\n",
    "qc.h(5)\n",
    "qc.barrier()\n",
    "\n",
    "#First And 2 is zero\n",
    "qc.ccx(0,1,2)\n",
    "qc.barrier()\n",
    "#Result in 2\n",
    "\n",
    "#If AND IF\n",
    "\n",
    "qc.x(3)\n",
    "qc.ccx(3,0,1)\n",
    "qc.x(1)\n",
    "#Result in 1\n",
    "\n",
    "#Make 3 zero\n",
    "qc.x(3)\n",
    "qc.ccx(1,2,3)\n",
    "qc.barrier()\n",
    "#Result in 3\n",
    "\n",
    "#Input 4\n",
    "qc.x(4)\n",
    "qc.ccx(3,4,5)\n",
    "\n",
    "#Un-compute\n",
    "qc.barrier()\n",
    "qc.x(4)\n",
    "qc.barrier()\n",
    "qc.ccx(1,2,3)\n",
    "qc.x(3)\n",
    "qc.barrier()\n",
    "qc.x(1)\n",
    "qc.ccx(3,0,1)\n",
    "qc.x(3)\n",
    "qc.barrier()\n",
    "qc.ccx(0,1,2)\n",
    "\n",
    "qc.barrier()\n",
    "#Preparation of Aux\n",
    "qc.h(5)\n",
    "#Diffusor\n",
    "qc.barrier()\n",
    "qc.h([0,1,4])\n",
    "qc.x([0,1,4])\n",
    "qc.h(0)\n",
    "qc.ccx(1,4,0)\n",
    "qc.h(0)\n",
    "qc.barrier()\n",
    "qc.x([0,1,4])\n",
    "qc.h([0,1,4])\n",
    "\n",
    "qc.measure(0,0)\n",
    "qc.measure(1,1)\n",
    "qc.measure(4,2)\n",
    "\n",
    "qc.draw(fold=165)"
   ]
  },
  {
   "attachments": {},
   "cell_type": "markdown",
   "metadata": {},
   "source": [
    "$\\phi=(x_1 \\leftrightarrow x_2) \\wedge ( x_1 \\wedge x_2) \\wedge \\neg x_3$ and two rotations of Grover's algorithm. The input are the qubits $0$, $1$ and $4$ is mapped in superposition by  Hadamard  gates.  The rotations itself are separated by two $qc.barrier()$ commands. \n",
    "We could as well simplify the circuit by eliminating the two Hadamard  gates of  the auxiliary qubit after the first  and second rotation, however by doing so the circuit loses its modular structure  (less readable) and the redundant operations are simplified during the transpiration process.\n",
    "The qubits $0$, $1$ and $4$ are measured."
   ]
  },
  {
   "cell_type": "code",
   "execution_count": 185,
   "metadata": {},
   "outputs": [
    {
     "name": "stdout",
     "output_type": "stream",
     "text": [
      "\n",
      "Total count are: {'000': 3, '010': 5, '100': 4, '110': 6, '001': 4, '011': 965, '111': 3, '101': 10}\n"
     ]
    },
    {
     "data": {
      "image/png": "[encoded data removed]",
      "text/plain": [
       "<Figure size 504x360 with 1 Axes>"
      ]
     },
     "execution_count": 185,
     "metadata": {},
     "output_type": "execute_result"
    }
   ],
   "source": [
    "simulator = Aer.get_backend('qasm_simulator')\n",
    "result=execute(qc,simulator,shots=1000).result()\n",
    "counts = result.get_counts()\n",
    "print(\"\\nTotal count are:\",counts)\n",
    "\n",
    "plot_histogram(counts)"
   ]
  },
  {
   "attachments": {},
   "cell_type": "markdown",
   "metadata": {},
   "source": [
    "The  qubits $0$, $1$ and $4$ indicate the eight possible instantiations for $x_1$, $x_2$ and $x_3$ for the $\\phi=(x_1 \\leftrightarrow x_2) \\wedge ( x_1 \\wedge x_2) \\wedge \\neg x_3$ SAT problem. The  solution after two rotations for the SAT problem has the highest count with the measured state $|011 \\rangle$."
   ]
  },
  {
   "attachments": {},
   "cell_type": "markdown",
   "metadata": {},
   "source": [
    "## No Solution\n",
    "\n",
    "For the Boolean formula \n",
    "\\begin{equation}\n",
    "\\phi=(x_1 \\leftrightarrow x_2) \\wedge ( \\neg x_1 \\wedge x_2) \\wedge \\neg x_3\n",
    "\\end{equation}\n",
    "no solution exists, the formula can never evaluate to the value true."
   ]
  },
  {
   "cell_type": "code",
   "execution_count": 186,
   "metadata": {},
   "outputs": [
    {
     "data": {
      "text/html": [
       "<pre style=\"word-wrap: normal;white-space: pre;background: #fff0;line-height: 1.1;font-family: &quot;Courier New&quot;,Courier,monospace\">     ┌───┐      ░ ┌───┐     ┌───┐ ░                      ░            ░       ░            ░      »\n",
       "q_0: ┤ H ├──────░─┤ X ├──■──┤ X ├─░────────■─────────────░────────────░───────░────────────░──────»\n",
       "     ├───┤      ░ └───┘  │  └───┘ ░      ┌─┴─┐┌───┐      ░            ░       ░            ░ ┌───┐»\n",
       "q_1: ┤ H ├──────░────────■────────░──────┤ X ├┤ X ├──■───░────────────░───────░───■────────░─┤ X ├»\n",
       "     └───┘      ░      ┌─┴─┐      ░      └─┬─┘└───┘  │   ░            ░       ░   │        ░ └───┘»\n",
       "q_2: ───────────░──────┤ X ├──────░────────┼─────────■───░────────────░───────░───■────────░──────»\n",
       "                ░      └───┘      ░ ┌───┐  │  ┌───┐┌─┴─┐ ░            ░       ░ ┌─┴─┐┌───┐ ░      »\n",
       "q_3: ───────────░─────────────────░─┤ X ├──■──┤ X ├┤ X ├─░────────■───░───────░─┤ X ├┤ X ├─░──────»\n",
       "     ┌───┐      ░                 ░ └───┘     └───┘└───┘ ░ ┌───┐  │   ░ ┌───┐ ░ └───┘└───┘ ░      »\n",
       "q_4: ┤ H ├──────░─────────────────░──────────────────────░─┤ X ├──■───░─┤ X ├─░────────────░──────»\n",
       "     ├───┤┌───┐ ░                 ░                      ░ └───┘┌─┴─┐ ░ └───┘ ░            ░      »\n",
       "q_5: ┤ X ├┤ H ├─░─────────────────░──────────────────────░──────┤ X ├─░───────░────────────░──────»\n",
       "     └───┘└───┘ ░                 ░                      ░      └───┘ ░       ░            ░      »\n",
       "c: 3/═════════════════════════════════════════════════════════════════════════════════════════════»\n",
       "                                                                                                  »\n",
       "«                ░ ┌───┐     ┌───┐ ░       ░ ┌───┐┌───┐┌───┐┌───┐┌───┐ ░ ┌───┐┌───┐┌─┐      \n",
       "«q_0: ──■────────░─┤ X ├──■──┤ X ├─░───────░─┤ H ├┤ X ├┤ H ├┤ X ├┤ H ├─░─┤ X ├┤ H ├┤M├──────\n",
       "«     ┌─┴─┐      ░ └───┘  │  └───┘ ░       ░ ├───┤├───┤└───┘└─┬─┘└───┘ ░ ├───┤├───┤└╥┘┌─┐   \n",
       "«q_1: ┤ X ├──────░────────■────────░───────░─┤ H ├┤ X ├───────■────────░─┤ X ├┤ H ├─╫─┤M├───\n",
       "«     └─┬─┘      ░      ┌─┴─┐      ░       ░ └───┘└───┘       │        ░ └───┘└───┘ ║ └╥┘   \n",
       "«q_2: ──┼────────░──────┤ X ├──────░───────░──────────────────┼────────░────────────╫──╫────\n",
       "«       │  ┌───┐ ░      └───┘      ░       ░                  │        ░            ║  ║    \n",
       "«q_3: ──■──┤ X ├─░─────────────────░───────░──────────────────┼────────░────────────╫──╫────\n",
       "«          └───┘ ░                 ░       ░ ┌───┐┌───┐       │        ░ ┌───┐┌───┐ ║  ║ ┌─┐\n",
       "«q_4: ───────────░─────────────────░───────░─┤ H ├┤ X ├───────■────────░─┤ X ├┤ H ├─╫──╫─┤M├\n",
       "«                ░                 ░ ┌───┐ ░ └───┘└───┘                ░ └───┘└───┘ ║  ║ └╥┘\n",
       "«q_5: ───────────░─────────────────░─┤ H ├─░───────────────────────────░────────────╫──╫──╫─\n",
       "«                ░                 ░ └───┘ ░                           ░            ║  ║  ║ \n",
       "«c: 3/══════════════════════════════════════════════════════════════════════════════╩══╩══╩═\n",
       "«                                                                                   0  1  2 </pre>"
      ],
      "text/plain": [
       "     ┌───┐      ░ ┌───┐     ┌───┐ ░                      ░            ░       ░            ░      »\n",
       "q_0: ┤ H ├──────░─┤ X ├──■──┤ X ├─░────────■─────────────░────────────░───────░────────────░──────»\n",
       "     ├───┤      ░ └───┘  │  └───┘ ░      ┌─┴─┐┌───┐      ░            ░       ░            ░ ┌───┐»\n",
       "q_1: ┤ H ├──────░────────■────────░──────┤ X ├┤ X ├──■───░────────────░───────░───■────────░─┤ X ├»\n",
       "     └───┘      ░      ┌─┴─┐      ░      └─┬─┘└───┘  │   ░            ░       ░   │        ░ └───┘»\n",
       "q_2: ───────────░──────┤ X ├──────░────────┼─────────■───░────────────░───────░───■────────░──────»\n",
       "                ░      └───┘      ░ ┌───┐  │  ┌───┐┌─┴─┐ ░            ░       ░ ┌─┴─┐┌───┐ ░      »\n",
       "q_3: ───────────░─────────────────░─┤ X ├──■──┤ X ├┤ X ├─░────────■───░───────░─┤ X ├┤ X ├─░──────»\n",
       "     ┌───┐      ░                 ░ └───┘     └───┘└───┘ ░ ┌───┐  │   ░ ┌───┐ ░ └───┘└───┘ ░      »\n",
       "q_4: ┤ H ├──────░─────────────────░──────────────────────░─┤ X ├──■───░─┤ X ├─░────────────░──────»\n",
       "     ├───┤┌───┐ ░                 ░                      ░ └───┘┌─┴─┐ ░ └───┘ ░            ░      »\n",
       "q_5: ┤ X ├┤ H ├─░─────────────────░──────────────────────░──────┤ X ├─░───────░────────────░──────»\n",
       "     └───┘└───┘ ░                 ░                      ░      └───┘ ░       ░            ░      »\n",
       "c: 3/═════════════════════════════════════════════════════════════════════════════════════════════»\n",
       "                                                                                                  »\n",
       "«                ░ ┌───┐     ┌───┐ ░       ░ ┌───┐┌───┐┌───┐┌───┐┌───┐ ░ ┌───┐┌───┐┌─┐      \n",
       "«q_0: ──■────────░─┤ X ├──■──┤ X ├─░───────░─┤ H ├┤ X ├┤ H ├┤ X ├┤ H ├─░─┤ X ├┤ H ├┤M├──────\n",
       "«     ┌─┴─┐      ░ └───┘  │  └───┘ ░       ░ ├───┤├───┤└───┘└─┬─┘└───┘ ░ ├───┤├───┤└╥┘┌─┐   \n",
       "«q_1: ┤ X ├──────░────────■────────░───────░─┤ H ├┤ X ├───────■────────░─┤ X ├┤ H ├─╫─┤M├───\n",
       "«     └─┬─┘      ░      ┌─┴─┐      ░       ░ └───┘└───┘       │        ░ └───┘└───┘ ║ └╥┘   \n",
       "«q_2: ──┼────────░──────┤ X ├──────░───────░──────────────────┼────────░────────────╫──╫────\n",
       "«       │  ┌───┐ ░      └───┘      ░       ░                  │        ░            ║  ║    \n",
       "«q_3: ──■──┤ X ├─░─────────────────░───────░──────────────────┼────────░────────────╫──╫────\n",
       "«          └───┘ ░                 ░       ░ ┌───┐┌───┐       │        ░ ┌───┐┌───┐ ║  ║ ┌─┐\n",
       "«q_4: ───────────░─────────────────░───────░─┤ H ├┤ X ├───────■────────░─┤ X ├┤ H ├─╫──╫─┤M├\n",
       "«                ░                 ░ ┌───┐ ░ └───┘└───┘                ░ └───┘└───┘ ║  ║ └╥┘\n",
       "«q_5: ───────────░─────────────────░─┤ H ├─░───────────────────────────░────────────╫──╫──╫─\n",
       "«                ░                 ░ └───┘ ░                           ░            ║  ║  ║ \n",
       "«c: 3/══════════════════════════════════════════════════════════════════════════════╩══╩══╩═\n",
       "«                                                                                   0  1  2 "
      ]
     },
     "execution_count": 186,
     "metadata": {},
     "output_type": "execute_result"
    }
   ],
   "source": [
    "qc = QuantumCircuit(6,3)\n",
    "\n",
    "#Input 0,1,4\n",
    "qc.h(0)\n",
    "qc.h(1)\n",
    "qc.h(4)\n",
    "#Preparation of Aux\n",
    "qc.x(5)\n",
    "qc.h(5)\n",
    "qc.barrier()\n",
    "\n",
    "#First And 2 is zero\n",
    "qc.x(0)\n",
    "qc.ccx(0,1,2)\n",
    "qc.x(0)\n",
    "qc.barrier()\n",
    "#Result in 2\n",
    "\n",
    "#If AND IF\n",
    "\n",
    "qc.x(3)\n",
    "qc.ccx(3,0,1)\n",
    "qc.x(1)\n",
    "#Result in 1\n",
    "\n",
    "#Make 3 zero\n",
    "qc.x(3)\n",
    "qc.ccx(1,2,3)\n",
    "qc.barrier()\n",
    "#Result in 3\n",
    "\n",
    "#Input 4\n",
    "qc.x(4)\n",
    "qc.ccx(3,4,5)\n",
    "\n",
    "#Un-compute\n",
    "qc.barrier()\n",
    "qc.x(4)\n",
    "qc.barrier()\n",
    "qc.ccx(1,2,3)\n",
    "qc.x(3)\n",
    "qc.barrier()\n",
    "qc.x(1)\n",
    "qc.ccx(3,0,1)\n",
    "qc.x(3)\n",
    "qc.barrier()\n",
    "qc.x(0)\n",
    "qc.ccx(0,1,2)\n",
    "qc.x(0)\n",
    "\n",
    "qc.barrier()\n",
    "#Preparation of Aux\n",
    "qc.h(5)\n",
    "#Diffusor\n",
    "qc.barrier()\n",
    "qc.h([0,1,4])\n",
    "qc.x([0,1,4])\n",
    "qc.h(0)\n",
    "qc.ccx(1,4,0)\n",
    "qc.h(0)\n",
    "qc.barrier()\n",
    "qc.x([0,1,4])\n",
    "qc.h([0,1,4])\n",
    "\n",
    "qc.measure(0,0)\n",
    "qc.measure(1,1)\n",
    "qc.measure(4,2)\n",
    "\n",
    "qc.draw(fold=100)"
   ]
  },
  {
   "cell_type": "code",
   "execution_count": 187,
   "metadata": {},
   "outputs": [
    {
     "name": "stdout",
     "output_type": "stream",
     "text": [
      "\n",
      "Total count are: {'001': 123, '100': 142, '110': 115, '111': 120, '011': 136, '010': 116, '000': 110, '101': 138}\n"
     ]
    },
    {
     "data": {
      "image/png": "[encoded data removed]",
      "text/plain": [
       "<Figure size 504x360 with 1 Axes>"
      ]
     },
     "execution_count": 187,
     "metadata": {},
     "output_type": "execute_result"
    }
   ],
   "source": [
    "simulator = Aer.get_backend('qasm_simulator')\n",
    "result=execute(qc,simulator,shots=1000).result()\n",
    "counts = result.get_counts()\n",
    "print(\"\\nTotal count are:\",counts)\n",
    "\n",
    "plot_histogram(counts)"
   ]
  },
  {
   "attachments": {},
   "cell_type": "markdown",
   "metadata": {},
   "source": [
    "For the Boolean formula $\\phi=(x_1 \\leftrightarrow x_2) \\wedge ( \\neg x_1 \\wedge x_2) \\wedge \\neg x_3$ no solution exists. The  qubits $0$, $1$ and $4$ indicate the eight possible instantiations for $x_1$, $x_2$ and $x_3$. (a) The distribution of the eight possible instantiations for $x_1$, $x_2$ and $x_3$ after one rotation"
   ]
  },
  {
   "cell_type": "code",
   "execution_count": 188,
   "metadata": {},
   "outputs": [
    {
     "data": {
      "text/html": [
       "<pre style=\"word-wrap: normal;white-space: pre;background: #fff0;line-height: 1.1;font-family: &quot;Courier New&quot;,Courier,monospace\">     ┌───┐      ░ ┌───┐      ░ ┌───┐                ░            ░       ░            ░           »\n",
       "q_0: ┤ H ├──────░─┤ X ├──■───░─┤ X ├──■─────────────░────────────░───────░────────────░────────■──»\n",
       "     ├───┤      ░ └───┘  │   ░ └───┘┌─┴─┐┌───┐      ░            ░       ░            ░ ┌───┐┌─┴─┐»\n",
       "q_1: ┤ H ├──────░────────■───░──────┤ X ├┤ X ├──■───░────────────░───────░───■────────░─┤ X ├┤ X ├»\n",
       "     └───┘      ░      ┌─┴─┐ ░      └─┬─┘└───┘  │   ░            ░       ░   │        ░ └───┘└─┬─┘»\n",
       "q_2: ───────────░──────┤ X ├─░────────┼─────────■───░────────────░───────░───■────────░────────┼──»\n",
       "                ░      └───┘ ░ ┌───┐  │  ┌───┐┌─┴─┐ ░            ░       ░ ┌─┴─┐┌───┐ ░        │  »\n",
       "q_3: ───────────░────────────░─┤ X ├──■──┤ X ├┤ X ├─░────────■───░───────░─┤ X ├┤ X ├─░────────■──»\n",
       "     ┌───┐      ░            ░ └───┘     └───┘└───┘ ░ ┌───┐  │   ░ ┌───┐ ░ └───┘└───┘ ░           »\n",
       "q_4: ┤ H ├──────░────────────░──────────────────────░─┤ X ├──■───░─┤ X ├─░────────────░───────────»\n",
       "     ├───┤┌───┐ ░            ░                      ░ └───┘┌─┴─┐ ░ └───┘ ░            ░           »\n",
       "q_5: ┤ X ├┤ H ├─░────────────░──────────────────────░──────┤ X ├─░───────░────────────░───────────»\n",
       "     └───┘└───┘ ░            ░                      ░      └───┘ ░       ░            ░           »\n",
       "c: 3/═════════════════════════════════════════════════════════════════════════════════════════════»\n",
       "                                                                                                  »\n",
       "«           ░ ┌───┐     ┌───┐ ░       ░ ┌───┐┌───┐┌───┐┌───┐┌───┐ ░ ┌───┐┌───┐ ░       ░ ┌───┐     »\n",
       "«q_0: ──────░─┤ X ├──■──┤ X ├─░───────░─┤ H ├┤ X ├┤ H ├┤ X ├┤ H ├─░─┤ X ├┤ H ├─░───────░─┤ X ├──■──»\n",
       "«           ░ └───┘  │  └───┘ ░       ░ ├───┤├───┤└───┘└─┬─┘└───┘ ░ ├───┤├───┤ ░       ░ └───┘  │  »\n",
       "«q_1: ──────░────────■────────░───────░─┤ H ├┤ X ├───────■────────░─┤ X ├┤ H ├─░───────░────────■──»\n",
       "«           ░      ┌─┴─┐      ░       ░ └───┘└───┘       │        ░ └───┘└───┘ ░       ░      ┌─┴─┐»\n",
       "«q_2: ──────░──────┤ X ├──────░───────░──────────────────┼────────░────────────░───────░──────┤ X ├»\n",
       "«     ┌───┐ ░      └───┘      ░       ░                  │        ░            ░       ░      └───┘»\n",
       "«q_3: ┤ X ├─░─────────────────░───────░──────────────────┼────────░────────────░───────░───────────»\n",
       "«     └───┘ ░                 ░       ░ ┌───┐┌───┐       │        ░ ┌───┐┌───┐ ░       ░           »\n",
       "«q_4: ──────░─────────────────░───────░─┤ H ├┤ X ├───────■────────░─┤ X ├┤ H ├─░───────░───────────»\n",
       "«           ░                 ░ ┌───┐ ░ └───┘└───┘                ░ └───┘└───┘ ░ ┌───┐ ░           »\n",
       "«q_5: ──────░─────────────────░─┤ H ├─░───────────────────────────░────────────░─┤ H ├─░───────────»\n",
       "«           ░                 ░ └───┘ ░                           ░            ░ └───┘ ░           »\n",
       "«c: 3/═════════════════════════════════════════════════════════════════════════════════════════════»\n",
       "«                                                                                                  »\n",
       "«     ┌───┐ ░                      ░            ░       ░            ░                 ░ ┌───┐     »\n",
       "«q_0: ┤ X ├─░────────■─────────────░────────────░───────░────────────░────────■────────░─┤ X ├──■──»\n",
       "«     └───┘ ░      ┌─┴─┐┌───┐      ░            ░       ░            ░ ┌───┐┌─┴─┐      ░ └───┘  │  »\n",
       "«q_1: ──────░──────┤ X ├┤ X ├──■───░────────────░───────░───■────────░─┤ X ├┤ X ├──────░────────■──»\n",
       "«           ░      └─┬─┘└───┘  │   ░            ░       ░   │        ░ └───┘└─┬─┘      ░      ┌─┴─┐»\n",
       "«q_2: ──────░────────┼─────────■───░────────────░───────░───■────────░────────┼────────░──────┤ X ├»\n",
       "«           ░ ┌───┐  │  ┌───┐┌─┴─┐ ░            ░       ░ ┌─┴─┐┌───┐ ░        │  ┌───┐ ░      └───┘»\n",
       "«q_3: ──────░─┤ X ├──■──┤ X ├┤ X ├─░────────■───░───────░─┤ X ├┤ X ├─░────────■──┤ X ├─░───────────»\n",
       "«           ░ └───┘     └───┘└───┘ ░ ┌───┐  │   ░ ┌───┐ ░ └───┘└───┘ ░           └───┘ ░           »\n",
       "«q_4: ──────░──────────────────────░─┤ X ├──■───░─┤ X ├─░────────────░─────────────────░───────────»\n",
       "«           ░                      ░ └───┘┌─┴─┐ ░ └───┘ ░            ░                 ░           »\n",
       "«q_5: ──────░──────────────────────░──────┤ X ├─░───────░────────────░─────────────────░───────────»\n",
       "«           ░                      ░      └───┘ ░       ░            ░                 ░           »\n",
       "«c: 3/═════════════════════════════════════════════════════════════════════════════════════════════»\n",
       "«                                                                                                  »\n",
       "«     ┌───┐ ░       ░ ┌───┐┌───┐┌───┐┌───┐┌───┐ ░ ┌───┐┌───┐┌─┐      \n",
       "«q_0: ┤ X ├─░───────░─┤ H ├┤ X ├┤ H ├┤ X ├┤ H ├─░─┤ X ├┤ H ├┤M├──────\n",
       "«     └───┘ ░       ░ ├───┤├───┤└───┘└─┬─┘└───┘ ░ ├───┤├───┤└╥┘┌─┐   \n",
       "«q_1: ──────░───────░─┤ H ├┤ X ├───────■────────░─┤ X ├┤ H ├─╫─┤M├───\n",
       "«           ░       ░ └───┘└───┘       │        ░ └───┘└───┘ ║ └╥┘   \n",
       "«q_2: ──────░───────░──────────────────┼────────░────────────╫──╫────\n",
       "«           ░       ░                  │        ░            ║  ║    \n",
       "«q_3: ──────░───────░──────────────────┼────────░────────────╫──╫────\n",
       "«           ░       ░ ┌───┐┌───┐       │        ░ ┌───┐┌───┐ ║  ║ ┌─┐\n",
       "«q_4: ──────░───────░─┤ H ├┤ X ├───────■────────░─┤ X ├┤ H ├─╫──╫─┤M├\n",
       "«           ░ ┌───┐ ░ └───┘└───┘                ░ └───┘└───┘ ║  ║ └╥┘\n",
       "«q_5: ──────░─┤ H ├─░───────────────────────────░────────────╫──╫──╫─\n",
       "«           ░ └───┘ ░                           ░            ║  ║  ║ \n",
       "«c: 3/═══════════════════════════════════════════════════════╩══╩══╩═\n",
       "«                                                            0  1  2 </pre>"
      ],
      "text/plain": [
       "     ┌───┐      ░ ┌───┐      ░ ┌───┐                ░            ░       ░            ░           »\n",
       "q_0: ┤ H ├──────░─┤ X ├──■───░─┤ X ├──■─────────────░────────────░───────░────────────░────────■──»\n",
       "     ├───┤      ░ └───┘  │   ░ └───┘┌─┴─┐┌───┐      ░            ░       ░            ░ ┌───┐┌─┴─┐»\n",
       "q_1: ┤ H ├──────░────────■───░──────┤ X ├┤ X ├──■───░────────────░───────░───■────────░─┤ X ├┤ X ├»\n",
       "     └───┘      ░      ┌─┴─┐ ░      └─┬─┘└───┘  │   ░            ░       ░   │        ░ └───┘└─┬─┘»\n",
       "q_2: ───────────░──────┤ X ├─░────────┼─────────■───░────────────░───────░───■────────░────────┼──»\n",
       "                ░      └───┘ ░ ┌───┐  │  ┌───┐┌─┴─┐ ░            ░       ░ ┌─┴─┐┌───┐ ░        │  »\n",
       "q_3: ───────────░────────────░─┤ X ├──■──┤ X ├┤ X ├─░────────■───░───────░─┤ X ├┤ X ├─░────────■──»\n",
       "     ┌───┐      ░            ░ └───┘     └───┘└───┘ ░ ┌───┐  │   ░ ┌───┐ ░ └───┘└───┘ ░           »\n",
       "q_4: ┤ H ├──────░────────────░──────────────────────░─┤ X ├──■───░─┤ X ├─░────────────░───────────»\n",
       "     ├───┤┌───┐ ░            ░                      ░ └───┘┌─┴─┐ ░ └───┘ ░            ░           »\n",
       "q_5: ┤ X ├┤ H ├─░────────────░──────────────────────░──────┤ X ├─░───────░────────────░───────────»\n",
       "     └───┘└───┘ ░            ░                      ░      └───┘ ░       ░            ░           »\n",
       "c: 3/═════════════════════════════════════════════════════════════════════════════════════════════»\n",
       "                                                                                                  »\n",
       "«           ░ ┌───┐     ┌───┐ ░       ░ ┌───┐┌───┐┌───┐┌───┐┌───┐ ░ ┌───┐┌───┐ ░       ░ ┌───┐     »\n",
       "«q_0: ──────░─┤ X ├──■──┤ X ├─░───────░─┤ H ├┤ X ├┤ H ├┤ X ├┤ H ├─░─┤ X ├┤ H ├─░───────░─┤ X ├──■──»\n",
       "«           ░ └───┘  │  └───┘ ░       ░ ├───┤├───┤└───┘└─┬─┘└───┘ ░ ├───┤├───┤ ░       ░ └───┘  │  »\n",
       "«q_1: ──────░────────■────────░───────░─┤ H ├┤ X ├───────■────────░─┤ X ├┤ H ├─░───────░────────■──»\n",
       "«           ░      ┌─┴─┐      ░       ░ └───┘└───┘       │        ░ └───┘└───┘ ░       ░      ┌─┴─┐»\n",
       "«q_2: ──────░──────┤ X ├──────░───────░──────────────────┼────────░────────────░───────░──────┤ X ├»\n",
       "«     ┌───┐ ░      └───┘      ░       ░                  │        ░            ░       ░      └───┘»\n",
       "«q_3: ┤ X ├─░─────────────────░───────░──────────────────┼────────░────────────░───────░───────────»\n",
       "«     └───┘ ░                 ░       ░ ┌───┐┌───┐       │        ░ ┌───┐┌───┐ ░       ░           »\n",
       "«q_4: ──────░─────────────────░───────░─┤ H ├┤ X ├───────■────────░─┤ X ├┤ H ├─░───────░───────────»\n",
       "«           ░                 ░ ┌───┐ ░ └───┘└───┘                ░ └───┘└───┘ ░ ┌───┐ ░           »\n",
       "«q_5: ──────░─────────────────░─┤ H ├─░───────────────────────────░────────────░─┤ H ├─░───────────»\n",
       "«           ░                 ░ └───┘ ░                           ░            ░ └───┘ ░           »\n",
       "«c: 3/═════════════════════════════════════════════════════════════════════════════════════════════»\n",
       "«                                                                                                  »\n",
       "«     ┌───┐ ░                      ░            ░       ░            ░                 ░ ┌───┐     »\n",
       "«q_0: ┤ X ├─░────────■─────────────░────────────░───────░────────────░────────■────────░─┤ X ├──■──»\n",
       "«     └───┘ ░      ┌─┴─┐┌───┐      ░            ░       ░            ░ ┌───┐┌─┴─┐      ░ └───┘  │  »\n",
       "«q_1: ──────░──────┤ X ├┤ X ├──■───░────────────░───────░───■────────░─┤ X ├┤ X ├──────░────────■──»\n",
       "«           ░      └─┬─┘└───┘  │   ░            ░       ░   │        ░ └───┘└─┬─┘      ░      ┌─┴─┐»\n",
       "«q_2: ──────░────────┼─────────■───░────────────░───────░───■────────░────────┼────────░──────┤ X ├»\n",
       "«           ░ ┌───┐  │  ┌───┐┌─┴─┐ ░            ░       ░ ┌─┴─┐┌───┐ ░        │  ┌───┐ ░      └───┘»\n",
       "«q_3: ──────░─┤ X ├──■──┤ X ├┤ X ├─░────────■───░───────░─┤ X ├┤ X ├─░────────■──┤ X ├─░───────────»\n",
       "«           ░ └───┘     └───┘└───┘ ░ ┌───┐  │   ░ ┌───┐ ░ └───┘└───┘ ░           └───┘ ░           »\n",
       "«q_4: ──────░──────────────────────░─┤ X ├──■───░─┤ X ├─░────────────░─────────────────░───────────»\n",
       "«           ░                      ░ └───┘┌─┴─┐ ░ └───┘ ░            ░                 ░           »\n",
       "«q_5: ──────░──────────────────────░──────┤ X ├─░───────░────────────░─────────────────░───────────»\n",
       "«           ░                      ░      └───┘ ░       ░            ░                 ░           »\n",
       "«c: 3/═════════════════════════════════════════════════════════════════════════════════════════════»\n",
       "«                                                                                                  »\n",
       "«     ┌───┐ ░       ░ ┌───┐┌───┐┌───┐┌───┐┌───┐ ░ ┌───┐┌───┐┌─┐      \n",
       "«q_0: ┤ X ├─░───────░─┤ H ├┤ X ├┤ H ├┤ X ├┤ H ├─░─┤ X ├┤ H ├┤M├──────\n",
       "«     └───┘ ░       ░ ├───┤├───┤└───┘└─┬─┘└───┘ ░ ├───┤├───┤└╥┘┌─┐   \n",
       "«q_1: ──────░───────░─┤ H ├┤ X ├───────■────────░─┤ X ├┤ H ├─╫─┤M├───\n",
       "«           ░       ░ └───┘└───┘       │        ░ └───┘└───┘ ║ └╥┘   \n",
       "«q_2: ──────░───────░──────────────────┼────────░────────────╫──╫────\n",
       "«           ░       ░                  │        ░            ║  ║    \n",
       "«q_3: ──────░───────░──────────────────┼────────░────────────╫──╫────\n",
       "«           ░       ░ ┌───┐┌───┐       │        ░ ┌───┐┌───┐ ║  ║ ┌─┐\n",
       "«q_4: ──────░───────░─┤ H ├┤ X ├───────■────────░─┤ X ├┤ H ├─╫──╫─┤M├\n",
       "«           ░ ┌───┐ ░ └───┘└───┘                ░ └───┘└───┘ ║  ║ └╥┘\n",
       "«q_5: ──────░─┤ H ├─░───────────────────────────░────────────╫──╫──╫─\n",
       "«           ░ └───┘ ░                           ░            ║  ║  ║ \n",
       "«c: 3/═══════════════════════════════════════════════════════╩══╩══╩═\n",
       "«                                                            0  1  2 "
      ]
     },
     "execution_count": 188,
     "metadata": {},
     "output_type": "execute_result"
    }
   ],
   "source": [
    "qc = QuantumCircuit(6,3)\n",
    "\n",
    "#Input 0,1,4\n",
    "qc.h(0)\n",
    "qc.h(1)\n",
    "qc.h(4)\n",
    "#Preparation of Aux\n",
    "qc.x(5)\n",
    "qc.h(5)\n",
    "qc.barrier()\n",
    "\n",
    "#First And 2 is zero\n",
    "qc.x(0)\n",
    "qc.ccx(0,1,2)\n",
    "qc.barrier()\n",
    "qc.x(0)\n",
    "#Result in 2\n",
    "\n",
    "#If AND IF\n",
    "\n",
    "qc.x(3)\n",
    "qc.ccx(3,0,1)\n",
    "qc.x(1)\n",
    "#Result in 1\n",
    "\n",
    "#Make 3 zero\n",
    "qc.x(3)\n",
    "qc.ccx(1,2,3)\n",
    "qc.barrier()\n",
    "#Result in 3\n",
    "\n",
    "#Input 4\n",
    "qc.x(4)\n",
    "qc.ccx(3,4,5)\n",
    "\n",
    "#Un-compute\n",
    "qc.barrier()\n",
    "qc.x(4)\n",
    "qc.barrier()\n",
    "qc.ccx(1,2,3)\n",
    "qc.x(3)\n",
    "qc.barrier()\n",
    "qc.x(1)\n",
    "qc.ccx(3,0,1)\n",
    "qc.x(3)\n",
    "qc.barrier()\n",
    "qc.x(0)\n",
    "qc.ccx(0,1,2)\n",
    "qc.x(0)\n",
    "\n",
    "qc.barrier()\n",
    "#Preparation of Aux\n",
    "qc.h(5)\n",
    "#Diffusor\n",
    "qc.barrier()\n",
    "qc.h([0,1,4])\n",
    "qc.x([0,1,4])\n",
    "qc.h(0)\n",
    "qc.ccx(1,4,0)\n",
    "qc.h(0)\n",
    "qc.barrier()\n",
    "qc.x([0,1,4])\n",
    "qc.h([0,1,4])\n",
    "\n",
    "\n",
    "#Second Iteration\n",
    "\n",
    "#Preparation of Aux\n",
    "qc.barrier()\n",
    "qc.h(5)\n",
    "qc.barrier()\n",
    "\n",
    "#First And 2 is zero\n",
    "qc.x(0)\n",
    "qc.ccx(0,1,2)\n",
    "qc.x(0)\n",
    "qc.barrier()\n",
    "#Result in 2\n",
    "\n",
    "#If AND IF\n",
    "\n",
    "qc.x(3)\n",
    "qc.ccx(3,0,1)\n",
    "qc.x(1)\n",
    "#Result in 1\n",
    "\n",
    "#Make 3 zero\n",
    "qc.x(3)\n",
    "qc.ccx(1,2,3)\n",
    "qc.barrier()\n",
    "#Result in 3\n",
    "\n",
    "#Input 4\n",
    "qc.x(4)\n",
    "qc.ccx(3,4,5)\n",
    "\n",
    "#Un-compute\n",
    "qc.barrier()\n",
    "qc.x(4)\n",
    "qc.barrier()\n",
    "qc.ccx(1,2,3)\n",
    "qc.x(3)\n",
    "qc.barrier()\n",
    "qc.x(1)\n",
    "qc.ccx(3,0,1)\n",
    "qc.x(3)\n",
    "qc.barrier()\n",
    "qc.x(0)\n",
    "qc.ccx(0,1,2)\n",
    "qc.x(0)\n",
    "\n",
    "qc.barrier()\n",
    "#Preparation of Aux\n",
    "qc.h(5)\n",
    "#Diffusor\n",
    "qc.barrier()\n",
    "qc.h([0,1,4])\n",
    "qc.x([0,1,4])\n",
    "qc.h(0)\n",
    "qc.ccx(1,4,0)\n",
    "qc.h(0)\n",
    "qc.barrier()\n",
    "qc.x([0,1,4])\n",
    "qc.h([0,1,4])\n",
    "\n",
    "qc.measure(0,0)\n",
    "qc.measure(1,1)\n",
    "qc.measure(4,2)\n",
    "\n",
    "\n",
    "qc.draw(fold=100)"
   ]
  },
  {
   "cell_type": "code",
   "execution_count": 189,
   "metadata": {},
   "outputs": [
    {
     "name": "stdout",
     "output_type": "stream",
     "text": [
      "\n",
      "Total count are: {'101': 127, '010': 126, '000': 117, '111': 129, '011': 126, '100': 124, '001': 128, '110': 123}\n"
     ]
    },
    {
     "data": {
      "image/png": "[encoded data removed]",
      "text/plain": [
       "<Figure size 504x360 with 1 Axes>"
      ]
     },
     "execution_count": 189,
     "metadata": {},
     "output_type": "execute_result"
    }
   ],
   "source": [
    "simulator = Aer.get_backend('qasm_simulator')\n",
    "result=execute(qc,simulator,shots=1000).result()\n",
    "counts = result.get_counts()\n",
    "print(\"\\nTotal count are:\",counts)\n",
    "\n",
    "plot_histogram(counts)"
   ]
  },
  {
   "attachments": {},
   "cell_type": "markdown",
   "metadata": {},
   "source": [
    "The distribution  after two rotations. Each  instantiation has nearly the same count, no solution exists."
   ]
  }
 ],
 "metadata": {
  "kernelspec": {
   "display_name": "base",
   "language": "python",
   "name": "python3"
  },
  "language_info": {
   "codemirror_mode": {
    "name": "ipython",
    "version": 3
   },
   "file_extension": ".py",
   "mimetype": "text/x-python",
   "name": "python",
   "nbconvert_exporter": "python",
   "pygments_lexer": "ipython3",
   "version": "3.9.12"
  },
  "orig_nbformat": 4
 },
 "nbformat": 4,
 "nbformat_minor": 2
}
