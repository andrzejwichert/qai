{
 "cells": [
  {
   "cell_type": "markdown",
   "metadata": {},
   "source": [
    "# Chapter 16:  Amplitude Encoding\n",
    "\n",
    "Amplitude encoding encodes data into the amplitudes $\\omega_i$ of a quantum state. \n",
    "\\begin{equation}\n",
    "|\\psi \\rangle = \\sum_{i=1} ^N \\omega_i \\cdot   |x \\rangle\n",
    "\\end{equation}\n",
    "A complex normalized vector $\\textbf{x}$ (length one), for example \n",
    "\n",
    "\\begin{equation}\n",
    "\\textbf{x}=\n",
    "\\left( \\begin{array}{c}\n",
    "\\sqrt{0.03} \\\\\n",
    "\\sqrt{0.07}\\\\\n",
    "\\sqrt{0.15}\\\\\n",
    "\\sqrt{0.05}\\\\\n",
    "\\sqrt{0.1}\\\\\n",
    "\\sqrt{0.3}\\\\\n",
    "\\sqrt{0.2}\\\\\n",
    "\\sqrt{0.1}\\\\\n",
    "\\end{array}\n",
    "\\right).\n",
    "\\end{equation}\n",
    "\n",
    "with $qiskit$ little endian ordering $ |q_2q_1q_0 \\rangle$\n",
    "\n",
    "\\begin{equation}\n",
    "|\\psi \\rangle =\\sqrt{0.03} \\cdot  |000 \\rangle + \\sqrt{0.07}  \\cdot |001 \\rangle +  \\sqrt{0.15} \\cdot |010 \\rangle + \\sqrt{0.05}  \\cdot |011 \\rangle+\n",
    "\\end{equation}\n",
    "\n",
    "\\begin{equation}\n",
    "+ \\sqrt{0.1} \\cdot |100 \\rangle +  \\sqrt{0.3} \\cdot  |101 \\rangle +    \\sqrt{0.2} \\cdot |110 \\rangle +  \\sqrt{0.1} \\cdot  |111 \\rangle\n",
    "\\end{equation}\n"
   ]
  },
  {
   "cell_type": "markdown",
   "metadata": {},
   "source": [
    "## Top down divide Strategy\n",
    "\n",
    "We build a top down binary tree that divides\n",
    "the probability of observing $ |q_2 \\rangle$ on the first level, to the probability of observing $ |q_2q_1 \\rangle$ on the second level and finally the probability of observing $ |q_2q_1q_0 \\rangle$ on the third level representing the required superposition $|\\psi \\rangle$. The binary tree is represented by multi control rotation gates  and requires $\\log_2 n$ qubits to represent a vector of dimension $n$. \n"
   ]
  },
  {
   "cell_type": "markdown",
   "metadata": {},
   "source": [
    "### Level 1\n",
    "\n",
    "The probability of observing  $q_2=0$ is $\\sqrt{ 0.3 }$\n",
    "\n",
    "We  use a  parameterized RY gate \n",
    "\\begin{equation}\n",
    "R_Y(\\theta)= \\left( \\begin{array}{cc} \n",
    " \\cos\\left( \\frac{\\theta}{2} \\right) &  -\\sin\\left( \\frac{\\theta}{2} \\right)  \\\\\n",
    " \\sin\\left( \\frac{\\theta}{2} \\right)   &   \\cos\\left( \\frac{\\theta}{2} \\right) \\\\\n",
    " \\end{array} \\right)\n",
    "\\end{equation}\n",
    "to performs a rotation of one qubit along the $y$-axis by the rotation angle $\\theta$ (in radiants)\n",
    "\n",
    "\\begin{equation}\n",
    "\\theta_0= 1.98231=2 \\cdot \\arccos( \\sqrt{0.3} )\n",
    "\\end{equation}"
   ]
  },
  {
   "cell_type": "markdown",
   "metadata": {},
   "source": [
    "from qiskit import QuantumCircuit,QuantumRegister, Aer,execute\n",
    "from qiskit.visualization import plot_histogram\n",
    "from qiskit.circuit.library import MCXGate\n",
    "from qiskit.quantum_info import Statevector\n",
    "from qiskit.circuit.library import RYGate\n",
    "from math import pi"
   ]
  },
  {
   "cell_type": "code",
   "execution_count": 378,
   "metadata": {},
   "outputs": [],
   "source": [
    "from qiskit import QuantumCircuit,QuantumRegister, Aer,execute\n",
    "from qiskit.visualization import plot_histogram\n",
    "from qiskit.circuit.library import MCXGate\n",
    "from qiskit.quantum_info import Statevector\n",
    "from qiskit.circuit.library import RYGate\n",
    "from math import pi"
   ]
  },
  {
   "cell_type": "code",
   "execution_count": 379,
   "metadata": {},
   "outputs": [
    {
     "data": {
      "text/html": [
       "<pre style=\"word-wrap: normal;white-space: pre;background: #fff0;line-height: 1.1;font-family: &quot;Courier New&quot;,Courier,monospace\">   ┌────────────┐\n",
       "q: ┤ Ry(1.9823) ├\n",
       "   └────────────┘</pre>"
      ],
      "text/plain": [
       "   ┌────────────┐\n",
       "q: ┤ Ry(1.9823) ├\n",
       "   └────────────┘"
      ]
     },
     "execution_count": 379,
     "metadata": {},
     "output_type": "execute_result"
    }
   ],
   "source": [
    "qc = QuantumCircuit(1)\n",
    "\n",
    "#ang = Sqrt[0.3]\n",
    "#ArcCos[ang]*2\n",
    "qc.ry(1.98231,0)\n",
    "\n",
    "qc.draw()"
   ]
  },
  {
   "cell_type": "code",
   "execution_count": 380,
   "metadata": {},
   "outputs": [
    {
     "name": "stdout",
     "output_type": "stream",
     "text": [
      "\n",
      "Total count are: {'0': 0.300001453989211, '1': 0.699998546010789}\n"
     ]
    },
    {
     "data": {
      "image/png": "[encoded data removed]",
      "text/plain": [
       "<Figure size 504x360 with 1 Axes>"
      ]
     },
     "execution_count": 380,
     "metadata": {},
     "output_type": "execute_result"
    }
   ],
   "source": [
    "simulator = Aer.get_backend('statevector_simulator')\n",
    "result=execute(qc,simulator).result()\n",
    "counts = result.get_counts()\n",
    "print(\"\\nTotal count are:\",counts)\n",
    "plot_histogram(counts)"
   ]
  },
  {
   "cell_type": "markdown",
   "metadata": {},
   "source": [
    "The measured result representing the qubit in superposition $\\sqrt{0.3} \\cdot  |0 \\rangle + \\sqrt{0.7} \\cdot |1 \\rangle$"
   ]
  },
  {
   "cell_type": "markdown",
   "metadata": {},
   "source": [
    "### Level 2\n",
    "\n",
    "The probability of observing  $q_2q_1=10$ is $\\sqrt{ 0.4 }$;\n",
    "\\[\n",
    "  \\sqrt{0.1} \\cdot |100 \\rangle +  \\sqrt{0.3} \\cdot  |101 \\rangle  \n",
    "\\]\n",
    "and the probability of observing  $q_2q_1=11$  is $\\sqrt{0.3}$ since both values divide the probability of  observing $q_2=1$  $\\sqrt{0.7}$.\n",
    "To define the angle $\\theta_{10}$ we normalize the value $\\sqrt{0.4}$  by division of the probability of observing $q_2=1$\n",
    "\\begin{equation}\n",
    "\\theta_{10}=1.42745=2 \\cdot \\arccos\\left( \\frac{\\sqrt{0.4}}{\\sqrt{0.7}} \\right).\n",
    "\\end{equation}\n",
    "The  rotation generates a superposition\n",
    "\\begin{equation}\n",
    "RY_{\\theta_{10}}  \\sqrt{0.7} \\cdot |1 \\rangle=  \\sqrt{0.4} \\cdot |10 \\rangle  + \\sqrt{0.3} \\cdot |11 \\rangle.\n",
    "\\end{equation}\n",
    "Applying both rotations by two control rotation gates controlled by the qubit $q_2$ generates a superposition (see Figure \\ref{Num_Rept.eps})\n",
    "\\begin{equation}\n",
    " RY_{\\theta_{00}} \\sqrt{0.3} \\cdot  |0 \\rangle +RY_{\\theta_{10}}  \\sqrt{0.7} \\cdot |1 \\rangle= \\sqrt{0.1} \\cdot  |00 \\rangle + \\sqrt{0.2} \\cdot |01 \\rangle + \\sqrt{0.4} \\cdot |10 \\rangle  + \\sqrt{0.3} \\cdot |11 \\rangle.\n",
    "\\end{equation}\n",
    "The circuit of level 1 and 2 decomposition is represented as (see Figure \\ref{step_2.eps}). Since in the circuit only the two most important qubits (from the left) $ |q_2q_1q_0 \\rangle$ are represented, their identification $q_1q_0$  corresponds to the qubits qubits $q_2q_1$ in the final circuit of three qubits.\n"
   ]
  },
  {
   "cell_type": "code",
   "execution_count": 381,
   "metadata": {},
   "outputs": [
    {
     "data": {
      "text/html": [
       "<pre style=\"word-wrap: normal;white-space: pre;background: #fff0;line-height: 1.1;font-family: &quot;Courier New&quot;,Courier,monospace\">                    ░ ┌────────────┐     ┌────────────┐     \n",
       "q_0: ───────────────░─┤ Ry(1.4275) ├─────┤ Ry(1.9106) ├─────\n",
       "     ┌────────────┐ ░ └─────┬──────┘┌───┐└─────┬──────┘┌───┐\n",
       "q_1: ┤ Ry(1.9823) ├─░───────■───────┤ X ├──────■───────┤ X ├\n",
       "     └────────────┘ ░               └───┘              └───┘</pre>"
      ],
      "text/plain": [
       "                    ░ ┌────────────┐     ┌────────────┐     \n",
       "q_0: ───────────────░─┤ Ry(1.4275) ├─────┤ Ry(1.9106) ├─────\n",
       "     ┌────────────┐ ░ └─────┬──────┘┌───┐└─────┬──────┘┌───┐\n",
       "q_1: ┤ Ry(1.9823) ├─░───────■───────┤ X ├──────■───────┤ X ├\n",
       "     └────────────┘ ░               └───┘              └───┘"
      ]
     },
     "execution_count": 381,
     "metadata": {},
     "output_type": "execute_result"
    }
   ],
   "source": [
    "qc = QuantumCircuit(2)\n",
    "\n",
    "\n",
    "#ang = Sqrt[0.3]\n",
    "#ArcCos[ang]*2\n",
    "qc.ry(1.98231,1)\n",
    "qc.barrier()\n",
    "\n",
    "#ang = Sqrt[0.4]/Sqrt[0.7];\n",
    "#ArcCos[ang]*2\n",
    "qc.cry(1.42745,1,0)\n",
    "#ang = Sqrt[0.1]/Sqrt[0.3];\n",
    "#ArcCos[ang]*2\n",
    "qc.x(1)\n",
    "qc.cry(1.91063,1,0)\n",
    "qc.x(1)\n",
    "\n",
    "\n",
    "qc.draw()"
   ]
  },
  {
   "cell_type": "markdown",
   "metadata": {},
   "source": [
    "Circuit representing the controlled rotation of one q  qubit $\\sqrt{0.7} \\cdot  |1 \\rangle$  $\\theta_{10}=1.42745$ and qubit $\\sqrt{0.3} \\cdot  |0 \\rangle$  along the $y$-axis by the rotation angle $\\theta_{00}=1.91063$. Since in the circuit only the two most important qubits (from the left) $ |q_2q_1q_0 \\rangle$ are represented, their identification $q_1q_0$  corresponds to the qubits qubits $q_2q_1$ in the final circuit of three qubits. "
   ]
  },
  {
   "cell_type": "code",
   "execution_count": 382,
   "metadata": {},
   "outputs": [
    {
     "name": "stdout",
     "output_type": "stream",
     "text": [
      "\n",
      "Total count are: {'00': 0.100000942340276, '01': 0.200000511648936, '10': 0.399998738870189, '11': 0.2999998071406}\n"
     ]
    },
    {
     "data": {
      "image/png": "[encoded data removed]",
      "text/plain": [
       "<Figure size 504x360 with 1 Axes>"
      ]
     },
     "execution_count": 382,
     "metadata": {},
     "output_type": "execute_result"
    }
   ],
   "source": [
    "simulator = Aer.get_backend('statevector_simulator')\n",
    "result=execute(qc,simulator).result()\n",
    "counts = result.get_counts()\n",
    "print(\"\\nTotal count are:\",counts)\n",
    "plot_histogram(counts)"
   ]
  },
  {
   "cell_type": "markdown",
   "metadata": {},
   "source": [
    "The measured result representing the qubit in superposition  $\\sqrt{0.1} \\cdot  |00 \\rangle + \\sqrt{0.2} \\cdot |01 \\rangle + \\sqrt{0.4} \\cdot |10 \\rangle  + \\sqrt{0.3} \\cdot |11 \\rangle$."
   ]
  },
  {
   "cell_type": "markdown",
   "metadata": {},
   "source": [
    "#### Level 3\n",
    "\n",
    "Finally we estimated eight individual values $ |q_2q_1q_0 \\rangle$ by four rotations on the level three.\n",
    "\n",
    "The four multi control rotation gates are controlled by the qubits $q_2$ and $q_1$   resulting in the desired superposition $|\\psi \\rangle$, (see Figure \\ref{step_3.eps})\n",
    "\n",
    "\\begin{equation}\n",
    "|\\psi \\rangle =\\sqrt{0.03} \\cdot  |000 \\rangle + \\sqrt{0.07}  \\cdot |001 \\rangle +  \\sqrt{0.15} \\cdot |010 \\rangle + \\sqrt{0.05}  \\cdot |011 \\rangle+\n",
    "\\end{equation}\n",
    "\n",
    "\\begin{equation}\n",
    "+ \\sqrt{0.1} \\cdot |100 \\rangle +  \\sqrt{0.3} \\cdot  |101 \\rangle +    \\sqrt{0.2} \\cdot |110 \\rangle +  \\sqrt{0.1} \\cdot  |111 \\rangle\n",
    "\\end{equation}\n"
   ]
  },
  {
   "cell_type": "markdown",
   "metadata": {},
   "source": [
    " The top down binary tree  divides\n",
    "the probability of observing $ |q_2 \\rangle$ on the first level, to the probability of observing $ |q_2q_1 \\rangle$ on the second level and finally the probability of observing $ |q_2q_1q_0 \\rangle$ on the third level representing by multi control rotation gates. "
   ]
  },
  {
   "cell_type": "code",
   "execution_count": 383,
   "metadata": {},
   "outputs": [
    {
     "data": {
      "text/html": [
       "<pre style=\"word-wrap: normal;white-space: pre;background: #fff0;line-height: 1.1;font-family: &quot;Courier New&quot;,Courier,monospace\">                    ░                                        ░ ┌───────────┐     ┌────────────┐     ┌────────────┐     ┌────────────┐     \n",
       "q_0: ───────────────░────────────────────────────────────────░─┤ Ry(1.231) ├─────┤ Ry(2.0944) ├─────┤ Ry(1.0472) ├─────┤ Ry(1.9823) ├─────\n",
       "                    ░ ┌────────────┐     ┌────────────┐      ░ └─────┬─────┘┌───┐└─────┬──────┘┌───┐└─────┬──────┘┌───┐└─────┬──────┘┌───┐\n",
       "q_1: ───────────────░─┤ Ry(1.4275) ├─────┤ Ry(1.9106) ├──────░───────■──────┤ X ├──────■───────┤ X ├──────■───────┤ X ├──────■───────┤ X ├\n",
       "     ┌────────────┐ ░ └─────┬──────┘┌───┐└─────┬──────┘┌───┐ ░       │      └───┘      │       ├───┤      │       └───┘      │       ├───┤\n",
       "q_2: ┤ Ry(1.9823) ├─░───────■───────┤ X ├──────■───────┤ X ├─░───────■─────────────────■───────┤ X ├──────■──────────────────■───────┤ X ├\n",
       "     └────────────┘ ░               └───┘              └───┘ ░                                 └───┘                                 └───┘</pre>"
      ],
      "text/plain": [
       "                    ░                                        ░ ┌───────────┐     ┌────────────┐     ┌────────────┐     ┌────────────┐     \n",
       "q_0: ───────────────░────────────────────────────────────────░─┤ Ry(1.231) ├─────┤ Ry(2.0944) ├─────┤ Ry(1.0472) ├─────┤ Ry(1.9823) ├─────\n",
       "                    ░ ┌────────────┐     ┌────────────┐      ░ └─────┬─────┘┌───┐└─────┬──────┘┌───┐└─────┬──────┘┌───┐└─────┬──────┘┌───┐\n",
       "q_1: ───────────────░─┤ Ry(1.4275) ├─────┤ Ry(1.9106) ├──────░───────■──────┤ X ├──────■───────┤ X ├──────■───────┤ X ├──────■───────┤ X ├\n",
       "     ┌────────────┐ ░ └─────┬──────┘┌───┐└─────┬──────┘┌───┐ ░       │      └───┘      │       ├───┤      │       └───┘      │       ├───┤\n",
       "q_2: ┤ Ry(1.9823) ├─░───────■───────┤ X ├──────■───────┤ X ├─░───────■─────────────────■───────┤ X ├──────■──────────────────■───────┤ X ├\n",
       "     └────────────┘ ░               └───┘              └───┘ ░                                 └───┘                                 └───┘"
      ]
     },
     "execution_count": 383,
     "metadata": {},
     "output_type": "execute_result"
    }
   ],
   "source": [
    "qc = QuantumCircuit(3)\n",
    "\n",
    "#1\n",
    "#ang = Sqrt[0.3] a0\n",
    "#ArcCos[ang]*2\n",
    "qc.ry(1.98231,2)\n",
    "qc.barrier()\n",
    "#2\n",
    "#ang = Sqrt[0.4]/Sqrt[0.7]; a2\n",
    "#ArcCos[ang]*2\n",
    "qc.cry(1.42745,2,1)\n",
    "#ang = Sqrt[0.1]/Sqrt[0.3]; a1\n",
    "#ArcCos[ang]*2\n",
    "qc.x(2)\n",
    "qc.cry(1.91063,2,1)\n",
    "qc.x(2)\n",
    "qc.barrier()\n",
    "#3\n",
    "#ang = Sqrt[0.2]/(Sqrt[0.3]); a6\n",
    "#ArcCos[ang]*2\n",
    "ccry = RYGate(1.23096).control(2)\n",
    "qc.append(ccry,[2,1,0])\n",
    "#ang = Sqrt[0.1]/(Sqrt[0.4]); a5\n",
    "#ArcCos[ang]*2\n",
    "#ccry = RYGate(2.0944).control(2,label=None)\n",
    "ccry = RYGate(2.0944).control(2)\n",
    "qc.x(1)\n",
    "qc.append(ccry,[2,1,0])\n",
    "qc.x(1)\n",
    "\n",
    "qc.x(2)\n",
    "#ang = Sqrt[0.15]/(Sqrt[0.2]); a4\n",
    "#ArcCos[ang]*2\n",
    "ccry = RYGate(1.0472).control(2)\n",
    "qc.append(ccry,[2,1,0])\n",
    "#ang = Sqrt[0.03]/(Sqrt[0.1]); a3\n",
    "#ArcCos[ang]*2\n",
    "ccry = RYGate(1.98231).control(2)\n",
    "qc.x(1)\n",
    "qc.append(ccry,[2,1,0])\n",
    "qc.x(1)\n",
    "qc.x(2)\n",
    "\n",
    "\n",
    "qc.draw(fold=150)"
   ]
  },
  {
   "cell_type": "markdown",
   "metadata": {},
   "source": [
    "The top down binary tree  divides\n",
    "the probability of observing $ |q_2 \\rangle$ on the first level, to the probability of observing $ |q_2q_1 \\rangle$ on the second level and finally the probability of observing $ |q_2q_1q_0 \\rangle$ on the third level representing by multi control rotation gates."
   ]
  },
  {
   "cell_type": "code",
   "execution_count": 384,
   "metadata": {},
   "outputs": [
    {
     "name": "stdout",
     "output_type": "stream",
     "text": [
      "\n",
      "Total count are: {'000': 0.030000428102374, '001': 0.070000514237902, '010': 0.150000171663414, '011': 0.050000339985522, '100': 0.099998836431039, '101': 0.29999990243915, '110': 0.199999789026653, '111': 0.100000018113947}\n"
     ]
    },
    {
     "data": {
      "image/png": "[encoded data removed]",
      "text/plain": [
       "<Figure size 504x360 with 1 Axes>"
      ]
     },
     "execution_count": 384,
     "metadata": {},
     "output_type": "execute_result"
    }
   ],
   "source": [
    "simulator = Aer.get_backend('statevector_simulator')\n",
    "result=execute(qc,simulator).result()\n",
    "counts = result.get_counts()\n",
    "print(\"\\nTotal count are:\",counts)\n",
    "plot_histogram(counts)"
   ]
  },
  {
   "cell_type": "markdown",
   "metadata": {},
   "source": [
    " The amplitudes of the superposition $|\\psi \\rangle$."
   ]
  },
  {
   "cell_type": "markdown",
   "metadata": {},
   "source": [
    "## Combining States\n",
    "\n",
    "Instead of  representing the binary tree by multi control rotation gates we can use controlled SWAP operators with simple rotation gates. \n"
   ]
  },
  {
   "cell_type": "markdown",
   "metadata": {},
   "source": [
    "### Level 2\n",
    "\n",
    "The binary tree at level two is represented by three qubits, to each qubit a rotation gate is applied. To the qubit $1$ we apply the rotation $\\theta_0= 1.98231$, to the qubit $0$  we apply  the rotation $\\theta_{10}=1.42745$ and to qubit $2$ we apply  the rotation $\\theta_{00}=1.9106$. The value of the qubit  $1$ controls the swap operation and the measured tensor product of qubit $2$ with qubit $1$ represents the required distribution of the two qubits representing four states"
   ]
  },
  {
   "cell_type": "code",
   "execution_count": 385,
   "metadata": {},
   "outputs": [
    {
     "data": {
      "text/html": [
       "<pre style=\"word-wrap: normal;white-space: pre;background: #fff0;line-height: 1.1;font-family: &quot;Courier New&quot;,Courier,monospace\">     ┌────────────┐ ░          \n",
       "q_0: ┤ Ry(1.4275) ├─░──X───────\n",
       "     ├────────────┤ ░  │    ┌─┐\n",
       "q_1: ┤ Ry(1.9106) ├─░──■────┤M├\n",
       "     ├────────────┤ ░  │ ┌─┐└╥┘\n",
       "q_2: ┤ Ry(1.9106) ├─░──X─┤M├─╫─\n",
       "     └────────────┘ ░    └╥┘ ║ \n",
       "c: 2/═════════════════════╩══╩═\n",
       "                          0  1 </pre>"
      ],
      "text/plain": [
       "     ┌────────────┐ ░          \n",
       "q_0: ┤ Ry(1.4275) ├─░──X───────\n",
       "     ├────────────┤ ░  │    ┌─┐\n",
       "q_1: ┤ Ry(1.9106) ├─░──■────┤M├\n",
       "     ├────────────┤ ░  │ ┌─┐└╥┘\n",
       "q_2: ┤ Ry(1.9106) ├─░──X─┤M├─╫─\n",
       "     └────────────┘ ░    └╥┘ ║ \n",
       "c: 2/═════════════════════╩══╩═\n",
       "                          0  1 "
      ]
     },
     "execution_count": 385,
     "metadata": {},
     "output_type": "execute_result"
    }
   ],
   "source": [
    "qc = QuantumCircuit(3,2)\n",
    "\n",
    "qc.ry(1.42745,0) #ok\n",
    "qc.ry(1.91063,1) #ok\n",
    "qc.ry(1.91063,2) #ok\n",
    "\n",
    "qc.barrier()\n",
    "\n",
    "qc.cswap(1,0,2)\n",
    "\n",
    "#Measuring 0 1 \n",
    "qc.measure(2,0)\n",
    "qc.measure(1,1)\n",
    "\n",
    "qc.draw()"
   ]
  },
  {
   "cell_type": "markdown",
   "metadata": {},
   "source": [
    "The binary tree at level two is represented by three qubits, to each qubit a rotation gate is applied. To the qubit $1$ we apply the rotation $\\theta_0= 1.98231$, to the qubit $0$  we apply  the rotation $\\theta_{10}=1.42745$ and to qubit $2$ we apply  the rotation $\\theta_{00}=1.9106$. The value of the qubit  $1$ controls the swap operation and the measured tensor product of qubit $1$ with qubit $2$ represents the required distribution of the two qubits representing four states"
   ]
  },
  {
   "cell_type": "code",
   "execution_count": 386,
   "metadata": {},
   "outputs": [
    {
     "name": "stdout",
     "output_type": "stream",
     "text": [
      "\n",
      "Total count are: {'01': 2274, '00': 1153, '11': 2825, '10': 3748}\n"
     ]
    },
    {
     "data": {
      "image/png": "[encoded data removed]",
      "text/plain": [
       "<Figure size 504x360 with 1 Axes>"
      ]
     },
     "execution_count": 386,
     "metadata": {},
     "output_type": "execute_result"
    }
   ],
   "source": [
    "simulator = Aer.get_backend('qasm_simulator')\n",
    "\n",
    "result=execute(qc,simulator,shots=10000).result()\n",
    "\n",
    "counts = result.get_counts()\n",
    "\n",
    "print(\"\\nTotal count are:\",counts)\n",
    "plot_histogram(counts)"
   ]
  },
  {
   "cell_type": "markdown",
   "metadata": {},
   "source": [
    "The required distribution of the two qubits representing four states."
   ]
  },
  {
   "cell_type": "markdown",
   "metadata": {},
   "source": [
    "### Level 3\n",
    "\n",
    "The binary tree at level three is represented by seven qubits, to each qubit a rotation gate is applied. To the qubit $3$ we apply the rotation $\\theta_0= 1.98231$, to the qubit $1$  we apply  the rotation $\\theta_{10}=1.42745$ and to qubit $5$ we apply  the rotation $\\theta_{00}=1.9106$.  The value of the qubit  $3$ controls the swap operation. For the level three we apply the additional four rotations, we apply the rotation  $\\theta_{110}=1.23096$ to the qubit $0$, $\\theta_{100}=2.0944$ to the qubit $2$, $\\theta_{010}=1.0472$ to the qubit 4 and $\\theta_{000}=1.98231$ to the qubit $6$. The qubit $1$ and $5$ representing the level $2$ control the rotation of the two sub-trees. The two sub-trees are merged with the results of level one by the controlled SWAP operation  controlled by the qubit $3$. The measured tensor product of qubit $3$ with qubit $5$ and $3$ represents the required distribution of the three qubits representing eight states"
   ]
  },
  {
   "cell_type": "code",
   "execution_count": 387,
   "metadata": {},
   "outputs": [
    {
     "data": {
      "text/html": [
       "<pre style=\"word-wrap: normal;white-space: pre;background: #fff0;line-height: 1.1;font-family: &quot;Courier New&quot;,Courier,monospace\">     ┌───────────┐  ░     ░                \n",
       "q_0: ┤ Ry(1.231) ├──░──X──░────────────────\n",
       "     ├───────────┴┐ ░  │  ░                \n",
       "q_1: ┤ Ry(1.4275) ├─░──■──░──X─────────────\n",
       "     ├────────────┤ ░  │  ░  │             \n",
       "q_2: ┤ Ry(2.0944) ├─░──X──░──┼──X──────────\n",
       "     ├────────────┤ ░     ░  │  │       ┌─┐\n",
       "q_3: ┤ Ry(1.9106) ├─░─────░──■──■───────┤M├\n",
       "     ├────────────┤ ░     ░  │  │       └╥┘\n",
       "q_4: ┤ Ry(1.0472) ├─░──X──░──┼──┼────────╫─\n",
       "     ├────────────┤ ░  │  ░  │  │ ┌─┐    ║ \n",
       "q_5: ┤ Ry(1.9106) ├─░──■──░──X──┼─┤M├────╫─\n",
       "     ├────────────┤ ░  │  ░     │ └╥┘┌─┐ ║ \n",
       "q_6: ┤ Ry(1.9823) ├─░──X──░─────X──╫─┤M├─╫─\n",
       "     └────────────┘ ░     ░        ║ └╥┘ ║ \n",
       "c: 3/══════════════════════════════╩══╩══╩═\n",
       "                                   1  0  2 </pre>"
      ],
      "text/plain": [
       "     ┌───────────┐  ░     ░                \n",
       "q_0: ┤ Ry(1.231) ├──░──X──░────────────────\n",
       "     ├───────────┴┐ ░  │  ░                \n",
       "q_1: ┤ Ry(1.4275) ├─░──■──░──X─────────────\n",
       "     ├────────────┤ ░  │  ░  │             \n",
       "q_2: ┤ Ry(2.0944) ├─░──X──░──┼──X──────────\n",
       "     ├────────────┤ ░     ░  │  │       ┌─┐\n",
       "q_3: ┤ Ry(1.9106) ├─░─────░──■──■───────┤M├\n",
       "     ├────────────┤ ░     ░  │  │       └╥┘\n",
       "q_4: ┤ Ry(1.0472) ├─░──X──░──┼──┼────────╫─\n",
       "     ├────────────┤ ░  │  ░  │  │ ┌─┐    ║ \n",
       "q_5: ┤ Ry(1.9106) ├─░──■──░──X──┼─┤M├────╫─\n",
       "     ├────────────┤ ░  │  ░     │ └╥┘┌─┐ ║ \n",
       "q_6: ┤ Ry(1.9823) ├─░──X──░─────X──╫─┤M├─╫─\n",
       "     └────────────┘ ░     ░        ║ └╥┘ ║ \n",
       "c: 3/══════════════════════════════╩══╩══╩═\n",
       "                                   1  0  2 "
      ]
     },
     "execution_count": 387,
     "metadata": {},
     "output_type": "execute_result"
    }
   ],
   "source": [
    "qc = QuantumCircuit(7,3)\n",
    "\n",
    "qc.ry(1.23096,0)\n",
    "qc.ry(1.42745,1)\n",
    "qc.ry(2.0944,2)\n",
    "qc.ry(1.91063,3)\n",
    "qc.ry(1.0472,4)\n",
    "qc.ry(1.91063,5)\n",
    "qc.ry(1.98231,6)\n",
    "qc.barrier()\n",
    "\n",
    "qc.cswap(1,0,2)\n",
    "qc.cswap(5,4,6)\n",
    "\n",
    "qc.barrier()\n",
    "\n",
    "qc.cswap(3,1,5)\n",
    "qc.cswap(3,2,6)\n",
    "\n",
    "#Measuring 0 1 3\n",
    "\n",
    "qc.measure(6,0)\n",
    "qc.measure(5,1)\n",
    "qc.measure(3,2)\n",
    "\n",
    "qc.draw()"
   ]
  },
  {
   "cell_type": "markdown",
   "metadata": {},
   "source": [
    "The binary tree at level three is represented by seven qubits, to each qubit a rotation gate is applied. To the qubit $3$ we apply the rotation $\\theta_0= 1.98231$, to the qubit $1$  we apply  the rotation $\\theta_{10}=1.42745$ and to qubit $5$ we apply  the rotation $\\theta_{00}=1.9106$.  The value of the qubit  $3$ controls the swap operation. For the level three we apply the additional four rotations, we apply the rotation  $\\theta_{110}=1.23096$ to the qubit $0$, $\\theta_{100}=2.0944$ to the qubit $2$, $\\theta_{010}=1.0472$ to the qubit 4 and $\\theta_{000}=1.98231$ to the qubit $6$. The qubit $1$ and $5$ representing the level $2$ control the rotation of the two sub-trees. The two sub-trees are merged with the results of level one by the controlled SWAP operation  controlled by the qubit $3$. The measured tensor product of qubit $3$ with qubit $5$ and $3$ represents the required distribution of the three qubits representing eight states."
   ]
  },
  {
   "cell_type": "code",
   "execution_count": 388,
   "metadata": {},
   "outputs": [
    {
     "name": "stdout",
     "output_type": "stream",
     "text": [
      "\n",
      "Total count are: {'011': 564, '111': 974, '110': 1944, '001': 806, '100': 939, '101': 2829, '000': 328, '010': 1616}\n"
     ]
    },
    {
     "data": {
      "image/png": "[encoded data removed]",
      "text/plain": [
       "<Figure size 504x360 with 1 Axes>"
      ]
     },
     "execution_count": 388,
     "metadata": {},
     "output_type": "execute_result"
    }
   ],
   "source": [
    "simulator = Aer.get_backend('qasm_simulator')\n",
    "\n",
    "result=execute(qc,simulator,shots=10000).result()\n",
    "\n",
    "counts = result.get_counts()\n",
    "\n",
    "print(\"\\nTotal count are:\",counts)\n",
    "plot_histogram(counts)"
   ]
  },
  {
   "cell_type": "markdown",
   "metadata": {},
   "source": [
    "The required distribution of the three qubits representing eight states."
   ]
  },
  {
   "cell_type": "markdown",
   "metadata": {},
   "source": [
    "## Qiskit Amplitude Coding\n",
    "\n",
    "Qiskit offers through the commands desired_state  and $initialize(desired$ $state, qubits)$ a possibility to initialize the desired states and through the $decompose$ command to indicate the resulting quantum circut"
   ]
  },
  {
   "cell_type": "code",
   "execution_count": 389,
   "metadata": {},
   "outputs": [],
   "source": [
    "import math"
   ]
  },
  {
   "cell_type": "code",
   "execution_count": 390,
   "metadata": {},
   "outputs": [
    {
     "data": {
      "text/html": [
       "<pre style=\"word-wrap: normal;white-space: pre;background: #fff0;line-height: 1.1;font-family: &quot;Courier New&quot;,Courier,monospace\">            ┌────────────┐                              ┌───┐┌─────────────┐┌───┐┌─────────────┐┌───┐┌───────────────┐┌───┐\n",
       "q_0: ─|0>───┤ Ry(1.5887) ├──────────────────────────────┤ X ├┤ Ry(0.44964) ├┤ X ├┤ Ry(0.01792) ├┤ X ├┤ Ry(-0.073961) ├┤ X ├\n",
       "           ┌┴────────────┴┐ ┌───┐┌────────────────┐┌───┐└─┬─┘└─────────────┘└─┬─┘└─────────────┘└─┬─┘└───────────────┘└─┬─┘\n",
       "q_1: ─|0>──┤ R(1.669,π/2) ├─┤ X ├┤ R(0.24159,π/2) ├┤ X ├──■───────────────────┼───────────────────■─────────────────────┼──\n",
       "          ┌┴──────────────┴┐└─┬─┘└────────────────┘└─┬─┘                      │                                         │  \n",
       "q_2: ─|0>─┤ U3(1.9823,0,0) ├──■──────────────────────■────────────────────────■─────────────────────────────────────────■──\n",
       "          └────────────────┘                                                                                               </pre>"
      ],
      "text/plain": [
       "            ┌────────────┐                              ┌───┐┌─────────────┐┌───┐┌─────────────┐┌───┐┌───────────────┐┌───┐\n",
       "q_0: ─|0>───┤ Ry(1.5887) ├──────────────────────────────┤ X ├┤ Ry(0.44964) ├┤ X ├┤ Ry(0.01792) ├┤ X ├┤ Ry(-0.073961) ├┤ X ├\n",
       "           ┌┴────────────┴┐ ┌───┐┌────────────────┐┌───┐└─┬─┘└─────────────┘└─┬─┘└─────────────┘└─┬─┘└───────────────┘└─┬─┘\n",
       "q_1: ─|0>──┤ R(1.669,π/2) ├─┤ X ├┤ R(0.24159,π/2) ├┤ X ├──■───────────────────┼───────────────────■─────────────────────┼──\n",
       "          ┌┴──────────────┴┐└─┬─┘└────────────────┘└─┬─┘                      │                                         │  \n",
       "q_2: ─|0>─┤ U3(1.9823,0,0) ├──■──────────────────────■────────────────────────■─────────────────────────────────────────■──\n",
       "          └────────────────┘                                                                                               "
      ]
     },
     "execution_count": 390,
     "metadata": {},
     "output_type": "execute_result"
    }
   ],
   "source": [
    "desired_state = [\n",
    "    math.sqrt(0.03),\n",
    "    math.sqrt(0.07),\n",
    "    math.sqrt(0.15),\n",
    "    math.sqrt(0.05),\n",
    "    math.sqrt(0.1),\n",
    "    math.sqrt(0.3),\n",
    "    math.sqrt(0.2),\n",
    "    math.sqrt(0.1),\n",
    "]\n",
    "qc = QuantumCircuit(3)\n",
    "qc.initialize(desired_state, [0,1,2])\n",
    "\n",
    "qc.decompose().decompose().decompose().decompose().decompose().decompose().draw(fold=180)"
   ]
  },
  {
   "cell_type": "code",
   "execution_count": 391,
   "metadata": {},
   "outputs": [
    {
     "name": "stdout",
     "output_type": "stream",
     "text": [
      "\n",
      "Total count are: {'000': 0.03, '001': 0.07, '010': 0.15, '011': 0.05, '100': 0.1, '101': 0.3, '110': 0.2, '111': 0.1}\n"
     ]
    },
    {
     "data": {
      "image/png": "[encoded data removed]",
      "text/plain": [
       "<Figure size 504x360 with 1 Axes>"
      ]
     },
     "execution_count": 391,
     "metadata": {},
     "output_type": "execute_result"
    }
   ],
   "source": [
    "simulator = Aer.get_backend('statevector_simulator')\n",
    "result=execute(qc,simulator).result()\n",
    "counts = result.get_counts()\n",
    "print(\"\\nTotal count are:\",counts)\n",
    "plot_histogram(counts)"
   ]
  },
  {
   "cell_type": "markdown",
   "metadata": {},
   "source": [
    "he quantum circuit generating the amplitudes of the superposition $|\\psi \\rangle$."
   ]
  },
  {
   "cell_type": "markdown",
   "metadata": {},
   "source": [
    "## Swap Test\n",
    "\n",
    "We cannot access the amplitudes that represent vectors, but\n",
    "we estimate $\\langle x | y \\rangle$ using the  swap test. Each state represents a normalized vector for the dimension $n$ represented by $m=\\log_2 n$ qubits.\n",
    "Note that the quantum  $| x \\rangle$ and $| y \\rangle$  are of length one in the $l_2$ norm."
   ]
  },
  {
   "cell_type": "markdown",
   "metadata": {},
   "source": [
    "The probability of measuring the control qubit in state  $|0 \\rangle$ is given by\n",
    "\\begin{equation}\n",
    "p(|0 \\rangle)= \\left| \\frac{1}{2} \\cdot \\langle 0 |0 \\rangle \\cdot \\left( | 0,x, y \\rangle+| 1,y, x \\rangle  \\right) + \\frac{1}{2} \\cdot  \\langle 0 |1 \\rangle \\cdot \\left( | 0,x, y \\rangle - | 1,y, x \\rangle  \\right) \\right|^2\n",
    "\\end{equation}\n",
    "\n",
    "\\begin{equation}\n",
    "p(|0 \\rangle)= \\frac{1}{4} \\cdot  \\left|  \\left( | x \\rangle | y \\rangle+|y \\rangle |x \\rangle  \\right) \\right|^2\n",
    "\\end{equation}\n",
    "\n",
    "\\begin{equation}\n",
    "p(|0 \\rangle)= \\frac{1}{4} \\cdot  \\left( \\langle y  | y \\rangle \\langle x  | x \\rangle  \n",
    "+\\langle y  | x \\rangle \\langle x  | y \\rangle+\\langle x  | y \\rangle \\langle y  | x \\rangle\n",
    "+\\langle x  | x \\rangle \\langle y  | y \\rangle  \n",
    "  \\right) \n",
    "\\end{equation}\n",
    "\n",
    "\\begin{equation}\n",
    "p(|0 \\rangle)= \\frac{1}{4} \\cdot  \\left( 1\n",
    "+\\langle y  | x \\rangle \\langle x  | y \\rangle+\\langle x  | y \\rangle \\langle y  | x \\rangle\n",
    "+ 1  \n",
    "  \\right) \n",
    "\\end{equation}\n",
    "\n",
    "\\begin{equation}\n",
    "p(|0 \\rangle)= \\frac{1}{2} +\n",
    "  \\frac{1}{4}  \\cdot  \\left( \\langle y  | x \\rangle \\langle x  | y \\rangle+\\langle x  | y \\rangle \\langle y  | x \\rangle\n",
    "  \\right) \n",
    "\\end{equation}\n",
    "\n",
    "\\begin{equation}\n",
    "p(|0 \\rangle)= \\frac{1}{2} +  \\frac{1}{2} |  \\langle x  | y \\rangle |^2\n",
    "\\end{equation}\n",
    "and\n",
    "\\begin{equation}\n",
    "p(|1 \\rangle)= \\frac{1}{2} -  \\frac{1}{2} |  \\langle x  | y \\rangle |^2\n",
    "\\end{equation}\n",
    "with\n",
    "\\begin{equation}\n",
    " |  \\langle x  | y \\rangle | \\approx \\sqrt{  2 \\cdot p(|0 \\rangle) -1  }=\\sqrt{1- 2 \\cdot p(|1 \\rangle)}.\n",
    "\\end{equation}\n",
    "The probability $p(|0 \\rangle)=0.5$ means that the states $| x \\rangle$ and $| y \\rangle$ are orthogonal, whereas the probability  $p(|0 \\rangle)=1$ indicates that the states are identical.\n",
    "We have to preform several measurements to estimate $p(|0 \\rangle)$ or $p((|1 \\rangle)$."
   ]
  },
  {
   "cell_type": "markdown",
   "metadata": {},
   "source": [
    "### Example for Two Dimensional Vectors\n",
    "\n",
    "\\begin{equation}\n",
    "\\textbf{x}=\n",
    "\\left( \\begin{array}{c}\n",
    "\\sqrt{0.5} \\\\\n",
    "\\sqrt{0.5}\\\\\n",
    "\\end{array}\n",
    "\\right),~~~~\n",
    "\\textbf{y}=\n",
    "\\left( \\begin{array}{c}\n",
    "\\sqrt{0.5} \\\\\n",
    "-\\sqrt{0.5}\\\\\n",
    "\\end{array}\n",
    "\\right).\n",
    "\\end{equation}\n",
    "\n",
    "Qubit $0$ represents the vector $ \\textbf{x}$ and qubit  $1$  the vector $ \\textbf{y}$.  After $10000$ shots we measure $p(|0 \\rangle) \\approx 0.5010$ \n",
    "\\begin{equation}\n",
    " |  \\langle \\textbf{x} | \\textbf{y} \\rangle | \\approx \\sqrt{  2 \\cdot 0.501-1}=0.045.  \n",
    "\\end{equation}\n",
    "\n"
   ]
  },
  {
   "cell_type": "code",
   "execution_count": 392,
   "metadata": {},
   "outputs": [
    {
     "data": {
      "text/html": [
       "<pre style=\"word-wrap: normal;white-space: pre;background: #fff0;line-height: 1.1;font-family: &quot;Courier New&quot;,Courier,monospace\">           ░ ┌───┐      ░            \n",
       "q_0: ──────░─┤ H ├──────░──X─────────\n",
       "           ░ ├───┤┌───┐ ░  │         \n",
       "q_1: ──────░─┤ X ├┤ H ├─░──X─────────\n",
       "     ┌───┐ ░ └───┘└───┘ ░  │ ┌───┐┌─┐\n",
       "q_2: ┤ H ├─░────────────░──■─┤ H ├┤M├\n",
       "     └───┘ ░            ░    └───┘└╥┘\n",
       "c: 1/══════════════════════════════╩═\n",
       "                                   0 </pre>"
      ],
      "text/plain": [
       "           ░ ┌───┐      ░            \n",
       "q_0: ──────░─┤ H ├──────░──X─────────\n",
       "           ░ ├───┤┌───┐ ░  │         \n",
       "q_1: ──────░─┤ X ├┤ H ├─░──X─────────\n",
       "     ┌───┐ ░ └───┘└───┘ ░  │ ┌───┐┌─┐\n",
       "q_2: ┤ H ├─░────────────░──■─┤ H ├┤M├\n",
       "     └───┘ ░            ░    └───┘└╥┘\n",
       "c: 1/══════════════════════════════╩═\n",
       "                                   0 "
      ]
     },
     "execution_count": 392,
     "metadata": {},
     "output_type": "execute_result"
    }
   ],
   "source": [
    "qc = QuantumCircuit(3,1)\n",
    "\n",
    "qc.h(2)\n",
    "qc.barrier()\n",
    "qc.h(0)\n",
    "qc.x(1)\n",
    "qc.h(1)\n",
    "\n",
    "qc.barrier()\n",
    "qc.cswap(2,0,1)\n",
    "qc.h(2)\n",
    "\n",
    "qc.measure(2,0)\n",
    "\n",
    "qc.draw(fold=200)"
   ]
  },
  {
   "cell_type": "code",
   "execution_count": 393,
   "metadata": {},
   "outputs": [
    {
     "name": "stdout",
     "output_type": "stream",
     "text": [
      "\n",
      "Total count are: {'0': 5045, '1': 4955}\n"
     ]
    },
    {
     "data": {
      "image/png": "[encoded data removed]",
      "text/plain": [
       "<Figure size 504x360 with 1 Axes>"
      ]
     },
     "execution_count": 393,
     "metadata": {},
     "output_type": "execute_result"
    }
   ],
   "source": [
    "simulator = Aer.get_backend('qasm_simulator')\n",
    "result=execute(qc,simulator,shots=10000).result()\n",
    "counts = result.get_counts()\n",
    "print(\"\\nTotal count are:\",counts)\n",
    "\n",
    "plot_histogram(counts)"
   ]
  },
  {
   "cell_type": "markdown",
   "metadata": {},
   "source": [
    "After $10000$ shots we measure $p(|0 \\rangle)=0.5010$. Note that the results are probabilistic and that they might slightly differ from run to run."
   ]
  },
  {
   "cell_type": "markdown",
   "metadata": {},
   "source": [
    "### Example for Four Dimensional Vectors\n",
    "\n",
    "\\begin{equation}\n",
    "\\textbf{x}=\n",
    "\\left( \\begin{array}{c}\n",
    "\\sqrt{0.1} \\\\\n",
    "\\sqrt{0.2}\\\\\n",
    "\\sqrt{0.4}\\\\\n",
    "\\sqrt{0.3}\\\\\n",
    "\\end{array}\n",
    "\\right),~~~~\n",
    "\\textbf{y}=\n",
    "\\left( \\begin{array}{c}\n",
    "0\\\\\n",
    "0\\\\\n",
    "\\sqrt{0.5} \\\\\n",
    "\\sqrt{0.5}\\\\\n",
    "\\end{array}\n",
    "\\right).\n",
    "\\end{equation}\n",
    "with\n",
    "\\begin{equation}\n",
    "\\langle \\textbf{x} | \\textbf{x} \\rangle=\\|| \\textbf{x} \\rangle\\|_2=1,~~\\langle \\textbf{y}  | \\textbf{y} \\rangle=\\|| \\textbf{y} \\rangle\\|_2=1.\n",
    "\\end{equation}\n",
    "and\n",
    "\\begin{equation}\n",
    "\\langle \\textbf{x} | \\textbf{y} \\rangle=0.8345\n",
    "\\end{equation}\n",
    "\n"
   ]
  },
  {
   "cell_type": "code",
   "execution_count": 394,
   "metadata": {},
   "outputs": [
    {
     "data": {
      "text/html": [
       "<pre style=\"word-wrap: normal;white-space: pre;background: #fff0;line-height: 1.1;font-family: &quot;Courier New&quot;,Courier,monospace\">           ░                ░ ┌────────────┐     ┌────────────┐      ░       ░               \n",
       "q_0: ──────░────────────────░─┤ Ry(1.4275) ├─────┤ Ry(1.9106) ├──────░───────░──X────────────\n",
       "           ░ ┌────────────┐ ░ └─────┬──────┘┌───┐└─────┬──────┘┌───┐ ░       ░  │            \n",
       "q_1: ──────░─┤ Ry(1.9823) ├─░───────■───────┤ X ├──────■───────┤ X ├─░───────░──┼──X─────────\n",
       "           ░ └────────────┘ ░               └───┘              └───┘ ░ ┌───┐ ░  │  │         \n",
       "q_2: ──────░────────────────░────────────────────────────────────────░─┤ H ├─░──X──┼─────────\n",
       "           ░                ░                                        ░ ├───┤ ░  │  │         \n",
       "q_3: ──────░────────────────░────────────────────────────────────────░─┤ X ├─░──┼──X─────────\n",
       "     ┌───┐ ░                ░                                        ░ └───┘ ░  │  │ ┌───┐┌─┐\n",
       "q_4: ┤ H ├─░────────────────░────────────────────────────────────────░───────░──■──■─┤ H ├┤M├\n",
       "     └───┘ ░                ░                                        ░       ░       └───┘└╥┘\n",
       "c: 1/══════════════════════════════════════════════════════════════════════════════════════╩═\n",
       "                                                                                           0 </pre>"
      ],
      "text/plain": [
       "           ░                ░ ┌────────────┐     ┌────────────┐      ░       ░               \n",
       "q_0: ──────░────────────────░─┤ Ry(1.4275) ├─────┤ Ry(1.9106) ├──────░───────░──X────────────\n",
       "           ░ ┌────────────┐ ░ └─────┬──────┘┌───┐└─────┬──────┘┌───┐ ░       ░  │            \n",
       "q_1: ──────░─┤ Ry(1.9823) ├─░───────■───────┤ X ├──────■───────┤ X ├─░───────░──┼──X─────────\n",
       "           ░ └────────────┘ ░               └───┘              └───┘ ░ ┌───┐ ░  │  │         \n",
       "q_2: ──────░────────────────░────────────────────────────────────────░─┤ H ├─░──X──┼─────────\n",
       "           ░                ░                                        ░ ├───┤ ░  │  │         \n",
       "q_3: ──────░────────────────░────────────────────────────────────────░─┤ X ├─░──┼──X─────────\n",
       "     ┌───┐ ░                ░                                        ░ └───┘ ░  │  │ ┌───┐┌─┐\n",
       "q_4: ┤ H ├─░────────────────░────────────────────────────────────────░───────░──■──■─┤ H ├┤M├\n",
       "     └───┘ ░                ░                                        ░       ░       └───┘└╥┘\n",
       "c: 1/══════════════════════════════════════════════════════════════════════════════════════╩═\n",
       "                                                                                           0 "
      ]
     },
     "execution_count": 394,
     "metadata": {},
     "output_type": "execute_result"
    }
   ],
   "source": [
    "qc = QuantumCircuit(5,1)\n",
    "\n",
    "qc.h(4)\n",
    "qc.barrier()\n",
    "#ang = Sqrt[0.3]\n",
    "#ArcCos[ang]*2\n",
    "qc.ry(1.98231,1)\n",
    "qc.barrier()\n",
    "#ang = Sqrt[0.4]/Sqrt[0.7];\n",
    "#ArcCos[ang]*2\n",
    "qc.cry(1.42745,1,0)\n",
    "#ang = Sqrt[0.1]/Sqrt[0.3];\n",
    "#ArcCos[ang]*2\n",
    "qc.x(1)\n",
    "qc.cry(1.91063,1,0)\n",
    "qc.x(1)\n",
    "qc.barrier()\n",
    "qc.h(2)\n",
    "qc.x(3)\n",
    "qc.barrier()\n",
    "qc.cswap(4,0,2)\n",
    "qc.cswap(4,1,3)\n",
    "qc.h(4)\n",
    "qc.measure(4,0)\n",
    "\n",
    "qc.draw(fold=200)"
   ]
  },
  {
   "cell_type": "markdown",
   "metadata": {},
   "source": [
    "Qubits $0$ and $1$ represents the vector $ \\textbf{x}$, qubits  $2$ and $3$  the vector $ \\textbf{y}$"
   ]
  },
  {
   "cell_type": "code",
   "execution_count": 395,
   "metadata": {},
   "outputs": [
    {
     "data": {
      "image/png": "[encoded data removed]",
      "text/plain": [
       "<Figure size 504x360 with 1 Axes>"
      ]
     },
     "execution_count": 395,
     "metadata": {},
     "output_type": "execute_result"
    }
   ],
   "source": [
    "simulator = Aer.get_backend('qasm_simulator')\n",
    "result=execute(qc,simulator,shots=10000).result()\n",
    "counts = result.get_counts()\n",
    "plot_histogram(counts)"
   ]
  },
  {
   "cell_type": "markdown",
   "metadata": {},
   "source": [
    "after $10000$ shots we measure $p(|0 \\rangle) \\approx 0.8479$\n",
    "\\begin{equation}\n",
    " |  \\langle \\textbf{x} | \\textbf{y} \\rangle | \\approx \\sqrt{  2 \\cdot 0.8479-1}=0.8345. \n",
    "\\end{equation}\n"
   ]
  }
 ],
 "metadata": {
  "kernelspec": {
   "display_name": "base",
   "language": "python",
   "name": "python3"
  },
  "language_info": {
   "codemirror_mode": {
    "name": "ipython",
    "version": 3
   },
   "file_extension": ".py",
   "mimetype": "text/x-python",
   "name": "python",
   "nbconvert_exporter": "python",
   "pygments_lexer": "ipython3",
   "version": "3.9.12"
  },
  "orig_nbformat": 4
 },
 "nbformat": 4,
 "nbformat_minor": 2
}
